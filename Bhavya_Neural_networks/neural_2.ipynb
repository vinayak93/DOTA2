{
 "cells": [
  {
   "cell_type": "code",
   "execution_count": 117,
   "metadata": {},
   "outputs": [],
   "source": [
    "#!pip install tensorflow\n",
    "#!pip install pandas as pd\n",
    "#!pip install numpy as np\n",
    "#!pip install --upgrade pip"
   ]
  },
  {
   "cell_type": "code",
   "execution_count": 118,
   "metadata": {},
   "outputs": [],
   "source": [
    "import pandas as pd\n",
    "import numpy as np"
   ]
  },
  {
   "cell_type": "code",
   "execution_count": 119,
   "metadata": {},
   "outputs": [],
   "source": [
    "df = pd.read_csv(\"hero_selection_final.csv\")"
   ]
  },
  {
   "cell_type": "code",
   "execution_count": 120,
   "metadata": {},
   "outputs": [],
   "source": [
    "df1 = pd.read_csv(\"hero_names.csv\")"
   ]
  },
  {
   "cell_type": "code",
   "execution_count": 121,
   "metadata": {},
   "outputs": [],
   "source": [
    "matrix2 =np.array(df1.loc[:,['hero_id', 'Strength','Agility','Intelligence']])"
   ]
  },
  {
   "cell_type": "code",
   "execution_count": 122,
   "metadata": {},
   "outputs": [
    {
     "data": {
      "text/plain": [
       "113"
      ]
     },
     "execution_count": 122,
     "metadata": {},
     "output_type": "execute_result"
    }
   ],
   "source": [
    "len(matrix2)"
   ]
  },
  {
   "cell_type": "code",
   "execution_count": 123,
   "metadata": {},
   "outputs": [],
   "source": [
    "df2 = pd.read_csv(\"hero_selection.csv\")\n",
    "#df2"
   ]
  },
  {
   "cell_type": "code",
   "execution_count": 124,
   "metadata": {},
   "outputs": [],
   "source": [
    "matrix3 =np.array(df2.loc[:,['target']])"
   ]
  },
  {
   "cell_type": "code",
   "execution_count": 125,
   "metadata": {},
   "outputs": [],
   "source": [
    "'''Hero_id prediction of hero5 will contain the data of hero1, hero2, hero3, hero4.'''\n",
    "matrix4 =np.array(df2.loc[:,[ 'Hero1','Hero2','Hero3','Hero4']])\n",
    "matrix5 = np.array(df2.loc[:,[ 'Hero5']])\n",
    "'''Hero_id prediction of hero2 will contain the data of hero1.'''\n",
    "matrix43 =np.array(df2.loc[:,[ 'Hero1']])\n",
    "matrix53 = np.array(df2.loc[:,[ 'Hero2']])\n",
    "'''Hero_id prediction of hero3 will contain the data of hero1, hero2.'''\n",
    "matrix42 =np.array(df2.loc[:,[ 'Hero1','Hero2']])\n",
    "matrix52 = np.array(df2.loc[:,[ 'Hero3']])\n",
    "'''Hero_id prediction of hero4 will contain the data of hero1, hero2, hero3'''\n",
    "matrix41 =np.array(df2.loc[:,[ 'Hero1','Hero2','Hero3']])\n",
    "matrix51 = np.array(df2.loc[:,[ 'Hero4']])"
   ]
  },
  {
   "cell_type": "code",
   "execution_count": 126,
   "metadata": {},
   "outputs": [
    {
     "data": {
      "text/plain": [
       "array([['28/29/11/75/94/'],\n",
       "       ['74/35/5/70/62/'],\n",
       "       ['42/26/32/97/104/'],\n",
       "       ...,\n",
       "       ['112/44/69/39/57/'],\n",
       "       ['30/20/6/2/48/'],\n",
       "       ['29/30/25/6/72/']], dtype=object)"
      ]
     },
     "execution_count": 126,
     "metadata": {},
     "output_type": "execute_result"
    }
   ],
   "source": [
    "matrix3"
   ]
  },
  {
   "cell_type": "code",
   "execution_count": 127,
   "metadata": {},
   "outputs": [],
   "source": [
    "''' target variable contains the category of next hero picked in the next pick. '''\n",
    "def test_train(matrix4, matrix5):\n",
    "    feature_matrixes = matrix4\n",
    "    target_features = matrix5\n",
    "    train_data = feature_matrixes[0:40000]\n",
    "    test_data = feature_matrixes[40000:50000]\n",
    "    train_target = target_features[0:40000]\n",
    "    test_target = target_features[40000:50000]\n",
    "    \n",
    "    return train_data, train_target, test_data, test_target"
   ]
  },
  {
   "cell_type": "code",
   "execution_count": 139,
   "metadata": {},
   "outputs": [],
   "source": [
    "train_data5, final_index5, test_data5, final_index_test5 = test_train(matrix4[0:50000], matrix5[0:50000])\n",
    "train_data4, final_index4, test_data4, final_index_test4 = test_train(matrix41[0:50000], matrix51[0:50000])\n",
    "train_data3, final_index3, test_data3, final_index_test3 = test_train(matrix42[0:50000], matrix52[0:50000])\n",
    "train_data2, final_index2, test_data2, final_index_test2 = test_train(matrix43[0:50000], matrix53[0:50000])"
   ]
  },
  {
   "cell_type": "code",
   "execution_count": 140,
   "metadata": {},
   "outputs": [],
   "source": [
    "import tensorflow as tf\n",
    "from tensorflow import keras\n",
    "from tensorflow.keras import layers\n",
    "from tensorflow.keras.models import Sequential\n",
    "from tensorflow.keras.layers import Dense\n",
    "from tensorflow.keras.utils import to_categorical"
   ]
  },
  {
   "cell_type": "code",
   "execution_count": 160,
   "metadata": {},
   "outputs": [
    {
     "name": "stdout",
     "output_type": "stream",
     "text": [
      "Model: \"functional_61\"\n",
      "_________________________________________________________________\n",
      "Layer (type)                 Output Shape              Param #   \n",
      "=================================================================\n",
      "input_32 (InputLayer)        [(None, 4)]               0         \n",
      "_________________________________________________________________\n",
      "embedding_31 (Embedding)     (None, 4, 114)            4560000   \n",
      "_________________________________________________________________\n",
      "bidirectional_60 (Bidirectio (None, 4, 700)            1302000   \n",
      "_________________________________________________________________\n",
      "bidirectional_61 (Bidirectio (None, 700)               2942800   \n",
      "_________________________________________________________________\n",
      "dense_30 (Dense)             (None, 113)               79213     \n",
      "=================================================================\n",
      "Total params: 8,884,013\n",
      "Trainable params: 8,884,013\n",
      "Non-trainable params: 0\n",
      "_________________________________________________________________\n",
      "Model: \"functional_63\"\n",
      "_________________________________________________________________\n",
      "Layer (type)                 Output Shape              Param #   \n",
      "=================================================================\n",
      "input_33 (InputLayer)        [(None, 3)]               0         \n",
      "_________________________________________________________________\n",
      "embedding_32 (Embedding)     (None, 3, 114)            4560000   \n",
      "_________________________________________________________________\n",
      "bidirectional_62 (Bidirectio (None, 3, 700)            1302000   \n",
      "_________________________________________________________________\n",
      "bidirectional_63 (Bidirectio (None, 700)               2942800   \n",
      "_________________________________________________________________\n",
      "dense_31 (Dense)             (None, 113)               79213     \n",
      "=================================================================\n",
      "Total params: 8,884,013\n",
      "Trainable params: 8,884,013\n",
      "Non-trainable params: 0\n",
      "_________________________________________________________________\n",
      "Model: \"functional_65\"\n",
      "_________________________________________________________________\n",
      "Layer (type)                 Output Shape              Param #   \n",
      "=================================================================\n",
      "input_34 (InputLayer)        [(None, 2)]               0         \n",
      "_________________________________________________________________\n",
      "embedding_33 (Embedding)     (None, 2, 114)            4560000   \n",
      "_________________________________________________________________\n",
      "bidirectional_64 (Bidirectio (None, 2, 700)            1302000   \n",
      "_________________________________________________________________\n",
      "bidirectional_65 (Bidirectio (None, 700)               2942800   \n",
      "_________________________________________________________________\n",
      "dense_32 (Dense)             (None, 113)               79213     \n",
      "=================================================================\n",
      "Total params: 8,884,013\n",
      "Trainable params: 8,884,013\n",
      "Non-trainable params: 0\n",
      "_________________________________________________________________\n",
      "Model: \"functional_67\"\n",
      "_________________________________________________________________\n",
      "Layer (type)                 Output Shape              Param #   \n",
      "=================================================================\n",
      "input_35 (InputLayer)        [(None, 1)]               0         \n",
      "_________________________________________________________________\n",
      "embedding_34 (Embedding)     (None, 1, 114)            4560000   \n",
      "_________________________________________________________________\n",
      "bidirectional_66 (Bidirectio (None, 1, 700)            1302000   \n",
      "_________________________________________________________________\n",
      "bidirectional_67 (Bidirectio (None, 700)               2942800   \n",
      "_________________________________________________________________\n",
      "dense_33 (Dense)             (None, 113)               79213     \n",
      "=================================================================\n",
      "Total params: 8,884,013\n",
      "Trainable params: 8,884,013\n",
      "Non-trainable params: 0\n",
      "_________________________________________________________________\n"
     ]
    }
   ],
   "source": [
    "# Build the model.\n",
    "inputs5 = keras.Input(shape=(4,), dtype=\"int32\")\n",
    "x5 = layers.Embedding(40000, 114)(inputs5)\n",
    "x5 = layers.Bidirectional(layers.LSTM(350, return_sequences=True))(x5)\n",
    "x5 = layers.Bidirectional(layers.LSTM(350))(x5)\n",
    "outputs5 = layers.Dense(113, activation=\"softmax\")(x5)\n",
    "model5 = keras.Model(inputs5, outputs5)\n",
    "model5.summary()\n",
    "\n",
    "\n",
    "inputs4 = keras.Input(shape=(3,), dtype=\"int32\")\n",
    "x4 = layers.Embedding(40000, 114)(inputs4)\n",
    "x4 = layers.Bidirectional(layers.LSTM(350, return_sequences=True))(x4)\n",
    "x4 = layers.Bidirectional(layers.LSTM(350))(x4)\n",
    "outputs4 = layers.Dense(113, activation=\"softmax\")(x4)\n",
    "model4 = keras.Model(inputs4, outputs4)\n",
    "model4.summary()\n",
    "\n",
    "\n",
    "inputs3 = keras.Input(shape=(2,), dtype=\"int32\")\n",
    "x3 = layers.Embedding(40000, 114)(inputs3)\n",
    "x3 = layers.Bidirectional(layers.LSTM(350, return_sequences=True))(x3)\n",
    "x3 = layers.Bidirectional(layers.LSTM(350))(x3)\n",
    "outputs3 = layers.Dense(113, activation=\"softmax\")(x3)\n",
    "model3 = keras.Model(inputs3, outputs3)\n",
    "model3.summary()\n",
    "\n",
    "\n",
    "inputs2 = keras.Input(shape=(1,), dtype=\"int32\")\n",
    "x2 = layers.Embedding(40000, 114)(inputs2)\n",
    "x2 = layers.Bidirectional(layers.LSTM(350, return_sequences=True))(x2)\n",
    "x2 = layers.Bidirectional(layers.LSTM(350))(x2)\n",
    "outputs2 = layers.Dense(113, activation=\"softmax\")(x2)\n",
    "model2 = keras.Model(inputs2, outputs2)\n",
    "model2.summary()\n",
    "\n",
    "\n"
   ]
  },
  {
   "cell_type": "code",
   "execution_count": 161,
   "metadata": {},
   "outputs": [],
   "source": [
    "# Compile the model.\n",
    "model5.compile(\"adam\", \"categorical_crossentropy\", metrics=[\"accuracy\"])\n",
    "model4.compile(\"adam\", \"categorical_crossentropy\", metrics=[\"accuracy\"])\n",
    "model3.compile(\"adam\", \"categorical_crossentropy\", metrics=[\"accuracy\"])\n",
    "model2.compile(\"adam\", \"categorical_crossentropy\", metrics=[\"accuracy\"])"
   ]
  },
  {
   "cell_type": "code",
   "execution_count": 162,
   "metadata": {},
   "outputs": [
    {
     "name": "stdout",
     "output_type": "stream",
     "text": [
      "Epoch 1/5\n",
      "625/625 [==============================] - 57s 91ms/step - loss: 4.2458 - accuracy: 0.0435\n",
      "Epoch 2/5\n",
      "625/625 [==============================] - 58s 93ms/step - loss: 4.1153 - accuracy: 0.0503\n",
      "Epoch 3/5\n",
      "625/625 [==============================] - 56s 90ms/step - loss: 4.0788 - accuracy: 0.0532\n",
      "Epoch 4/5\n",
      "625/625 [==============================] - 57s 91ms/step - loss: 4.0510 - accuracy: 0.0558\n",
      "Epoch 5/5\n",
      "625/625 [==============================] - 57s 91ms/step - loss: 4.0185 - accuracy: 0.0602\n",
      "Epoch 1/7\n",
      "625/625 [==============================] - 49s 78ms/step - loss: 4.3169 - accuracy: 0.0370\n",
      "Epoch 2/7\n",
      "625/625 [==============================] - 49s 78ms/step - loss: 4.2089 - accuracy: 0.0478\n",
      "Epoch 3/7\n",
      "625/625 [==============================] - 49s 79ms/step - loss: 4.1737 - accuracy: 0.0505\n",
      "Epoch 4/7\n",
      "625/625 [==============================] - 50s 79ms/step - loss: 4.1452 - accuracy: 0.0543\n",
      "Epoch 5/7\n",
      "625/625 [==============================] - 49s 79ms/step - loss: 4.1133 - accuracy: 0.0573\n",
      "Epoch 6/7\n",
      "625/625 [==============================] - 49s 79ms/step - loss: 4.0680 - accuracy: 0.0616\n",
      "Epoch 7/7\n",
      "625/625 [==============================] - 48s 77ms/step - loss: 3.9896 - accuracy: 0.0710\n",
      "Epoch 1/7\n",
      "625/625 [==============================] - 43s 69ms/step - loss: 4.3118 - accuracy: 0.0382\n",
      "Epoch 2/7\n",
      "625/625 [==============================] - 43s 69ms/step - loss: 4.2333 - accuracy: 0.0446\n",
      "Epoch 3/7\n",
      "625/625 [==============================] - 44s 70ms/step - loss: 4.2111 - accuracy: 0.0476\n",
      "Epoch 4/7\n",
      "625/625 [==============================] - 48s 77ms/step - loss: 4.1933 - accuracy: 0.0483\n",
      "Epoch 5/7\n",
      "625/625 [==============================] - 44s 70ms/step - loss: 4.1739 - accuracy: 0.0503\n",
      "Epoch 6/7\n",
      "625/625 [==============================] - 41s 65ms/step - loss: 4.1515 - accuracy: 0.0534\n",
      "Epoch 7/7\n",
      "625/625 [==============================] - 41s 66ms/step - loss: 4.1177 - accuracy: 0.0558\n",
      "Epoch 1/7\n",
      "625/625 [==============================] - 37s 58ms/step - loss: 4.1277 - accuracy: 0.0600\n",
      "Epoch 2/7\n",
      "625/625 [==============================] - 36s 57ms/step - loss: 4.0536 - accuracy: 0.0667\n",
      "Epoch 3/7\n",
      "625/625 [==============================] - 35s 55ms/step - loss: 4.0349 - accuracy: 0.0683\n",
      "Epoch 4/7\n",
      "625/625 [==============================] - 36s 58ms/step - loss: 4.0235 - accuracy: 0.0689\n",
      "Epoch 5/7\n",
      "625/625 [==============================] - 39s 63ms/step - loss: 4.0141 - accuracy: 0.0702\n",
      "Epoch 6/7\n",
      "625/625 [==============================] - 36s 58ms/step - loss: 4.0057 - accuracy: 0.0715\n",
      "Epoch 7/7\n",
      "625/625 [==============================] - 34s 55ms/step - loss: 3.9980 - accuracy: 0.0715\n"
     ]
    },
    {
     "data": {
      "text/plain": [
       "<tensorflow.python.keras.callbacks.History at 0x7fc0194ca590>"
      ]
     },
     "execution_count": 162,
     "metadata": {},
     "output_type": "execute_result"
    }
   ],
   "source": [
    "#model.fit(train_data, train_target, batch_size=30, epochs=100)\n",
    "model5.fit(\n",
    "  train_data5,\n",
    "  to_categorical(final_index5),\n",
    "  epochs=5,\n",
    "  batch_size=64\n",
    ")\n",
    "\n",
    "model4.fit(\n",
    "  train_data4,\n",
    "  to_categorical(final_index4),\n",
    "  epochs=7,\n",
    "  batch_size=64\n",
    ")\n",
    "\n",
    "model3.fit(\n",
    "  train_data3,\n",
    "  to_categorical(final_index3),\n",
    "  epochs=7,\n",
    "  batch_size=64\n",
    ")\n",
    "\n",
    "model2.fit(\n",
    "  train_data2,\n",
    "  to_categorical(final_index2),\n",
    "  epochs=7,\n",
    "  batch_size=64\n",
    ")\n",
    "\n"
   ]
  },
  {
   "cell_type": "code",
   "execution_count": 164,
   "metadata": {},
   "outputs": [
    {
     "name": "stdout",
     "output_type": "stream",
     "text": [
      "313/313 [==============================] - 5s 16ms/step - loss: 4.1321 - accuracy: 0.0491\n",
      "313/313 [==============================] - 4s 12ms/step - loss: 4.3224 - accuracy: 0.0405\n",
      "313/313 [==============================] - 3s 9ms/step - loss: 4.2975 - accuracy: 0.0416\n",
      "313/313 [==============================] - 2s 5ms/step - loss: 4.0979 - accuracy: 0.0687\n"
     ]
    },
    {
     "data": {
      "text/plain": [
       "[4.097927570343018, 0.06870000064373016]"
      ]
     },
     "execution_count": 164,
     "metadata": {},
     "output_type": "execute_result"
    }
   ],
   "source": [
    "model5.evaluate(\n",
    "  test_data5,\n",
    "  to_categorical(final_index_test5)\n",
    ")\n",
    "\n",
    "\n",
    "\n",
    "model4.evaluate(\n",
    "  test_data4,\n",
    "  to_categorical(final_index_test4)\n",
    ")\n",
    "\n",
    "model3.evaluate(\n",
    "  test_data3,\n",
    "  to_categorical(final_index_test3)\n",
    ")\n",
    "\n",
    "model2.evaluate(\n",
    "  test_data2,\n",
    "  to_categorical(final_index_test2)\n",
    ")\n",
    "\n"
   ]
  },
  {
   "cell_type": "code",
   "execution_count": 165,
   "metadata": {},
   "outputs": [],
   "source": [
    "predictions5 = model5.predict(test_data5)\n",
    "predictions4 = model4.predict(test_data4)\n",
    "predictions3 = model3.predict(test_data3)\n",
    "predictions2 = model2.predict(test_data2)"
   ]
  },
  {
   "cell_type": "code",
   "execution_count": 166,
   "metadata": {},
   "outputs": [
    {
     "data": {
      "text/plain": [
       "array([ 42,  21, 106, ...,  42,  21,  26])"
      ]
     },
     "execution_count": 166,
     "metadata": {},
     "output_type": "execute_result"
    }
   ],
   "source": [
    "y_pred5 = np.argmax(predictions5, axis=1)\n",
    "y_pred4 = np.argmax(predictions4, axis=1)\n",
    "y_pred3 = np.argmax(predictions3, axis=1)\n",
    "y_pred2 = np.argmax(predictions2, axis=1)\n",
    "y_pred5"
   ]
  },
  {
   "cell_type": "code",
   "execution_count": 274,
   "metadata": {},
   "outputs": [
    {
     "name": "stdout",
     "output_type": "stream",
     "text": [
      "Prediction accuracy for 5th hero: [4.91]\n",
      "Prediction accuracy for 4th hero: [4.05]\n",
      "Prediction accuracy for 3rd hero: [4.16]\n",
      "Prediction accuracy for 2nd hero: [6.87]\n"
     ]
    }
   ],
   "source": [
    "'''Self test is used. final_index_test5 contains the test target for 5th hero.\n",
    "    Similarly, final_index_test4 is for 4th hero, final_index_test3 is for 3rd hero, \n",
    "    final_index_test4 is for 2nd hero.\n",
    "'''\n",
    "my_ytest5 = np.array(final_index_test5)\n",
    "my_ytest4 = np.array(final_index_test4)\n",
    "my_ytest3 = np.array(final_index_test3)\n",
    "my_ytest2 = np.array(final_index_test2)\n",
    "\n",
    "my_ytest_finalhero5 = my_ytest5\n",
    "my_ytest_finalhero4 = my_ytest4\n",
    "my_ytest_finalhero3 = my_ytest3\n",
    "my_ytest_finalhero2 = my_ytest2\n",
    "\n",
    "#my_ytest_finalhero\n",
    "my_ypred5 = np.array(y_pred5)\n",
    "my_ypred4 = np.array(y_pred4)\n",
    "my_ypred3 = np.array(y_pred3)\n",
    "my_ypred2 = np.array(y_pred2)\n",
    "\n",
    "my_ypred_finalhero5 = my_ypred5\n",
    "my_ypred_finalhero4 = my_ypred4\n",
    "my_ypred_finalhero3 = my_ypred3\n",
    "my_ypred_finalhero2 = my_ypred2\n",
    "\n",
    "#my_ypred_finalhero\n",
    "totals = my_ytest5.shape[0]\n",
    "#totals\n",
    "num_correct5 = sum(p == t for p, t in zip(my_ypred_finalhero5, my_ytest_finalhero5))\n",
    "num_correct4 = sum(p == t for p, t in zip(my_ypred_finalhero4, my_ytest_finalhero4))\n",
    "num_correct3 = sum(p == t for p, t in zip(my_ypred_finalhero3, my_ytest_finalhero3))\n",
    "num_correct2 = sum(p == t for p, t in zip(my_ypred_finalhero2, my_ytest_finalhero2))\n",
    "\n",
    "#num_correct\n",
    "total5 = (num_correct5/totals)*100\n",
    "total4 = (num_correct4/totals)*100\n",
    "total3 = (num_correct3/totals)*100\n",
    "total2 = (num_correct2/totals)*100\n",
    "\n",
    "print(\"Prediction accuracy for 5th hero:\", total5)\n",
    "print(\"Prediction accuracy for 4th hero:\", total4)\n",
    "print(\"Prediction accuracy for 3rd hero:\", total3)\n",
    "print(\"Prediction accuracy for 2nd hero:\", total2)"
   ]
  },
  {
   "cell_type": "code",
   "execution_count": 369,
   "metadata": {},
   "outputs": [
    {
     "name": "stdout",
     "output_type": "stream",
     "text": [
      "f1 0.06335993954800864 0.06893680981772168 0.07043029835403149 0.06448237605955645 0.07446085226862487 0.07266659973719312 0.06589729030841775\n",
      "accuracy 0.04215851602023609 0.045454545454545456 0.04591406908171862 0.043649676147564063 0.05218135158254919 0.04885872917951881 0.04442545920546775\n",
      "precision 0.2170737390294639 0.23315392822034237 0.2352798299381638 0.21362403243058894 0.2394566572952263 0.22675434720152676 0.220605660895159\n"
     ]
    }
   ],
   "source": [
    "from sklearn.metrics import accuracy_score, precision_score\n",
    "from sklearn.metrics import f1_score\n",
    "#testing table of heros\n",
    "test1 = my_ytest5[5065:8623]\n",
    "test2 = my_ytest5[4374:8026]\n",
    "test3 = my_ytest5[4372:6746]\n",
    "test4 = my_ytest5[5809: 9360]\n",
    "test5 = my_ytest5[8477:9646]\n",
    "test6 = my_ytest5[201:8306]\n",
    "test7 = my_ytest5[4863:9545]\n",
    "pred1 = my_ypred5[5065:8623]\n",
    "pred2 = my_ypred5[4374:8026]\n",
    "pred3 = my_ypred5[4372:6746]\n",
    "pred4 = my_ypred5[5809: 9360]\n",
    "pred5 = my_ypred5[8477:9646]\n",
    "pred6 = my_ypred5[201:8306]\n",
    "pred7 = my_ypred5[4863:9545]\n",
    "\n",
    "score1 = f1_score(pred1, test1, average='weighted')\n",
    "score2 = f1_score(pred2, test2, average='weighted')\n",
    "score3 = f1_score(pred3, test3, average='weighted')\n",
    "score4 = f1_score(pred4, test4, average='weighted')\n",
    "score5 = f1_score(pred5, test5, average='weighted')\n",
    "score6 = f1_score(pred6, test6, average='weighted')\n",
    "score7 = f1_score(pred7, test7, average='weighted')\n",
    "\n",
    "print(\"f1\", score1, score2, score3, score4, score5, score6, score7)\n",
    "\n",
    "score1 = accuracy_score(pred1, test1)\n",
    "score2 = accuracy_score(pred2, test2)\n",
    "score3 = accuracy_score(pred3, test3)\n",
    "score4 = accuracy_score(pred4, test4)\n",
    "score5 = accuracy_score(pred5, test5)\n",
    "score6 = accuracy_score(pred6, test6)\n",
    "score7 = accuracy_score(pred7, test7)\n",
    "\n",
    "print(\"accuracy\",score1, score2, score3, score4, score5, score6, score7)\n",
    "\n",
    "score1 = precision_score(pred1, test1, average='weighted')\n",
    "score2 = precision_score(pred2, test2, average='weighted')\n",
    "score3 = precision_score(pred3, test3, average='weighted')\n",
    "score4 = precision_score(pred4, test4, average='weighted')\n",
    "score5 = precision_score(pred5, test5, average='weighted')\n",
    "score6 = precision_score(pred6, test6, average='weighted')\n",
    "score7 = precision_score(pred7, test7, average='weighted')\n",
    "\n",
    "print(\"precision\", score1, score2, score3, score4, score5, score6, score7)"
   ]
  },
  {
   "cell_type": "code",
   "execution_count": 370,
   "metadata": {},
   "outputs": [
    {
     "name": "stdout",
     "output_type": "stream",
     "text": [
      "f1 0.045431659584494744 0.04529102755009231 0.05226189751490244 0.03947821642770995 0.041144993262515014 0.05278453275369548 0.04410599410800554\n",
      "accuracy 0.034288926363125354 0.033953997809419496 0.038331929233361414 0.03041396789636722 0.03165098374679213 0.04096236890808143 0.033532678342588634\n",
      "precision 0.09010944619952115 0.09306450850963206 0.11043892299078757 0.07428581385553615 0.07222850888063816 0.09688834894822795 0.08389300594897331\n"
     ]
    }
   ],
   "source": [
    "from sklearn.metrics import accuracy_score, precision_score\n",
    "from sklearn.metrics import f1_score\n",
    "#testing table of heros\n",
    "test1 = my_ytest4[5065:8623]\n",
    "test2 = my_ytest4[4374:8026]\n",
    "test3 = my_ytest4[4372:6746]\n",
    "test4 = my_ytest4[5809: 9360]\n",
    "test5 = my_ytest4[8477:9646]\n",
    "test6 = my_ytest4[201:8306]\n",
    "test7 = my_ytest4[4863:9545]\n",
    "pred1 = my_ypred4[5065:8623]\n",
    "pred2 = my_ypred4[4374:8026]\n",
    "pred3 = my_ypred4[4372:6746]\n",
    "pred4 = my_ypred4[5809: 9360]\n",
    "pred5 = my_ypred4[8477:9646]\n",
    "pred6 = my_ypred4[201:8306]\n",
    "pred7 = my_ypred4[4863:9545]\n",
    "\n",
    "score1 = f1_score(pred1, test1, average='weighted')\n",
    "score2 = f1_score(pred2, test2, average='weighted')\n",
    "score3 = f1_score(pred3, test3, average='weighted')\n",
    "score4 = f1_score(pred4, test4, average='weighted')\n",
    "score5 = f1_score(pred5, test5, average='weighted')\n",
    "score6 = f1_score(pred6, test6, average='weighted')\n",
    "score7 = f1_score(pred7, test7, average='weighted')\n",
    "\n",
    "print(\"f1\", score1, score2, score3, score4, score5, score6, score7)\n",
    "\n",
    "score1 = accuracy_score(pred1, test1)\n",
    "score2 = accuracy_score(pred2, test2)\n",
    "score3 = accuracy_score(pred3, test3)\n",
    "score4 = accuracy_score(pred4, test4)\n",
    "score5 = accuracy_score(pred5, test5)\n",
    "score6 = accuracy_score(pred6, test6)\n",
    "score7 = accuracy_score(pred7, test7)\n",
    "\n",
    "print(\"accuracy\",score1, score2, score3, score4, score5, score6, score7)\n",
    "\n",
    "score1 = precision_score(pred1, test1, average='weighted')\n",
    "score2 = precision_score(pred2, test2, average='weighted')\n",
    "score3 = precision_score(pred3, test3, average='weighted')\n",
    "score4 = precision_score(pred4, test4, average='weighted')\n",
    "score5 = precision_score(pred5, test5, average='weighted')\n",
    "score6 = precision_score(pred6, test6, average='weighted')\n",
    "score7 = precision_score(pred7, test7, average='weighted')\n",
    "\n",
    "print(\"precision\", score1, score2, score3, score4, score5, score6, score7)"
   ]
  },
  {
   "cell_type": "code",
   "execution_count": 371,
   "metadata": {},
   "outputs": [
    {
     "name": "stdout",
     "output_type": "stream",
     "text": [
      "f1 0.061176677072742006 0.05903918757484577 0.05876554789664961 0.05684266068866324 0.04631493411143558 0.060805982997660414 0.054905045029433684\n",
      "accuracy 0.04272062956717257 0.04134720700985761 0.041280539174389216 0.03970712475359054 0.032506415739948676 0.04268969771745836 0.03865869286629645\n",
      "precision 0.16503768481833433 0.16603859832220239 0.17091680200556741 0.1574214934493028 0.11898453999504943 0.1603848249568875 0.1503004433995962\n"
     ]
    }
   ],
   "source": [
    "from sklearn.metrics import accuracy_score, precision_score\n",
    "from sklearn.metrics import f1_score\n",
    "#testing table of heros\n",
    "test1 = my_ytest3[5065:8623]\n",
    "test2 = my_ytest3[4374:8026]\n",
    "test3 = my_ytest3[4372:6746]\n",
    "test4 = my_ytest3[5809: 9360]\n",
    "test5 = my_ytest3[8477:9646]\n",
    "test6 = my_ytest3[201:8306]\n",
    "test7 = my_ytest3[4863:9545]\n",
    "pred1 = my_ypred3[5065:8623]\n",
    "pred2 = my_ypred3[4374:8026]\n",
    "pred3 = my_ypred3[4372:6746]\n",
    "pred4 = my_ypred3[5809: 9360]\n",
    "pred5 = my_ypred3[8477:9646]\n",
    "pred6 = my_ypred3[201:8306]\n",
    "pred7 = my_ypred3[4863:9545]\n",
    "\n",
    "score1 = f1_score(pred1, test1, average='weighted')\n",
    "score2 = f1_score(pred2, test2, average='weighted')\n",
    "score3 = f1_score(pred3, test3, average='weighted')\n",
    "score4 = f1_score(pred4, test4, average='weighted')\n",
    "score5 = f1_score(pred5, test5, average='weighted')\n",
    "score6 = f1_score(pred6, test6, average='weighted')\n",
    "score7 = f1_score(pred7, test7, average='weighted')\n",
    "\n",
    "print(\"f1\", score1, score2, score3, score4, score5, score6, score7)\n",
    "\n",
    "score1 = accuracy_score(pred1, test1)\n",
    "score2 = accuracy_score(pred2, test2)\n",
    "score3 = accuracy_score(pred3, test3)\n",
    "score4 = accuracy_score(pred4, test4)\n",
    "score5 = accuracy_score(pred5, test5)\n",
    "score6 = accuracy_score(pred6, test6)\n",
    "score7 = accuracy_score(pred7, test7)\n",
    "\n",
    "print(\"accuracy\",score1, score2, score3, score4, score5, score6, score7)\n",
    "\n",
    "score1 = precision_score(pred1, test1, average='weighted')\n",
    "score2 = precision_score(pred2, test2, average='weighted')\n",
    "score3 = precision_score(pred3, test3, average='weighted')\n",
    "score4 = precision_score(pred4, test4, average='weighted')\n",
    "score5 = precision_score(pred5, test5, average='weighted')\n",
    "score6 = precision_score(pred6, test6, average='weighted')\n",
    "score7 = precision_score(pred7, test7, average='weighted')\n",
    "\n",
    "print(\"precision\", score1, score2, score3, score4, score5, score6, score7)"
   ]
  },
  {
   "cell_type": "code",
   "execution_count": 372,
   "metadata": {},
   "outputs": [
    {
     "name": "stdout",
     "output_type": "stream",
     "text": [
      "f1 0.08756196280496142 0.09075416144402339 0.10053377903580961 0.08579401199260682 0.0987816287840959 0.10163556281292227 0.09094258574757627\n",
      "accuracy 0.0581787521079258 0.059967141292442495 0.06571187868576242 0.05660377358490566 0.0641573994867408 0.06872301048735349 0.0598035027765912\n",
      "precision 0.2597890741976389 0.2703525941604563 0.29203531916102826 0.2660200361150947 0.3013136368680326 0.2924826823848245 0.27013767657936383\n"
     ]
    }
   ],
   "source": [
    "from sklearn.metrics import accuracy_score, precision_score\n",
    "from sklearn.metrics import f1_score\n",
    "#testing table of heros\n",
    "test1 = my_ytest2[5065:8623]\n",
    "test2 = my_ytest2[4374:8026]\n",
    "test3 = my_ytest2[4372:6746]\n",
    "test4 = my_ytest2[5809: 9360]\n",
    "test5 = my_ytest2[8477:9646]\n",
    "test6 = my_ytest2[201:8306]\n",
    "test7 = my_ytest2[4863:9545]\n",
    "pred1 = my_ypred2[5065:8623]\n",
    "pred2 = my_ypred2[4374:8026]\n",
    "pred3 = my_ypred2[4372:6746]\n",
    "pred4 = my_ypred2[5809: 9360]\n",
    "pred5 = my_ypred2[8477:9646]\n",
    "pred6 = my_ypred2[201:8306]\n",
    "pred7 = my_ypred2[4863:9545]\n",
    "\n",
    "score1 = f1_score(pred1, test1, average='weighted')\n",
    "score2 = f1_score(pred2, test2, average='weighted')\n",
    "score3 = f1_score(pred3, test3, average='weighted')\n",
    "score4 = f1_score(pred4, test4, average='weighted')\n",
    "score5 = f1_score(pred5, test5, average='weighted')\n",
    "score6 = f1_score(pred6, test6, average='weighted')\n",
    "score7 = f1_score(pred7, test7, average='weighted')\n",
    "\n",
    "print(\"f1\", score1, score2, score3, score4, score5, score6, score7)\n",
    "\n",
    "score1 = accuracy_score(pred1, test1)\n",
    "score2 = accuracy_score(pred2, test2)\n",
    "score3 = accuracy_score(pred3, test3)\n",
    "score4 = accuracy_score(pred4, test4)\n",
    "score5 = accuracy_score(pred5, test5)\n",
    "score6 = accuracy_score(pred6, test6)\n",
    "score7 = accuracy_score(pred7, test7)\n",
    "\n",
    "print(\"accuracy\",score1, score2, score3, score4, score5, score6, score7)\n",
    "\n",
    "score1 = precision_score(pred1, test1, average='weighted')\n",
    "score2 = precision_score(pred2, test2, average='weighted')\n",
    "score3 = precision_score(pred3, test3, average='weighted')\n",
    "score4 = precision_score(pred4, test4, average='weighted')\n",
    "score5 = precision_score(pred5, test5, average='weighted')\n",
    "score6 = precision_score(pred6, test6, average='weighted')\n",
    "score7 = precision_score(pred7, test7, average='weighted')\n",
    "\n",
    "print(\"precision\", score1, score2, score3, score4, score5, score6, score7)"
   ]
  }
 ],
 "metadata": {
  "kernelspec": {
   "display_name": "Python 3",
   "language": "python",
   "name": "python3"
  },
  "language_info": {
   "codemirror_mode": {
    "name": "ipython",
    "version": 3
   },
   "file_extension": ".py",
   "mimetype": "text/x-python",
   "name": "python",
   "nbconvert_exporter": "python",
   "pygments_lexer": "ipython3",
   "version": "3.7.6"
  }
 },
 "nbformat": 4,
 "nbformat_minor": 4
}
