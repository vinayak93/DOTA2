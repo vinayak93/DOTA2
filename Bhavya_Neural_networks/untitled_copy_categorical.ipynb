{
 "cells": [
  {
   "cell_type": "code",
   "execution_count": 4,
   "metadata": {},
   "outputs": [],
   "source": [
    "#!pip install tensorflow\n",
    "#!pip install pandas as pd\n",
    "#!pip install numpy as np\n",
    "#!pip install --upgrade pip"
   ]
  },
  {
   "cell_type": "code",
   "execution_count": 5,
   "metadata": {},
   "outputs": [],
   "source": [
    "import pandas as pd\n",
    "import numpy as np"
   ]
  },
  {
   "cell_type": "code",
   "execution_count": 6,
   "metadata": {},
   "outputs": [],
   "source": [
    "from keras.datasets import mnist"
   ]
  },
  {
   "cell_type": "code",
   "execution_count": 7,
   "metadata": {},
   "outputs": [],
   "source": [
    "df = pd.read_csv(\"hero_selection_final.csv\")"
   ]
  },
  {
   "cell_type": "code",
   "execution_count": 8,
   "metadata": {},
   "outputs": [
    {
     "data": {
      "text/plain": [
       "array([[1928898739, 1, '1/28', ..., '3/11', '4/75', '5/94'],\n",
       "       [1928932285, 1, '1/74', ..., '3/5', '4/70', '5/62'],\n",
       "       [1928918721, -1, '1/42', ..., '3/32', '4/97', '5/104'],\n",
       "       ...,\n",
       "       [1829200497, -1, '1/112', ..., '3/69', '4/39', '5/57'],\n",
       "       [1829177389, 1, '1/30', ..., '3/6', '4/2', '5/48'],\n",
       "       [1829220503, -1, '1/29', ..., '3/25', '4/6', '5/72']], dtype=object)"
      ]
     },
     "execution_count": 8,
     "metadata": {},
     "output_type": "execute_result"
    }
   ],
   "source": [
    "matrix1 =np.array(df.loc[:,['match_id', 'Result','index_h1','index_h2','index_h3','index_h4', 'index_h5']])\n",
    "matrix1"
   ]
  },
  {
   "cell_type": "code",
   "execution_count": 9,
   "metadata": {},
   "outputs": [],
   "source": [
    "df1 = pd.read_csv(\"hero_names.csv\")"
   ]
  },
  {
   "cell_type": "code",
   "execution_count": 10,
   "metadata": {},
   "outputs": [],
   "source": [
    "matrix2 =np.array(df1.loc[:,['hero_id', 'Strength','Agility','Intelligence']])"
   ]
  },
  {
   "cell_type": "code",
   "execution_count": 11,
   "metadata": {},
   "outputs": [
    {
     "data": {
      "text/plain": [
       "113"
      ]
     },
     "execution_count": 11,
     "metadata": {},
     "output_type": "execute_result"
    }
   ],
   "source": [
    "len(matrix2)"
   ]
  },
  {
   "cell_type": "code",
   "execution_count": 12,
   "metadata": {},
   "outputs": [],
   "source": [
    "df2 = pd.read_csv(\"hero_selection.csv\")"
   ]
  },
  {
   "cell_type": "code",
   "execution_count": 13,
   "metadata": {},
   "outputs": [],
   "source": [
    "matrix3 =np.array(df2.loc[:,['target']])"
   ]
  },
  {
   "cell_type": "code",
   "execution_count": 14,
   "metadata": {},
   "outputs": [
    {
     "data": {
      "text/plain": [
       "(233735, 1)"
      ]
     },
     "execution_count": 14,
     "metadata": {},
     "output_type": "execute_result"
    }
   ],
   "source": [
    "'''Category prediction of hero5 will contain the data of hero1, hero2, hero3, hero4.'''\n",
    "matrix4 =np.array(df2.loc[:,[ 'Hero1','Hero2','Hero3','Hero4']])\n",
    "matrix5 = np.array(df2.loc[:,[ 'Hero5']])\n",
    "'''Category prediction of hero2 will contain the data of hero1.'''\n",
    "matrix43 =np.array(df2.loc[:,[ 'Hero1']])\n",
    "matrix53 = np.array(df2.loc[:,[ 'Hero2']])\n",
    "'''Category prediction of hero3 will contain the data of hero1, hero2.'''\n",
    "matrix42 =np.array(df2.loc[:,[ 'Hero1','Hero2']])\n",
    "matrix52 = np.array(df2.loc[:,[ 'Hero3']])\n",
    "'''Category prediction of hero4 will contain the data of hero1, hero2, hero3'''\n",
    "matrix41 =np.array(df2.loc[:,[ 'Hero1','Hero2','Hero3']])\n",
    "matrix51 = np.array(df2.loc[:,[ 'Hero4']])\n",
    "matrix5.shape"
   ]
  },
  {
   "cell_type": "code",
   "execution_count": 15,
   "metadata": {
    "scrolled": true
   },
   "outputs": [],
   "source": [
    "''' target variable contains the category of next hero picked in the next pick. '''\n",
    "def test_train(matrix4, matrix5):\n",
    "    feature_matrixes = matrix4\n",
    "    target_features = matrix5\n",
    "    train_data = feature_matrixes[0:40000]\n",
    "    test_data = feature_matrixes[40000:50000]\n",
    "    train_target = target_features[0:40000]\n",
    "    test_target = target_features[40000:50000]\n",
    "    \n",
    "    #train target preparation for categorical data\n",
    "    train_target.reshape(40000,)\n",
    "    final_index=[]\n",
    "    for i in range(40000):\n",
    "        hero = int(train_target[i][0])\n",
    "        indexed = matrix2[hero-1]\n",
    "      \n",
    "        if indexed[1]==1:\n",
    "            final_index.append(1)\n",
    "        elif indexed[2]==1:\n",
    "            final_index.append(2)\n",
    "        elif indexed[3]==1:\n",
    "            final_index.append(3)\n",
    "    final_index = np.array(final_index)\n",
    "    \n",
    "    #test target preparation for categorical data\n",
    "    test_target.reshape(10000,)\n",
    "    final_index_test=[]\n",
    "    for i in range(10000):\n",
    "        hero = int(test_target[i][0])\n",
    "        indexed = matrix2[hero-1]  \n",
    "        if indexed[1]==1:\n",
    "            final_index_test.append(1)\n",
    "        elif indexed[2]==1:\n",
    "            final_index_test.append(2)\n",
    "        elif indexed[3]==1:\n",
    "            final_index_test.append(3)\n",
    "    final_index_test = np.array(final_index_test)\n",
    "    \n",
    "    return train_data, final_index, test_data, final_index_test"
   ]
  },
  {
   "cell_type": "code",
   "execution_count": 16,
   "metadata": {},
   "outputs": [],
   "source": [
    "train_data5, final_index5, test_data5, final_index_test5 = test_train(matrix4[0:50000], matrix5[0:50000])\n",
    "train_data4, final_index4, test_data4, final_index_test4 = test_train(matrix41[0:50000], matrix51[0:50000])\n",
    "train_data3, final_index3, test_data3, final_index_test3 = test_train(matrix42[0:50000], matrix52[0:50000])\n",
    "train_data2, final_index2, test_data2, final_index_test2 = test_train(matrix43[0:50000], matrix53[0:50000])\n",
    "#train_data.shape"
   ]
  },
  {
   "cell_type": "code",
   "execution_count": 17,
   "metadata": {},
   "outputs": [],
   "source": [
    "import tensorflow as tf\n",
    "#import keras\n",
    "from tensorflow import keras\n",
    "from tensorflow.keras import layers\n",
    "from tensorflow.keras.models import Sequential\n",
    "from tensorflow.keras.layers import Dense\n",
    "from tensorflow.keras.utils import to_categorical"
   ]
  },
  {
   "cell_type": "code",
   "execution_count": 19,
   "metadata": {},
   "outputs": [],
   "source": [
    "'''Started the neural networks implementation with a basic neural networks model. 2 dense layers of relu.\n",
    "   Activation method relu is used because relu is computationaly effective and it converges soon. Last layer has \n",
    "   activation method softmax because our problem set is a multi class problem.\n",
    "'''\n",
    "# Build the model.\n",
    "\n",
    "model = Sequential([\n",
    "  Dense(40, activation='relu'),\n",
    "  Dense(30, activation='relu'),\n",
    "  Dense(4, activation='softmax'),\n",
    "])\n",
    "\n",
    "model1 = Sequential([\n",
    "  Dense(40, activation='relu'),\n",
    "  Dense(30, activation='relu'),\n",
    "  Dense(4, activation='softmax'),\n",
    "])\n",
    "\n",
    "model2 = Sequential([\n",
    "  Dense(40, activation='relu'),\n",
    "  Dense(30, activation='relu'),\n",
    "  Dense(4, activation='softmax'),\n",
    "])\n",
    "\n",
    "model3 = Sequential([\n",
    "  Dense(40, activation='relu'),\n",
    "  Dense(30, activation='relu'),\n",
    "  Dense(4, activation='softmax'),\n",
    "])\n",
    "#model3.summary()\n"
   ]
  },
  {
   "cell_type": "code",
   "execution_count": 20,
   "metadata": {},
   "outputs": [],
   "source": [
    "'''for compilation of the model for every hero I have used adam optimizer because this updates network weights \n",
    "   iteratively based on the training data.\n",
    "   Categorical crossentropy loss function is used when there are two or more label classes.\n",
    "'''\n",
    "\n",
    "\n",
    "# Compile the model.\n",
    "model.compile(\"adam\", \"categorical_crossentropy\", metrics=[\"accuracy\"])\n",
    "model1.compile(\"adam\", \"categorical_crossentropy\", metrics=[\"accuracy\"])\n",
    "model2.compile(\"adam\", \"categorical_crossentropy\", metrics=[\"accuracy\"])\n",
    "model3.compile(\"adam\", \"categorical_crossentropy\", metrics=[\"accuracy\"])"
   ]
  },
  {
   "cell_type": "code",
   "execution_count": 21,
   "metadata": {},
   "outputs": [
    {
     "name": "stdout",
     "output_type": "stream",
     "text": [
      "Epoch 1/20\n",
      "1250/1250 [==============================] - 2s 1ms/step - loss: 1.3670 - accuracy: 0.3533\n",
      "Epoch 2/20\n",
      "1250/1250 [==============================] - 2s 1ms/step - loss: 1.1369 - accuracy: 0.3626\n",
      "Epoch 3/20\n",
      "1250/1250 [==============================] - 1s 1ms/step - loss: 1.1271 - accuracy: 0.3692\n",
      "Epoch 4/20\n",
      "1250/1250 [==============================] - 1s 1ms/step - loss: 1.1191 - accuracy: 0.3701\n",
      "Epoch 5/20\n",
      "1250/1250 [==============================] - 1s 1ms/step - loss: 1.1126 - accuracy: 0.3743: 0s - loss: 1.1142 - ac\n",
      "Epoch 6/20\n",
      "1250/1250 [==============================] - 1s 1ms/step - loss: 1.1061 - accuracy: 0.3811\n",
      "Epoch 7/20\n",
      "1250/1250 [==============================] - 2s 1ms/step - loss: 1.1026 - accuracy: 0.3835: 0s\n",
      "Epoch 8/20\n",
      "1250/1250 [==============================] - 2s 1ms/step - loss: 1.0992 - accuracy: 0.3839\n",
      "Epoch 9/20\n",
      "1250/1250 [==============================] - 1s 1ms/step - loss: 1.0935 - accuracy: 0.3909\n",
      "Epoch 10/20\n",
      "1250/1250 [==============================] - 2s 2ms/step - loss: 1.0914 - accuracy: 0.3974: 1s - loss: 1 - ETA: \n",
      "Epoch 11/20\n",
      "1250/1250 [==============================] - 2s 1ms/step - loss: 1.0897 - accuracy: 0.4015: 0s - loss: 1.0900 - accuracy\n",
      "Epoch 12/20\n",
      "1250/1250 [==============================] - 2s 1ms/step - loss: 1.0883 - accuracy: 0.4035: 0s - loss: 1.0\n",
      "Epoch 13/20\n",
      "1250/1250 [==============================] - 2s 1ms/step - loss: 1.0869 - accuracy: 0.4044\n",
      "Epoch 14/20\n",
      "1250/1250 [==============================] - 2s 1ms/step - loss: 1.0864 - accuracy: 0.4050: 0s - l\n",
      "Epoch 15/20\n",
      "1250/1250 [==============================] - 2s 1ms/step - loss: 1.0860 - accuracy: 0.4060\n",
      "Epoch 16/20\n",
      "1250/1250 [==============================] - 2s 1ms/step - loss: 1.0856 - accuracy: 0.4067: 0s - loss: 1.0856 - accura\n",
      "Epoch 17/20\n",
      "1250/1250 [==============================] - 2s 1ms/step - loss: 1.0859 - accuracy: 0.4060\n",
      "Epoch 18/20\n",
      "1250/1250 [==============================] - 2s 1ms/step - loss: 1.0853 - accuracy: 0.4063\n",
      "Epoch 19/20\n",
      "1250/1250 [==============================] - 2s 1ms/step - loss: 1.0854 - accuracy: 0.4063\n",
      "Epoch 20/20\n",
      "1250/1250 [==============================] - 2s 1ms/step - loss: 1.0850 - accuracy: 0.4071\n",
      "Epoch 1/20\n",
      "1250/1250 [==============================] - 1s 1ms/step - loss: 1.5822 - accuracy: 0.3406: 0s - loss: 1.6972 - \n",
      "Epoch 2/20\n",
      "1250/1250 [==============================] - 2s 1ms/step - loss: 1.1451 - accuracy: 0.3415: 0s - loss: 1 - ETA: 0s - loss: 1.1461 - accuracy: \n",
      "Epoch 3/20\n",
      "1250/1250 [==============================] - 1s 1ms/step - loss: 1.1351 - accuracy: 0.3482\n",
      "Epoch 4/20\n",
      "1250/1250 [==============================] - 1s 1ms/step - loss: 1.1262 - accuracy: 0.3494: 0s - ETA: 0s - loss: 1.1265 - accuracy\n",
      "Epoch 5/20\n",
      "1250/1250 [==============================] - 2s 1ms/step - loss: 1.1209 - accuracy: 0.3483\n",
      "Epoch 6/20\n",
      "1250/1250 [==============================] - 1s 1ms/step - loss: 1.1159 - accuracy: 0.3492\n",
      "Epoch 7/20\n",
      "1250/1250 [==============================] - 2s 1ms/step - loss: 1.1094 - accuracy: 0.3521\n",
      "Epoch 8/20\n",
      "1250/1250 [==============================] - 2s 1ms/step - loss: 1.1059 - accuracy: 0.3497\n",
      "Epoch 9/20\n",
      "1250/1250 [==============================] - 2s 1ms/step - loss: 1.1030 - accuracy: 0.3500\n",
      "Epoch 10/20\n",
      "1250/1250 [==============================] - 1s 1ms/step - loss: 1.0988 - accuracy: 0.3537\n",
      "Epoch 11/20\n",
      "1250/1250 [==============================] - 2s 1ms/step - loss: 1.0959 - accuracy: 0.3573: 0s - loss: 1.0959 - accuracy\n",
      "Epoch 12/20\n",
      "1250/1250 [==============================] - 2s 1ms/step - loss: 1.0958 - accuracy: 0.3576\n",
      "Epoch 13/20\n",
      "1250/1250 [==============================] - 2s 1ms/step - loss: 1.0955 - accuracy: 0.3559: 0s - loss: 1.0 - ETA: 0s -\n",
      "Epoch 14/20\n",
      "1250/1250 [==============================] - 2s 1ms/step - loss: 1.0956 - accuracy: 0.3556\n",
      "Epoch 15/20\n",
      "1250/1250 [==============================] - 1s 1ms/step - loss: 1.0956 - accuracy: 0.3543\n",
      "Epoch 16/20\n",
      "1250/1250 [==============================] - 2s 1ms/step - loss: 1.0954 - accuracy: 0.3561\n",
      "Epoch 17/20\n",
      "1250/1250 [==============================] - 2s 1ms/step - loss: 1.0954 - accuracy: 0.3586\n",
      "Epoch 18/20\n",
      "1250/1250 [==============================] - 2s 1ms/step - loss: 1.0951 - accuracy: 0.3544\n",
      "Epoch 19/20\n",
      "1250/1250 [==============================] - 2s 1ms/step - loss: 1.0956 - accuracy: 0.3539\n",
      "Epoch 20/20\n",
      "1250/1250 [==============================] - 2s 1ms/step - loss: 1.0952 - accuracy: 0.3539\n",
      "Epoch 1/20\n",
      "1250/1250 [==============================] - 2s 1ms/step - loss: 1.1591 - accuracy: 0.3805\n",
      "Epoch 2/20\n",
      "1250/1250 [==============================] - 2s 1ms/step - loss: 1.1132 - accuracy: 0.3817: 0s - loss: 1.1198 - accuracy - ETA: 0s - loss: 1.1171 - accuracy: 0. - ETA: 0s - loss: 1.1154 - \n",
      "Epoch 3/20\n",
      "1250/1250 [==============================] - 2s 1ms/step - loss: 1.1040 - accuracy: 0.3875: 0s - l\n",
      "Epoch 4/20\n",
      "1250/1250 [==============================] - 1s 1ms/step - loss: 1.0980 - accuracy: 0.3900\n",
      "Epoch 5/20\n",
      "1250/1250 [==============================] - 2s 1ms/step - loss: 1.0926 - accuracy: 0.3943\n",
      "Epoch 6/20\n",
      "1250/1250 [==============================] - 2s 1ms/step - loss: 1.0878 - accuracy: 0.3984: 0s - loss: 1.0885 - accuracy\n",
      "Epoch 7/20\n",
      "1250/1250 [==============================] - 2s 1ms/step - loss: 1.0852 - accuracy: 0.3952\n",
      "Epoch 8/20\n",
      "1250/1250 [==============================] - 1s 1ms/step - loss: 1.0828 - accuracy: 0.4002: 0s\n",
      "Epoch 9/20\n",
      "1250/1250 [==============================] - 2s 1ms/step - loss: 1.0812 - accuracy: 0.4038\n",
      "Epoch 10/20\n",
      "1250/1250 [==============================] - 2s 1ms/step - loss: 1.0806 - accuracy: 0.4024\n",
      "Epoch 11/20\n",
      "1250/1250 [==============================] - 2s 1ms/step - loss: 1.0807 - accuracy: 0.4027: 0s - loss: 1.0807 - accura\n",
      "Epoch 12/20\n",
      "1250/1250 [==============================] - 2s 1ms/step - loss: 1.0804 - accuracy: 0.4040\n",
      "Epoch 13/20\n",
      "1250/1250 [==============================] - 2s 1ms/step - loss: 1.0808 - accuracy: 0.4031\n",
      "Epoch 14/20\n",
      "1250/1250 [==============================] - 2s 1ms/step - loss: 1.0804 - accuracy: 0.4031: 0s - loss: 1.0801 - accura\n",
      "Epoch 15/20\n",
      "1250/1250 [==============================] - 2s 1ms/step - loss: 1.0804 - accuracy: 0.4011\n",
      "Epoch 16/20\n",
      "1250/1250 [==============================] - 1s 1ms/step - loss: 1.0804 - accuracy: 0.4034\n",
      "Epoch 17/20\n",
      "1250/1250 [==============================] - 2s 1ms/step - loss: 1.0803 - accuracy: 0.4069: \n",
      "Epoch 18/20\n",
      "1250/1250 [==============================] - 2s 1ms/step - loss: 1.0803 - accuracy: 0.4040\n",
      "Epoch 19/20\n",
      "1250/1250 [==============================] - 2s 1ms/step - loss: 1.0800 - accuracy: 0.4065\n",
      "Epoch 20/20\n",
      "1250/1250 [==============================] - 1s 1ms/step - loss: 1.0801 - accuracy: 0.4076\n",
      "Epoch 1/20\n",
      "1250/1250 [==============================] - 2s 2ms/step - loss: 1.0365 - accuracy: 0.5187: 0s - loss: 1.0448 \n",
      "Epoch 2/20\n",
      "1250/1250 [==============================] - 2s 1ms/step - loss: 1.0005 - accuracy: 0.5271\n",
      "Epoch 3/20\n",
      "1250/1250 [==============================] - 2s 1ms/step - loss: 0.9979 - accuracy: 0.5254\n",
      "Epoch 4/20\n",
      "1250/1250 [==============================] - 1s 1ms/step - loss: 0.9966 - accuracy: 0.5285\n",
      "Epoch 5/20\n",
      "1250/1250 [==============================] - 2s 1ms/step - loss: 0.9925 - accuracy: 0.5307\n",
      "Epoch 6/20\n",
      "1250/1250 [==============================] - 1s 1ms/step - loss: 0.9903 - accuracy: 0.5318: 0s - l\n",
      "Epoch 7/20\n",
      "1250/1250 [==============================] - 2s 1ms/step - loss: 0.9892 - accuracy: 0.5332\n",
      "Epoch 8/20\n",
      "1250/1250 [==============================] - 2s 1ms/step - loss: 0.9879 - accuracy: 0.5343\n",
      "Epoch 9/20\n",
      "1250/1250 [==============================] - 1s 1ms/step - loss: 0.9836 - accuracy: 0.5378\n",
      "Epoch 10/20\n",
      "1250/1250 [==============================] - 2s 1ms/step - loss: 0.9846 - accuracy: 0.5372\n",
      "Epoch 11/20\n",
      "1250/1250 [==============================] - 2s 1ms/step - loss: 0.9813 - accuracy: 0.5390: 0s - loss: 0.9811 - accuracy: 0.53\n",
      "Epoch 12/20\n",
      "1250/1250 [==============================] - 1s 1ms/step - loss: 0.9807 - accuracy: 0.5393\n",
      "Epoch 13/20\n",
      "1250/1250 [==============================] - 2s 1ms/step - loss: 0.9806 - accuracy: 0.5393\n",
      "Epoch 14/20\n",
      "1250/1250 [==============================] - 2s 1ms/step - loss: 0.9801 - accuracy: 0.5393\n",
      "Epoch 15/20\n"
     ]
    },
    {
     "name": "stdout",
     "output_type": "stream",
     "text": [
      "1250/1250 [==============================] - 1s 1ms/step - loss: 0.9795 - accuracy: 0.5389\n",
      "Epoch 16/20\n",
      "1250/1250 [==============================] - 2s 1ms/step - loss: 0.9789 - accuracy: 0.5393\n",
      "Epoch 17/20\n",
      "1250/1250 [==============================] - 2s 1ms/step - loss: 0.9785 - accuracy: 0.5393\n",
      "Epoch 18/20\n",
      "1250/1250 [==============================] - 1s 1ms/step - loss: 0.9782 - accuracy: 0.5393\n",
      "Epoch 19/20\n",
      "1250/1250 [==============================] - 2s 1ms/step - loss: 0.9780 - accuracy: 0.5393\n",
      "Epoch 20/20\n",
      "1250/1250 [==============================] - 2s 1ms/step - loss: 0.9779 - accuracy: 0.5393\n"
     ]
    },
    {
     "data": {
      "text/plain": [
       "<tensorflow.python.keras.callbacks.History at 0x7ff5fb65b650>"
      ]
     },
     "execution_count": 21,
     "metadata": {},
     "output_type": "execute_result"
    }
   ],
   "source": [
    "model.fit(\n",
    "  train_data5,\n",
    "  to_categorical(final_index5),\n",
    "  epochs=20,\n",
    "  batch_size=32\n",
    ")\n",
    "\n",
    "model1.fit(\n",
    "  train_data4,\n",
    "  to_categorical(final_index4),\n",
    "  epochs=20,\n",
    "  batch_size=32\n",
    ")\n",
    "\n",
    "model2.fit(\n",
    "  train_data3,\n",
    "  to_categorical(final_index3),\n",
    "  epochs=20,\n",
    "  batch_size=32\n",
    ")\n",
    "\n",
    "model3.fit(\n",
    "  train_data2,\n",
    "  to_categorical(final_index2),\n",
    "  epochs=20,\n",
    "  batch_size=32\n",
    ")"
   ]
  },
  {
   "cell_type": "code",
   "execution_count": 22,
   "metadata": {},
   "outputs": [
    {
     "name": "stdout",
     "output_type": "stream",
     "text": [
      "313/313 [==============================] - 0s 1ms/step - loss: 1.0881 - accuracy: 0.3995\n",
      "313/313 [==============================] - 0s 928us/step - loss: 1.0946 - accuracy: 0.3541\n",
      "313/313 [==============================] - 0s 914us/step - loss: 1.0845 - accuracy: 0.4042\n",
      "313/313 [==============================] - 0s 948us/step - loss: 0.9847 - accuracy: 0.5369\n"
     ]
    },
    {
     "data": {
      "text/plain": [
       "[0.9847195148468018, 0.536899983882904]"
      ]
     },
     "execution_count": 22,
     "metadata": {},
     "output_type": "execute_result"
    }
   ],
   "source": [
    "model.evaluate(\n",
    "  test_data5,\n",
    "  to_categorical(final_index_test5)\n",
    ")\n",
    "\n",
    "model1.evaluate(\n",
    "  test_data4,\n",
    "  to_categorical(final_index_test4)\n",
    ")\n",
    "\n",
    "model2.evaluate(\n",
    "  test_data3,\n",
    "  to_categorical(final_index_test3)\n",
    ")\n",
    "\n",
    "model3.evaluate(\n",
    "  test_data2,\n",
    "  to_categorical(final_index_test2)\n",
    ")"
   ]
  },
  {
   "cell_type": "code",
   "execution_count": 29,
   "metadata": {},
   "outputs": [
    {
     "name": "stdout",
     "output_type": "stream",
     "text": [
      "Model: \"sequential_7\"\n",
      "_________________________________________________________________\n",
      "Layer (type)                 Output Shape              Param #   \n",
      "=================================================================\n",
      "dense_21 (Dense)             (None, 40)                80        \n",
      "_________________________________________________________________\n",
      "dense_22 (Dense)             (None, 30)                1230      \n",
      "_________________________________________________________________\n",
      "dense_23 (Dense)             (None, 4)                 124       \n",
      "=================================================================\n",
      "Total params: 1,434\n",
      "Trainable params: 1,434\n",
      "Non-trainable params: 0\n",
      "_________________________________________________________________\n"
     ]
    }
   ],
   "source": [
    "predictions5 = model.predict(test_data5)\n",
    "predictions4 = model1.predict(test_data4)\n",
    "predictions3 = model2.predict(test_data3)\n",
    "predictions2 = model3.predict(test_data2)\n",
    "model3.summary()"
   ]
  },
  {
   "cell_type": "code",
   "execution_count": 24,
   "metadata": {},
   "outputs": [
    {
     "data": {
      "text/plain": [
       "array([1, 3, 1, ..., 1, 1, 1])"
      ]
     },
     "execution_count": 24,
     "metadata": {},
     "output_type": "execute_result"
    }
   ],
   "source": [
    "#print(np.argmax(predictions5, axis=1)) # [7, 2, 1, 0, 4]\n",
    "y_pred5 = np.argmax(predictions5, axis=1)\n",
    "y_pred4 = np.argmax(predictions4, axis=1)\n",
    "y_pred3 = np.argmax(predictions3, axis=1)\n",
    "y_pred2 = np.argmax(predictions2, axis=1)\n",
    "y_pred3"
   ]
  },
  {
   "cell_type": "code",
   "execution_count": 25,
   "metadata": {},
   "outputs": [
    {
     "name": "stdout",
     "output_type": "stream",
     "text": [
      "Prediction accuracy for 5th hero: 39.95\n",
      "Prediction accuracy for 4th hero: 35.410000000000004\n",
      "Prediction accuracy for 3rd hero: 40.42\n",
      "Prediction accuracy for 2nd hero: 53.690000000000005\n"
     ]
    }
   ],
   "source": [
    "'''Self test is used. final_index_test5 contains the test target for 5th hero.\n",
    "    Similarly, final_index_test4 is for 4th hero, final_index_test3 is for 3rd hero, \n",
    "    final_index_test4 is for 2nd hero.\n",
    "'''\n",
    "my_ytest5 = np.array(final_index_test5)\n",
    "my_ytest4 = np.array(final_index_test4)\n",
    "my_ytest3 = np.array(final_index_test3)\n",
    "my_ytest2 = np.array(final_index_test2)\n",
    "\n",
    "my_ytest_finalhero5 = my_ytest5\n",
    "my_ytest_finalhero4 = my_ytest4\n",
    "my_ytest_finalhero3 = my_ytest3\n",
    "my_ytest_finalhero2 = my_ytest2\n",
    "\n",
    "#my_ytest_finalhero\n",
    "my_ypred5 = np.array(y_pred5)\n",
    "my_ypred4 = np.array(y_pred4)\n",
    "my_ypred3 = np.array(y_pred3)\n",
    "my_ypred2 = np.array(y_pred2)\n",
    "\n",
    "my_ypred_finalhero5 = my_ypred5\n",
    "my_ypred_finalhero4 = my_ypred4\n",
    "my_ypred_finalhero3 = my_ypred3\n",
    "my_ypred_finalhero2 = my_ypred2\n",
    "\n",
    "#my_ypred_finalhero\n",
    "totals = my_ytest5.shape[0]\n",
    "#totals\n",
    "num_correct5 = sum(p == t for p, t in zip(my_ypred_finalhero5, my_ytest_finalhero5))\n",
    "num_correct4 = sum(p == t for p, t in zip(my_ypred_finalhero4, my_ytest_finalhero4))\n",
    "num_correct3 = sum(p == t for p, t in zip(my_ypred_finalhero3, my_ytest_finalhero3))\n",
    "num_correct2 = sum(p == t for p, t in zip(my_ypred_finalhero2, my_ytest_finalhero2))\n",
    "\n",
    "#num_correct\n",
    "total5 = (num_correct5/totals)*100\n",
    "total4 = (num_correct4/totals)*100\n",
    "total3 = (num_correct3/totals)*100\n",
    "total2 = (num_correct2/totals)*100\n",
    "\n",
    "print(\"Prediction accuracy for 5th hero:\", total5)\n",
    "print(\"Prediction accuracy for 4th hero:\", total4)\n",
    "print(\"Prediction accuracy for 3rd hero:\", total3)\n",
    "print(\"Prediction accuracy for 2nd hero:\", total2)"
   ]
  },
  {
   "cell_type": "code",
   "execution_count": 30,
   "metadata": {},
   "outputs": [
    {
     "name": "stdout",
     "output_type": "stream",
     "text": [
      "f1 0.5427190386229285 0.5417841156392256 0.5422130503712139 0.5470932009640083 0.5387225743470937 0.5406108288424589 0.5442099454539441\n",
      "accuracy 0.4050028105677347 0.4058050383351588 0.4060657118786858 0.410025344973247 0.40547476475620187 0.4 0.406877402819308\n",
      "precision 0.9013897477131245 0.8945363703293907 0.8899247233500961 0.898484744481554 0.884201142227847 0.9046884977619902 0.9002847709588534\n"
     ]
    }
   ],
   "source": [
    "from sklearn.metrics import accuracy_score, precision_score\n",
    "from sklearn.metrics import f1_score\n",
    "#testing table of heros\n",
    "test1 = my_ytest5[5065:8623]\n",
    "test2 = my_ytest5[4374:8026]\n",
    "test3 = my_ytest5[4372:6746]\n",
    "test4 = my_ytest5[5809: 9360]\n",
    "test5 = my_ytest5[8477:9646]\n",
    "test6 = my_ytest5[201:8306]\n",
    "test7 = my_ytest5[4863:9545]\n",
    "pred1 = my_ypred5[5065:8623]\n",
    "pred2 = my_ypred5[4374:8026]\n",
    "pred3 = my_ypred5[4372:6746]\n",
    "pred4 = my_ypred5[5809: 9360]\n",
    "pred5 = my_ypred5[8477:9646]\n",
    "pred6 = my_ypred5[201:8306]\n",
    "pred7 = my_ypred5[4863:9545]\n",
    "\n",
    "score1 = f1_score(pred1, test1, average='weighted')\n",
    "score2 = f1_score(pred2, test2, average='weighted')\n",
    "score3 = f1_score(pred3, test3, average='weighted')\n",
    "score4 = f1_score(pred4, test4, average='weighted')\n",
    "score5 = f1_score(pred5, test5, average='weighted')\n",
    "score6 = f1_score(pred6, test6, average='weighted')\n",
    "score7 = f1_score(pred7, test7, average='weighted')\n",
    "\n",
    "print(\"f1\", score1, score2, score3, score4, score5, score6, score7)\n",
    "\n",
    "score1 = accuracy_score(pred1, test1)\n",
    "score2 = accuracy_score(pred2, test2)\n",
    "score3 = accuracy_score(pred3, test3)\n",
    "score4 = accuracy_score(pred4, test4)\n",
    "score5 = accuracy_score(pred5, test5)\n",
    "score6 = accuracy_score(pred6, test6)\n",
    "score7 = accuracy_score(pred7, test7)\n",
    "\n",
    "print(\"accuracy\",score1, score2, score3, score4, score5, score6, score7)\n",
    "\n",
    "score1 = precision_score(pred1, test1, average='weighted')\n",
    "score2 = precision_score(pred2, test2, average='weighted')\n",
    "score3 = precision_score(pred3, test3, average='weighted')\n",
    "score4 = precision_score(pred4, test4, average='weighted')\n",
    "score5 = precision_score(pred5, test5, average='weighted')\n",
    "score6 = precision_score(pred6, test6, average='weighted')\n",
    "score7 = precision_score(pred7, test7, average='weighted')\n",
    "\n",
    "print(\"precision\", score1, score2, score3, score4, score5, score6, score7)"
   ]
  },
  {
   "cell_type": "code",
   "execution_count": 27,
   "metadata": {},
   "outputs": [
    {
     "name": "stdout",
     "output_type": "stream",
     "text": [
      "f1 0.48027772020653 0.4840290204029463 0.49664859035371234 0.47618005878589886 0.47038904533667325 0.4812593019900281 0.48034487076574367\n",
      "accuracy 0.40640809443507586 0.4088170865279299 0.42122999157540014 0.4012954097437342 0.3943541488451668 0.40653917334978407 0.4062366510038445\n",
      "precision 0.6328597320056307 0.6326367047889502 0.6349541089805344 0.6365076630057858 0.6223224586823425 0.6374064497863344 0.6295900903586278\n"
     ]
    }
   ],
   "source": [
    "#testing table of heros\n",
    "test1 = my_ytest3[5065:8623]\n",
    "test2 = my_ytest3[4374:8026]\n",
    "test3 = my_ytest3[4372:6746]\n",
    "test4 = my_ytest3[5809: 9360]\n",
    "test5 = my_ytest3[8477:9646]\n",
    "test6 = my_ytest3[201:8306]\n",
    "test7 = my_ytest3[4863:9545]\n",
    "pred1 = my_ypred3[5065:8623]\n",
    "pred2 = my_ypred3[4374:8026]\n",
    "pred3 = my_ypred3[4372:6746]\n",
    "pred4 = my_ypred3[5809: 9360]\n",
    "pred5 = my_ypred3[8477:9646]\n",
    "pred6 = my_ypred3[201:8306]\n",
    "pred7 = my_ypred3[4863:9545]\n",
    "\n",
    "score1 = f1_score(pred1, test1, average='weighted')\n",
    "score2 = f1_score(pred2, test2, average='weighted')\n",
    "score3 = f1_score(pred3, test3, average='weighted')\n",
    "score4 = f1_score(pred4, test4, average='weighted')\n",
    "score5 = f1_score(pred5, test5, average='weighted')\n",
    "score6 = f1_score(pred6, test6, average='weighted')\n",
    "score7 = f1_score(pred7, test7, average='weighted')\n",
    "\n",
    "print(\"f1\", score1, score2, score3, score4, score5, score6, score7)\n",
    "\n",
    "score1 = accuracy_score(pred1, test1)\n",
    "score2 = accuracy_score(pred2, test2)\n",
    "score3 = accuracy_score(pred3, test3)\n",
    "score4 = accuracy_score(pred4, test4)\n",
    "score5 = accuracy_score(pred5, test5)\n",
    "score6 = accuracy_score(pred6, test6)\n",
    "score7 = accuracy_score(pred7, test7)\n",
    "\n",
    "print(\"accuracy\",score1, score2, score3, score4, score5, score6, score7)\n",
    "\n",
    "score1 = precision_score(pred1, test1, average='weighted')\n",
    "score2 = precision_score(pred2, test2, average='weighted')\n",
    "score3 = precision_score(pred3, test3, average='weighted')\n",
    "score4 = precision_score(pred4, test4, average='weighted')\n",
    "score5 = precision_score(pred5, test5, average='weighted')\n",
    "score6 = precision_score(pred6, test6, average='weighted')\n",
    "score7 = precision_score(pred7, test7, average='weighted')\n",
    "\n",
    "print(\"precision\", score1, score2, score3, score4, score5, score6, score7)"
   ]
  },
  {
   "cell_type": "code",
   "execution_count": 28,
   "metadata": {},
   "outputs": [
    {
     "name": "stdout",
     "output_type": "stream",
     "text": [
      "f1 0.696225723708318 0.7056530214424951 0.7250268528464018 0.6942452656738372 0.7018323153803442 0.6980965384306481 0.6996250520761006\n",
      "accuracy 0.5340078695896571 0.5451807228915663 0.5686604886267902 0.5316812165587158 0.5406330196749358 0.5362122146822949 0.538017941050833\n",
      "precision 1.0 1.0 1.0 1.0 1.0 1.0 1.0\n"
     ]
    }
   ],
   "source": [
    "from sklearn.metrics import accuracy_score, precision_score\n",
    "from sklearn.metrics import f1_score\n",
    "#testing table of heros\n",
    "test1 = my_ytest2[5065:8623]\n",
    "test2 = my_ytest2[4374:8026]\n",
    "test3 = my_ytest2[4372:6746]\n",
    "test4 = my_ytest2[5809: 9360]\n",
    "test5 = my_ytest2[8477:9646]\n",
    "test6 = my_ytest2[201:8306]\n",
    "test7 = my_ytest2[4863:9545]\n",
    "pred1 = my_ypred2[5065:8623]\n",
    "pred2 = my_ypred2[4374:8026]\n",
    "pred3 = my_ypred2[4372:6746]\n",
    "pred4 = my_ypred2[5809: 9360]\n",
    "pred5 = my_ypred2[8477:9646]\n",
    "pred6 = my_ypred2[201:8306]\n",
    "pred7 = my_ypred2[4863:9545]\n",
    "\n",
    "score1 = f1_score(pred1, test1, average='weighted')\n",
    "score2 = f1_score(pred2, test2, average='weighted')\n",
    "score3 = f1_score(pred3, test3, average='weighted')\n",
    "score4 = f1_score(pred4, test4, average='weighted')\n",
    "score5 = f1_score(pred5, test5, average='weighted')\n",
    "score6 = f1_score(pred6, test6, average='weighted')\n",
    "score7 = f1_score(pred7, test7, average='weighted')\n",
    "\n",
    "print(\"f1\", score1, score2, score3, score4, score5, score6, score7)\n",
    "\n",
    "score1 = accuracy_score(pred1, test1)\n",
    "score2 = accuracy_score(pred2, test2)\n",
    "score3 = accuracy_score(pred3, test3)\n",
    "score4 = accuracy_score(pred4, test4)\n",
    "score5 = accuracy_score(pred5, test5)\n",
    "score6 = accuracy_score(pred6, test6)\n",
    "score7 = accuracy_score(pred7, test7)\n",
    "\n",
    "print(\"accuracy\",score1, score2, score3, score4, score5, score6, score7)\n",
    "\n",
    "score1 = precision_score(pred1, test1, average='weighted')\n",
    "score2 = precision_score(pred2, test2, average='weighted')\n",
    "score3 = precision_score(pred3, test3, average='weighted')\n",
    "score4 = precision_score(pred4, test4, average='weighted')\n",
    "score5 = precision_score(pred5, test5, average='weighted')\n",
    "score6 = precision_score(pred6, test6, average='weighted')\n",
    "score7 = precision_score(pred7, test7, average='weighted')\n",
    "\n",
    "print(\"precision\", score1, score2, score3, score4, score5, score6, score7)"
   ]
  },
  {
   "cell_type": "code",
   "execution_count": null,
   "metadata": {},
   "outputs": [],
   "source": []
  },
  {
   "cell_type": "code",
   "execution_count": null,
   "metadata": {},
   "outputs": [],
   "source": []
  },
  {
   "cell_type": "code",
   "execution_count": null,
   "metadata": {},
   "outputs": [],
   "source": []
  }
 ],
 "metadata": {
  "kernelspec": {
   "display_name": "Python 3",
   "language": "python",
   "name": "python3"
  },
  "language_info": {
   "codemirror_mode": {
    "name": "ipython",
    "version": 3
   },
   "file_extension": ".py",
   "mimetype": "text/x-python",
   "name": "python",
   "nbconvert_exporter": "python",
   "pygments_lexer": "ipython3",
   "version": "3.7.6"
  }
 },
 "nbformat": 4,
 "nbformat_minor": 4
}
