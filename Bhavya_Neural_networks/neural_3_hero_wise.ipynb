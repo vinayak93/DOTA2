{
 "cells": [
  {
   "cell_type": "code",
   "execution_count": 2,
   "metadata": {},
   "outputs": [],
   "source": [
    "#!pip install tensorflow\n",
    "#!pip install pandas as pd\n",
    "#!pip install numpy as np\n",
    "#!pip install --upgrade pip"
   ]
  },
  {
   "cell_type": "code",
   "execution_count": 3,
   "metadata": {},
   "outputs": [],
   "source": [
    "import pandas as pd\n",
    "import numpy as np"
   ]
  },
  {
   "cell_type": "code",
   "execution_count": 4,
   "metadata": {},
   "outputs": [],
   "source": [
    "df = pd.read_csv(\"hero_selection_final.csv\")"
   ]
  },
  {
   "cell_type": "code",
   "execution_count": 5,
   "metadata": {},
   "outputs": [],
   "source": [
    "df1 = pd.read_csv(\"hero_names.csv\")"
   ]
  },
  {
   "cell_type": "code",
   "execution_count": 6,
   "metadata": {},
   "outputs": [],
   "source": [
    "matrix2 =np.array(df1.loc[:,['hero_id', 'Strength','Agility','Intelligence']])"
   ]
  },
  {
   "cell_type": "code",
   "execution_count": 7,
   "metadata": {},
   "outputs": [],
   "source": [
    "df2 = pd.read_csv(\"hero_selection.csv\")\n",
    "#df2"
   ]
  },
  {
   "cell_type": "code",
   "execution_count": 8,
   "metadata": {},
   "outputs": [],
   "source": [
    "matrix3 =np.array(df2.loc[:,['target']])"
   ]
  },
  {
   "cell_type": "code",
   "execution_count": 9,
   "metadata": {},
   "outputs": [],
   "source": [
    "'''Hero_id prediction of hero5 will contain the data of hero1, hero2, hero3, hero4.'''\n",
    "matrix4 =np.array(df2.loc[:,[ 'Hero1','Hero2','Hero3','Hero4']])\n",
    "matrix5 = np.array(df2.loc[:,[ 'Hero5']])\n",
    "'''Hero_id prediction of hero2 will contain the data of hero1.'''\n",
    "matrix43 =np.array(df2.loc[:,[ 'Hero1']])\n",
    "matrix53 = np.array(df2.loc[:,[ 'Hero2']])\n",
    "'''Hero_id prediction of hero3 will contain the data of hero1, hero2.'''\n",
    "matrix42 =np.array(df2.loc[:,[ 'Hero1','Hero2']])\n",
    "matrix52 = np.array(df2.loc[:,[ 'Hero3']])\n",
    "'''Hero_id prediction of hero4 will contain the data of hero1, hero2, hero3'''\n",
    "matrix41 =np.array(df2.loc[:,[ 'Hero1','Hero2','Hero3']])\n",
    "matrix51 = np.array(df2.loc[:,[ 'Hero4']])"
   ]
  },
  {
   "cell_type": "code",
   "execution_count": 10,
   "metadata": {},
   "outputs": [
    {
     "data": {
      "text/plain": [
       "array([['28/29/11/75/94/'],\n",
       "       ['74/35/5/70/62/'],\n",
       "       ['42/26/32/97/104/'],\n",
       "       ...,\n",
       "       ['112/44/69/39/57/'],\n",
       "       ['30/20/6/2/48/'],\n",
       "       ['29/30/25/6/72/']], dtype=object)"
      ]
     },
     "execution_count": 10,
     "metadata": {},
     "output_type": "execute_result"
    }
   ],
   "source": [
    "matrix3"
   ]
  },
  {
   "cell_type": "code",
   "execution_count": 11,
   "metadata": {},
   "outputs": [],
   "source": [
    "''' target variable contains the category of next hero picked in the next pick. '''\n",
    "def test_train(matrix4, matrix5):\n",
    "    feature_matrixes = matrix4\n",
    "    target_features = matrix5\n",
    "    train_data = feature_matrixes[0:40000]\n",
    "    test_data = feature_matrixes[40000:50000]\n",
    "    train_target = target_features[0:40000]\n",
    "    test_target = target_features[40000:50000]\n",
    "    \n",
    "    return train_data, train_target, test_data, test_target"
   ]
  },
  {
   "cell_type": "code",
   "execution_count": 12,
   "metadata": {},
   "outputs": [],
   "source": [
    "train_data5, final_index5, test_data5, final_index_test5 = test_train(matrix4[0:50000], matrix5[0:50000])\n",
    "train_data4, final_index4, test_data4, final_index_test4 = test_train(matrix41[0:50000], matrix51[0:50000])\n",
    "train_data3, final_index3, test_data3, final_index_test3 = test_train(matrix42[0:50000], matrix52[0:50000])\n",
    "train_data2, final_index2, test_data2, final_index_test2 = test_train(matrix43[0:50000], matrix53[0:50000])"
   ]
  },
  {
   "cell_type": "code",
   "execution_count": 13,
   "metadata": {},
   "outputs": [],
   "source": [
    "import tensorflow as tf\n",
    "from tensorflow import keras\n",
    "from tensorflow.keras import layers\n",
    "from tensorflow.keras.models import Sequential\n",
    "from tensorflow.keras.layers import Dense\n",
    "from tensorflow.keras.utils import to_categorical"
   ]
  },
  {
   "cell_type": "code",
   "execution_count": 14,
   "metadata": {},
   "outputs": [
    {
     "name": "stdout",
     "output_type": "stream",
     "text": [
      "Model: \"sequential\"\n",
      "_________________________________________________________________\n",
      "Layer (type)                 Output Shape              Param #   \n",
      "=================================================================\n",
      "embedding (Embedding)        (None, None, 128)         5120000   \n",
      "_________________________________________________________________\n",
      "lstm (LSTM)                  (None, 300)               514800    \n",
      "_________________________________________________________________\n",
      "dense (Dense)                (None, 200)               60200     \n",
      "_________________________________________________________________\n",
      "dense_1 (Dense)              (None, 113)               22713     \n",
      "=================================================================\n",
      "Total params: 5,717,713\n",
      "Trainable params: 5,717,713\n",
      "Non-trainable params: 0\n",
      "_________________________________________________________________\n",
      "Model: \"sequential_1\"\n",
      "_________________________________________________________________\n",
      "Layer (type)                 Output Shape              Param #   \n",
      "=================================================================\n",
      "embedding_1 (Embedding)      (None, None, 128)         5120000   \n",
      "_________________________________________________________________\n",
      "lstm_1 (LSTM)                (None, 300)               514800    \n",
      "_________________________________________________________________\n",
      "dense_2 (Dense)              (None, 200)               60200     \n",
      "_________________________________________________________________\n",
      "dense_3 (Dense)              (None, 113)               22713     \n",
      "=================================================================\n",
      "Total params: 5,717,713\n",
      "Trainable params: 5,717,713\n",
      "Non-trainable params: 0\n",
      "_________________________________________________________________\n",
      "Model: \"sequential_2\"\n",
      "_________________________________________________________________\n",
      "Layer (type)                 Output Shape              Param #   \n",
      "=================================================================\n",
      "embedding_2 (Embedding)      (None, None, 128)         5120000   \n",
      "_________________________________________________________________\n",
      "lstm_2 (LSTM)                (None, 300)               514800    \n",
      "_________________________________________________________________\n",
      "dense_4 (Dense)              (None, 200)               60200     \n",
      "_________________________________________________________________\n",
      "dense_5 (Dense)              (None, 113)               22713     \n",
      "=================================================================\n",
      "Total params: 5,717,713\n",
      "Trainable params: 5,717,713\n",
      "Non-trainable params: 0\n",
      "_________________________________________________________________\n",
      "Model: \"sequential_3\"\n",
      "_________________________________________________________________\n",
      "Layer (type)                 Output Shape              Param #   \n",
      "=================================================================\n",
      "embedding_3 (Embedding)      (None, None, 128)         5120000   \n",
      "_________________________________________________________________\n",
      "lstm_3 (LSTM)                (None, 300)               514800    \n",
      "_________________________________________________________________\n",
      "dense_6 (Dense)              (None, 200)               60200     \n",
      "_________________________________________________________________\n",
      "dense_7 (Dense)              (None, 113)               22713     \n",
      "=================================================================\n",
      "Total params: 5,717,713\n",
      "Trainable params: 5,717,713\n",
      "Non-trainable params: 0\n",
      "_________________________________________________________________\n"
     ]
    }
   ],
   "source": [
    "# Build the model.\n",
    "model5 = keras.Sequential()\n",
    "model5.add(layers.Embedding(input_dim=40000, output_dim=128))\n",
    "model5.add(layers.LSTM(300))\n",
    "model5.add(layers.Dense(200, activation=\"relu\"))\n",
    "model5.add(layers.Dense(113, activation=\"softmax\"))\n",
    "model5.summary()\n",
    "\n",
    "\n",
    "model4 = keras.Sequential()\n",
    "model4.add(layers.Embedding(input_dim=40000, output_dim=128))\n",
    "model4.add(layers.LSTM(300))\n",
    "model4.add(layers.Dense(200, activation=\"relu\"))\n",
    "model4.add(layers.Dense(113, activation=\"softmax\"))\n",
    "model4.summary()\n",
    "\n",
    "\n",
    "model3 = keras.Sequential()\n",
    "model3.add(layers.Embedding(input_dim=40000, output_dim=128))\n",
    "model3.add(layers.LSTM(300))\n",
    "model3.add(layers.Dense(200, activation=\"relu\"))\n",
    "model3.add(layers.Dense(113, activation=\"softmax\"))\n",
    "model3.summary()\n",
    "\n",
    "\n",
    "model2 = keras.Sequential()\n",
    "model2.add(layers.Embedding(input_dim=40000, output_dim=128))\n",
    "model2.add(layers.LSTM(300))\n",
    "model2.add(layers.Dense(200, activation=\"relu\"))\n",
    "model2.add(layers.Dense(113, activation=\"softmax\"))\n",
    "model2.summary()\n"
   ]
  },
  {
   "cell_type": "code",
   "execution_count": 15,
   "metadata": {},
   "outputs": [],
   "source": [
    "# Compile the model.\n",
    "model5.compile(\"adam\", \"categorical_crossentropy\", metrics=[\"accuracy\"])\n",
    "model4.compile(\"adam\", \"categorical_crossentropy\", metrics=[\"accuracy\"])\n",
    "model3.compile(\"adam\", \"categorical_crossentropy\", metrics=[\"accuracy\"])\n",
    "model2.compile(\"adam\", \"categorical_crossentropy\", metrics=[\"accuracy\"])"
   ]
  },
  {
   "cell_type": "code",
   "execution_count": 16,
   "metadata": {},
   "outputs": [
    {
     "name": "stdout",
     "output_type": "stream",
     "text": [
      "Epoch 1/12\n",
      "625/625 [==============================] - 34s 54ms/step - loss: 4.2729 - accuracy: 0.0437\n",
      "Epoch 2/12\n",
      "625/625 [==============================] - 34s 54ms/step - loss: 4.1232 - accuracy: 0.0490\n",
      "Epoch 3/12\n",
      "625/625 [==============================] - 36s 57ms/step - loss: 4.0811 - accuracy: 0.0527\n",
      "Epoch 4/12\n",
      "625/625 [==============================] - 33s 54ms/step - loss: 4.0555 - accuracy: 0.0562\n",
      "Epoch 5/12\n",
      "625/625 [==============================] - 33s 52ms/step - loss: 4.0306 - accuracy: 0.0582\n",
      "Epoch 6/12\n",
      "625/625 [==============================] - 34s 55ms/step - loss: 4.0012 - accuracy: 0.0642\n",
      "Epoch 7/12\n",
      "625/625 [==============================] - 34s 54ms/step - loss: 3.9644 - accuracy: 0.0676\n",
      "Epoch 8/12\n",
      "625/625 [==============================] - 33s 52ms/step - loss: 3.9089 - accuracy: 0.0764\n",
      "Epoch 9/12\n",
      "625/625 [==============================] - 34s 54ms/step - loss: 3.8320 - accuracy: 0.0855\n",
      "Epoch 10/12\n",
      "625/625 [==============================] - 33s 53ms/step - loss: 3.7239 - accuracy: 0.1022\n",
      "Epoch 11/12\n",
      "625/625 [==============================] - 33s 52ms/step - loss: 3.5750 - accuracy: 0.1266\n",
      "Epoch 12/12\n",
      "625/625 [==============================] - 35s 56ms/step - loss: 3.3865 - accuracy: 0.1610\n",
      "Epoch 1/12\n",
      "625/625 [==============================] - 32s 52ms/step - loss: 4.3385 - accuracy: 0.0342\n",
      "Epoch 2/12\n",
      "625/625 [==============================] - 31s 49ms/step - loss: 4.2138 - accuracy: 0.0447\n",
      "Epoch 3/12\n",
      "625/625 [==============================] - 32s 51ms/step - loss: 4.1742 - accuracy: 0.0489\n",
      "Epoch 4/12\n",
      "625/625 [==============================] - 30s 48ms/step - loss: 4.1466 - accuracy: 0.0538\n",
      "Epoch 5/12\n",
      "625/625 [==============================] - 30s 48ms/step - loss: 4.1223 - accuracy: 0.0575\n",
      "Epoch 6/12\n",
      "625/625 [==============================] - 30s 49ms/step - loss: 4.0931 - accuracy: 0.0599\n",
      "Epoch 7/12\n",
      "625/625 [==============================] - 30s 48ms/step - loss: 4.0588 - accuracy: 0.0632\n",
      "Epoch 8/12\n",
      "625/625 [==============================] - 30s 48ms/step - loss: 4.0124 - accuracy: 0.0702\n",
      "Epoch 9/12\n",
      "625/625 [==============================] - 30s 47ms/step - loss: 3.9539 - accuracy: 0.0750\n",
      "Epoch 10/12\n",
      "625/625 [==============================] - 28s 45ms/step - loss: 3.8769 - accuracy: 0.0869\n",
      "Epoch 11/12\n",
      "625/625 [==============================] - 28s 45ms/step - loss: 3.7771 - accuracy: 0.1011\n",
      "Epoch 12/12\n",
      "625/625 [==============================] - 30s 48ms/step - loss: 3.6502 - accuracy: 0.1200\n",
      "Epoch 1/12\n",
      "625/625 [==============================] - 24s 39ms/step - loss: 4.3176 - accuracy: 0.0376\n",
      "Epoch 2/12\n",
      "625/625 [==============================] - 26s 42ms/step - loss: 4.2338 - accuracy: 0.0458\n",
      "Epoch 3/12\n",
      "625/625 [==============================] - 25s 40ms/step - loss: 4.2110 - accuracy: 0.0474\n",
      "Epoch 4/12\n",
      "625/625 [==============================] - 26s 41ms/step - loss: 4.1902 - accuracy: 0.0485\n",
      "Epoch 5/12\n",
      "625/625 [==============================] - 25s 40ms/step - loss: 4.1710 - accuracy: 0.0510\n",
      "Epoch 6/12\n",
      "625/625 [==============================] - 26s 41ms/step - loss: 4.1516 - accuracy: 0.0538\n",
      "Epoch 7/12\n",
      "625/625 [==============================] - 26s 41ms/step - loss: 4.1294 - accuracy: 0.0562\n",
      "Epoch 8/12\n",
      "625/625 [==============================] - 25s 41ms/step - loss: 4.1044 - accuracy: 0.0577\n",
      "Epoch 9/12\n",
      "625/625 [==============================] - 26s 41ms/step - loss: 4.0774 - accuracy: 0.0616\n",
      "Epoch 10/12\n",
      "625/625 [==============================] - 26s 42ms/step - loss: 4.0451 - accuracy: 0.0651\n",
      "Epoch 11/12\n",
      "625/625 [==============================] - 26s 41ms/step - loss: 4.0084 - accuracy: 0.0664\n",
      "Epoch 12/12\n",
      "625/625 [==============================] - 27s 43ms/step - loss: 3.9679 - accuracy: 0.0716\n",
      "Epoch 1/12\n",
      "625/625 [==============================] - 25s 40ms/step - loss: 4.1369 - accuracy: 0.0599\n",
      "Epoch 2/12\n",
      "625/625 [==============================] - 24s 39ms/step - loss: 4.0474 - accuracy: 0.0671\n",
      "Epoch 3/12\n",
      "625/625 [==============================] - 24s 39ms/step - loss: 4.0282 - accuracy: 0.0684\n",
      "Epoch 4/12\n",
      "625/625 [==============================] - 24s 39ms/step - loss: 4.0149 - accuracy: 0.0713\n",
      "Epoch 5/12\n",
      "625/625 [==============================] - 24s 39ms/step - loss: 4.0057 - accuracy: 0.0708\n",
      "Epoch 6/12\n",
      "625/625 [==============================] - 24s 39ms/step - loss: 3.9974 - accuracy: 0.0724\n",
      "Epoch 7/12\n",
      "625/625 [==============================] - 24s 39ms/step - loss: 3.9908 - accuracy: 0.0719\n",
      "Epoch 8/12\n",
      "625/625 [==============================] - 24s 39ms/step - loss: 3.9853 - accuracy: 0.0734\n",
      "Epoch 9/12\n",
      "625/625 [==============================] - 24s 38ms/step - loss: 3.9804 - accuracy: 0.0724\n",
      "Epoch 10/12\n",
      "625/625 [==============================] - 24s 38ms/step - loss: 3.9764 - accuracy: 0.0732\n",
      "Epoch 11/12\n",
      "625/625 [==============================] - 23s 37ms/step - loss: 3.9726 - accuracy: 0.0728\n",
      "Epoch 12/12\n",
      "625/625 [==============================] - 23s 37ms/step - loss: 3.9680 - accuracy: 0.0728\n"
     ]
    },
    {
     "data": {
      "text/plain": [
       "<tensorflow.python.keras.callbacks.History at 0x7ffa7f36ae10>"
      ]
     },
     "execution_count": 16,
     "metadata": {},
     "output_type": "execute_result"
    }
   ],
   "source": [
    "#model.fit(train_data, train_target, batch_size=30, epochs=100)\n",
    "model5.fit(\n",
    "  train_data5,\n",
    "  to_categorical(final_index5),\n",
    "  epochs=12,\n",
    "  batch_size=64\n",
    ")\n",
    "\n",
    "model4.fit(\n",
    "  train_data4,\n",
    "  to_categorical(final_index4),\n",
    "  epochs=12,\n",
    "  batch_size=64\n",
    ")\n",
    "\n",
    "model3.fit(\n",
    "  train_data3,\n",
    "  to_categorical(final_index3),\n",
    "  epochs=12,\n",
    "  batch_size=64\n",
    ")\n",
    "\n",
    "model2.fit(\n",
    "  train_data2,\n",
    "  to_categorical(final_index2),\n",
    "  epochs=12,\n",
    "  batch_size=64\n",
    ")"
   ]
  },
  {
   "cell_type": "code",
   "execution_count": 17,
   "metadata": {},
   "outputs": [
    {
     "name": "stdout",
     "output_type": "stream",
     "text": [
      "313/313 [==============================] - 1s 2ms/step - loss: 4.5518 - accuracy: 0.0400\n",
      "313/313 [==============================] - 1s 2ms/step - loss: 4.5617 - accuracy: 0.0377\n",
      "313/313 [==============================] - 0s 2ms/step - loss: 4.4005 - accuracy: 0.0364\n",
      "313/313 [==============================] - 0s 1ms/step - loss: 4.1094 - accuracy: 0.0716\n"
     ]
    },
    {
     "data": {
      "text/plain": [
       "[4.109414577484131, 0.07159999758005142]"
      ]
     },
     "execution_count": 17,
     "metadata": {},
     "output_type": "execute_result"
    }
   ],
   "source": [
    "model5.evaluate(\n",
    "  test_data5,\n",
    "  to_categorical(final_index_test5)\n",
    ")\n",
    "\n",
    "model4.evaluate(\n",
    "  test_data4,\n",
    "  to_categorical(final_index_test4)\n",
    ")\n",
    "\n",
    "model3.evaluate(\n",
    "  test_data3,\n",
    "  to_categorical(final_index_test3)\n",
    ")\n",
    "\n",
    "model2.evaluate(\n",
    "  test_data2,\n",
    "  to_categorical(final_index_test2)\n",
    ")"
   ]
  },
  {
   "cell_type": "code",
   "execution_count": 18,
   "metadata": {},
   "outputs": [
    {
     "name": "stdout",
     "output_type": "stream",
     "text": [
      "Model: \"sequential\"\n",
      "_________________________________________________________________\n",
      "Layer (type)                 Output Shape              Param #   \n",
      "=================================================================\n",
      "embedding (Embedding)        (None, None, 128)         5120000   \n",
      "_________________________________________________________________\n",
      "lstm (LSTM)                  (None, 300)               514800    \n",
      "_________________________________________________________________\n",
      "dense (Dense)                (None, 200)               60200     \n",
      "_________________________________________________________________\n",
      "dense_1 (Dense)              (None, 113)               22713     \n",
      "=================================================================\n",
      "Total params: 5,717,713\n",
      "Trainable params: 5,717,713\n",
      "Non-trainable params: 0\n",
      "_________________________________________________________________\n"
     ]
    }
   ],
   "source": [
    "predictions5 = model5.predict(test_data5)\n",
    "predictions4 = model4.predict(test_data4)\n",
    "predictions3 = model3.predict(test_data3)\n",
    "predictions2 = model2.predict(test_data2)\n",
    "\n",
    "model5.summary()"
   ]
  },
  {
   "cell_type": "code",
   "execution_count": 19,
   "metadata": {},
   "outputs": [],
   "source": [
    "y_pred5 = np.argmax(predictions5, axis=1)\n",
    "y_pred4 = np.argmax(predictions4, axis=1)\n",
    "y_pred3 = np.argmax(predictions3, axis=1)\n",
    "y_pred2 = np.argmax(predictions2, axis=1)"
   ]
  },
  {
   "cell_type": "code",
   "execution_count": 22,
   "metadata": {},
   "outputs": [],
   "source": [
    "#print(\"original results\", test_target[0:30]) # [7, 2, 1, 0, 4]"
   ]
  },
  {
   "cell_type": "code",
   "execution_count": 23,
   "metadata": {},
   "outputs": [
    {
     "name": "stdout",
     "output_type": "stream",
     "text": [
      "Prediction accuracy for 5th hero: [4.]\n",
      "Prediction accuracy for 4th hero: [3.77]\n",
      "Prediction accuracy for 3rd hero: [3.64]\n",
      "Prediction accuracy for 2nd hero: [7.16]\n"
     ]
    }
   ],
   "source": [
    "'''Self test is used. final_index_test5 contains the test target for 5th hero.\n",
    "    Similarly, final_index_test4 is for 4th hero, final_index_test3 is for 3rd hero, \n",
    "    final_index_test4 is for 2nd hero.\n",
    "'''\n",
    "my_ytest5 = np.array(final_index_test5)\n",
    "my_ytest4 = np.array(final_index_test4)\n",
    "my_ytest3 = np.array(final_index_test3)\n",
    "my_ytest2 = np.array(final_index_test2)\n",
    "\n",
    "my_ytest_finalhero5 = my_ytest5\n",
    "my_ytest_finalhero4 = my_ytest4\n",
    "my_ytest_finalhero3 = my_ytest3\n",
    "my_ytest_finalhero2 = my_ytest2\n",
    "\n",
    "#my_ytest_finalhero\n",
    "my_ypred5 = np.array(y_pred5)\n",
    "my_ypred4 = np.array(y_pred4)\n",
    "my_ypred3 = np.array(y_pred3)\n",
    "my_ypred2 = np.array(y_pred2)\n",
    "\n",
    "my_ypred_finalhero5 = my_ypred5\n",
    "my_ypred_finalhero4 = my_ypred4\n",
    "my_ypred_finalhero3 = my_ypred3\n",
    "my_ypred_finalhero2 = my_ypred2\n",
    "\n",
    "#my_ypred_finalhero\n",
    "totals = my_ytest5.shape[0]\n",
    "#totals\n",
    "num_correct5 = sum(p == t for p, t in zip(my_ypred_finalhero5, my_ytest_finalhero5))\n",
    "num_correct4 = sum(p == t for p, t in zip(my_ypred_finalhero4, my_ytest_finalhero4))\n",
    "num_correct3 = sum(p == t for p, t in zip(my_ypred_finalhero3, my_ytest_finalhero3))\n",
    "num_correct2 = sum(p == t for p, t in zip(my_ypred_finalhero2, my_ytest_finalhero2))\n",
    "\n",
    "#num_correct\n",
    "total5 = (num_correct5/totals)*100\n",
    "total4 = (num_correct4/totals)*100\n",
    "total3 = (num_correct3/totals)*100\n",
    "total2 = (num_correct2/totals)*100\n",
    "\n",
    "print(\"Prediction accuracy for 5th hero:\", total5)\n",
    "print(\"Prediction accuracy for 4th hero:\", total4)\n",
    "print(\"Prediction accuracy for 3rd hero:\", total3)\n",
    "print(\"Prediction accuracy for 2nd hero:\", total2)"
   ]
  },
  {
   "cell_type": "code",
   "execution_count": 25,
   "metadata": {},
   "outputs": [
    {
     "name": "stdout",
     "output_type": "stream",
     "text": [
      "f1 0.04266039476386197 0.04379374189553861 0.03966902247904454 0.0428431492852283 0.04976663286563882 0.04625509316964066 0.0434600106693907\n",
      "accuracy 0.03569421023046655 0.03587075575027382 0.03327716933445661 0.035201351731906506 0.041060735671514116 0.03861813695249846 0.03588210166595472\n"
     ]
    }
   ],
   "source": [
    "from sklearn.metrics import accuracy_score, precision_score\n",
    "from sklearn.metrics import f1_score\n",
    "#testing table of heros\n",
    "test1 = my_ytest5[5065:8623]\n",
    "test2 = my_ytest5[4374:8026]\n",
    "test3 = my_ytest5[4372:6746]\n",
    "test4 = my_ytest5[5809: 9360]\n",
    "test5 = my_ytest5[8477:9646]\n",
    "test6 = my_ytest5[201:8306]\n",
    "test7 = my_ytest5[4863:9545]\n",
    "pred1 = my_ypred5[5065:8623]\n",
    "pred2 = my_ypred5[4374:8026]\n",
    "pred3 = my_ypred5[4372:6746]\n",
    "pred4 = my_ypred5[5809: 9360]\n",
    "pred5 = my_ypred5[8477:9646]\n",
    "pred6 = my_ypred5[201:8306]\n",
    "pred7 = my_ypred5[4863:9545]\n",
    "\n",
    "score1 = f1_score(pred1, test1, average='weighted')\n",
    "score2 = f1_score(pred2, test2, average='weighted')\n",
    "score3 = f1_score(pred3, test3, average='weighted')\n",
    "score4 = f1_score(pred4, test4, average='weighted')\n",
    "score5 = f1_score(pred5, test5, average='weighted')\n",
    "score6 = f1_score(pred6, test6, average='weighted')\n",
    "score7 = f1_score(pred7, test7, average='weighted')\n",
    "\n",
    "print(\"f1\", score1, score2, score3, score4, score5, score6, score7)\n",
    "\n",
    "score1 = accuracy_score(pred1, test1)\n",
    "score2 = accuracy_score(pred2, test2)\n",
    "score3 = accuracy_score(pred3, test3)\n",
    "score4 = accuracy_score(pred4, test4)\n",
    "score5 = accuracy_score(pred5, test5)\n",
    "score6 = accuracy_score(pred6, test6)\n",
    "score7 = accuracy_score(pred7, test7)\n",
    "\n",
    "print(\"accuracy\",score1, score2, score3, score4, score5, score6, score7)\n",
    "\n",
    "score1 = precision_score(pred1, test1, average='weighted')\n",
    "score2 = precision_score(pred2, test2, average='weighted')\n",
    "score3 = precision_score(pred3, test3, average='weighted')\n",
    "score4 = precision_score(pred4, test4, average='weighted')\n",
    "score5 = precision_score(pred5, test5, average='weighted')\n",
    "score6 = precision_score(pred6, test6, average='weighted')\n",
    "score7 = precision_score(pred7, test7, average='weighted')\n",
    "\n",
    "#print(\"precision\", score1, score2, score3, score4, score5, score6, score7)"
   ]
  },
  {
   "cell_type": "code",
   "execution_count": null,
   "metadata": {},
   "outputs": [],
   "source": [
    "test1 = my_ytest4[5065:8623]\n",
    "test2 = my_ytest4[4374:8026]\n",
    "test3 = my_ytest4[4372:6746]\n",
    "test4 = my_ytest4[5809: 9360]\n",
    "test5 = my_ytest4[8477:9646]\n",
    "test6 = my_ytest4[201:8306]\n",
    "test7 = my_ytest4[4863:9545]\n",
    "pred1 = my_ypred4[5065:8623]\n",
    "pred2 = my_ypred4[4374:8026]\n",
    "pred3 = my_ypred4[4372:6746]\n",
    "pred4 = my_ypred4[5809: 9360]\n",
    "pred5 = my_ypred4[8477:9646]\n",
    "pred6 = my_ypred4[201:8306]\n",
    "pred7 = my_ypred4[4863:9545]\n",
    "\n",
    "score1 = f1_score(pred1, test1, average='weighted')\n",
    "score2 = f1_score(pred2, test2, average='weighted')\n",
    "score3 = f1_score(pred3, test3, average='weighted')\n",
    "score4 = f1_score(pred4, test4, average='weighted')\n",
    "score5 = f1_score(pred5, test5, average='weighted')\n",
    "score6 = f1_score(pred6, test6, average='weighted')\n",
    "score7 = f1_score(pred7, test7, average='weighted')\n",
    "\n",
    "print(\"f1\", score1, score2, score3, score4, score5, score6, score7)\n",
    "\n",
    "score1 = accuracy_score(pred1, test1)\n",
    "score2 = accuracy_score(pred2, test2)\n",
    "score3 = accuracy_score(pred3, test3)\n",
    "score4 = accuracy_score(pred4, test4)\n",
    "score5 = accuracy_score(pred5, test5)\n",
    "score6 = accuracy_score(pred6, test6)\n",
    "score7 = accuracy_score(pred7, test7)\n",
    "\n",
    "print(\"accuracy\",score1, score2, score3, score4, score5, score6, score7)\n",
    "\n",
    "score1 = precision_score(pred1, test1, average='weighted')\n",
    "score2 = precision_score(pred2, test2, average='weighted')\n",
    "score3 = precision_score(pred3, test3, average='weighted')\n",
    "score4 = precision_score(pred4, test4, average='weighted')\n",
    "score5 = precision_score(pred5, test5, average='weighted')\n",
    "score6 = precision_score(pred6, test6, average='weighted')\n",
    "score7 = precision_score(pred7, test7, average='weighted')\n",
    "\n",
    "print(\"precision\", score1, score2, score3, score4, score5, score6, score7)"
   ]
  },
  {
   "cell_type": "code",
   "execution_count": null,
   "metadata": {},
   "outputs": [],
   "source": [
    "test1 = my_ytest3[5065:8623]\n",
    "test2 = my_ytest3[4374:8026]\n",
    "test3 = my_ytest3[4372:6746]\n",
    "test4 = my_ytest3[5809: 9360]\n",
    "test5 = my_ytest3[8477:9646]\n",
    "test6 = my_ytest3[201:8306]\n",
    "test7 = my_ytest3[4863:9545]\n",
    "pred1 = my_ypred3[5065:8623]\n",
    "pred2 = my_ypred3[4374:8026]\n",
    "pred3 = my_ypred3[4372:6746]\n",
    "pred4 = my_ypred3[5809: 9360]\n",
    "pred5 = my_ypred3[8477:9646]\n",
    "pred6 = my_ypred3[201:8306]\n",
    "pred7 = my_ypred3[4863:9545]\n",
    "\n",
    "score1 = f1_score(pred1, test1, average='weighted')\n",
    "score2 = f1_score(pred2, test2, average='weighted')\n",
    "score3 = f1_score(pred3, test3, average='weighted')\n",
    "score4 = f1_score(pred4, test4, average='weighted')\n",
    "score5 = f1_score(pred5, test5, average='weighted')\n",
    "score6 = f1_score(pred6, test6, average='weighted')\n",
    "score7 = f1_score(pred7, test7, average='weighted')\n",
    "\n",
    "print(\"f1\", score1, score2, score3, score4, score5, score6, score7)\n",
    "\n",
    "score1 = accuracy_score(pred1, test1)\n",
    "score2 = accuracy_score(pred2, test2)\n",
    "score3 = accuracy_score(pred3, test3)\n",
    "score4 = accuracy_score(pred4, test4)\n",
    "score5 = accuracy_score(pred5, test5)\n",
    "score6 = accuracy_score(pred6, test6)\n",
    "score7 = accuracy_score(pred7, test7)\n",
    "\n",
    "print(\"accuracy\",score1, score2, score3, score4, score5, score6, score7)\n",
    "\n",
    "score1 = precision_score(pred1, test1, average='weighted')\n",
    "score2 = precision_score(pred2, test2, average='weighted')\n",
    "score3 = precision_score(pred3, test3, average='weighted')\n",
    "score4 = precision_score(pred4, test4, average='weighted')\n",
    "score5 = precision_score(pred5, test5, average='weighted')\n",
    "score6 = precision_score(pred6, test6, average='weighted')\n",
    "score7 = precision_score(pred7, test7, average='weighted')\n",
    "\n",
    "print(\"precision\", score1, score2, score3, score4, score5, score6, score7)"
   ]
  },
  {
   "cell_type": "code",
   "execution_count": null,
   "metadata": {},
   "outputs": [],
   "source": [
    "test1 = my_ytest2[5065:8623]\n",
    "test2 = my_ytest2[4374:8026]\n",
    "test3 = my_ytest2[4372:6746]\n",
    "test4 = my_ytest2[5809: 9360]\n",
    "test5 = my_ytest2[8477:9646]\n",
    "test6 = my_ytest2[201:8306]\n",
    "test7 = my_ytest2[4863:9545]\n",
    "pred1 = my_ypred2[5065:8623]\n",
    "pred2 = my_ypred2[4374:8026]\n",
    "pred3 = my_ypred2[4372:6746]\n",
    "pred4 = my_ypred2[5809: 9360]\n",
    "pred5 = my_ypred2[8477:9646]\n",
    "pred6 = my_ypred2[201:8306]\n",
    "pred7 = my_ypred2[4863:9545]\n",
    "\n",
    "score1 = f1_score(pred1, test1, average='weighted')\n",
    "score2 = f1_score(pred2, test2, average='weighted')\n",
    "score3 = f1_score(pred3, test3, average='weighted')\n",
    "score4 = f1_score(pred4, test4, average='weighted')\n",
    "score5 = f1_score(pred5, test5, average='weighted')\n",
    "score6 = f1_score(pred6, test6, average='weighted')\n",
    "score7 = f1_score(pred7, test7, average='weighted')\n",
    "\n",
    "print(\"f1\", score1, score2, score3, score4, score5, score6, score7)\n",
    "\n",
    "score1 = accuracy_score(pred1, test1)\n",
    "score2 = accuracy_score(pred2, test2)\n",
    "score3 = accuracy_score(pred3, test3)\n",
    "score4 = accuracy_score(pred4, test4)\n",
    "score5 = accuracy_score(pred5, test5)\n",
    "score6 = accuracy_score(pred6, test6)\n",
    "score7 = accuracy_score(pred7, test7)\n",
    "\n",
    "print(\"accuracy\",score1, score2, score3, score4, score5, score6, score7)\n",
    "\n",
    "score1 = precision_score(pred1, test1, average='weighted')\n",
    "score2 = precision_score(pred2, test2, average='weighted')\n",
    "score3 = precision_score(pred3, test3, average='weighted')\n",
    "score4 = precision_score(pred4, test4, average='weighted')\n",
    "score5 = precision_score(pred5, test5, average='weighted')\n",
    "score6 = precision_score(pred6, test6, average='weighted')\n",
    "score7 = precision_score(pred7, test7, average='weighted')\n",
    "\n",
    "print(\"precision\", score1, score2, score3, score4, score5, score6, score7)"
   ]
  },
  {
   "cell_type": "code",
   "execution_count": null,
   "metadata": {
    "scrolled": false
   },
   "outputs": [],
   "source": [
    "'''import random\n",
    "count = 0\n",
    "while count<7:\n",
    "    num1 = random.randint(40000, 50000)\n",
    "    num2 = random.randint(num1, 50000)\n",
    "    if num2-num1>=1000:\n",
    "        print(num1-40000, num2-40000)\n",
    "        count+=1\n",
    "    '''"
   ]
  },
  {
   "cell_type": "code",
   "execution_count": 21,
   "metadata": {},
   "outputs": [
    {
     "data": {
      "text/plain": [
       "'\\n5065 8623\\n4374 8026\\n4372 6746\\n5809 9360\\n8477 9646\\n201 8306\\n4863 9545\\n'"
      ]
     },
     "execution_count": 21,
     "metadata": {},
     "output_type": "execute_result"
    }
   ],
   "source": [
    "'''\n",
    "5065 8623\n",
    "4374 8026\n",
    "4372 6746\n",
    "5809 9360\n",
    "8477 9646\n",
    "201 8306\n",
    "4863 9545\n",
    "'''"
   ]
  },
  {
   "cell_type": "code",
   "execution_count": null,
   "metadata": {},
   "outputs": [],
   "source": []
  }
 ],
 "metadata": {
  "kernelspec": {
   "display_name": "Python 3",
   "language": "python",
   "name": "python3"
  },
  "language_info": {
   "codemirror_mode": {
    "name": "ipython",
    "version": 3
   },
   "file_extension": ".py",
   "mimetype": "text/x-python",
   "name": "python",
   "nbconvert_exporter": "python",
   "pygments_lexer": "ipython3",
   "version": "3.7.6"
  }
 },
 "nbformat": 4,
 "nbformat_minor": 4
}
