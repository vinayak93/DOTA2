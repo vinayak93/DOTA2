{
 "cells": [
  {
   "cell_type": "code",
   "execution_count": 84,
   "metadata": {},
   "outputs": [],
   "source": [
    "#!pip install tensorflow\n",
    "#!pip install pandas as pd\n",
    "#!pip install numpy as np\n",
    "#!pip install --upgrade pip"
   ]
  },
  {
   "cell_type": "code",
   "execution_count": 85,
   "metadata": {},
   "outputs": [],
   "source": [
    "import pandas as pd\n",
    "import numpy as np"
   ]
  },
  {
   "cell_type": "code",
   "execution_count": 86,
   "metadata": {},
   "outputs": [],
   "source": [
    "df = pd.read_csv(\"hero_selection_final.csv\")"
   ]
  },
  {
   "cell_type": "code",
   "execution_count": 87,
   "metadata": {},
   "outputs": [],
   "source": [
    "df1 = pd.read_csv(\"hero_names.csv\")"
   ]
  },
  {
   "cell_type": "code",
   "execution_count": 88,
   "metadata": {},
   "outputs": [],
   "source": [
    "matrix2 =np.array(df1.loc[:,['hero_id', 'Strength','Agility','Intelligence']])"
   ]
  },
  {
   "cell_type": "code",
   "execution_count": 64,
   "metadata": {},
   "outputs": [],
   "source": [
    "df2 = pd.read_csv(\"hero_selection.csv\")\n",
    "#df2"
   ]
  },
  {
   "cell_type": "code",
   "execution_count": 65,
   "metadata": {},
   "outputs": [],
   "source": [
    "matrix3 =np.array(df2.loc[:,['target']])"
   ]
  },
  {
   "cell_type": "code",
   "execution_count": 92,
   "metadata": {},
   "outputs": [],
   "source": [
    "'''Category prediction of hero5 will contain the data of hero1, hero2, hero3, hero4.'''\n",
    "matrix4 =np.array(df2.loc[:,[ 'Hero1','Hero2','Hero3','Hero4']])\n",
    "matrix5 = np.array(df2.loc[:,[ 'Hero5']])\n",
    "'''Category prediction of hero2 will contain the data of hero1.'''\n",
    "matrix43 =np.array(df2.loc[:,[ 'Hero1']])\n",
    "matrix53 = np.array(df2.loc[:,[ 'Hero2']])\n",
    "'''Category prediction of hero3 will contain the data of hero1, hero2.'''\n",
    "matrix42 =np.array(df2.loc[:,[ 'Hero1','Hero2']])\n",
    "matrix52 = np.array(df2.loc[:,[ 'Hero3']])\n",
    "'''Category prediction of hero4 will contain the data of hero1, hero2, hero3'''\n",
    "matrix41 =np.array(df2.loc[:,[ 'Hero1','Hero2','Hero3']])\n",
    "matrix51 = np.array(df2.loc[:,[ 'Hero4']])"
   ]
  },
  {
   "cell_type": "code",
   "execution_count": 93,
   "metadata": {},
   "outputs": [],
   "source": [
    "''' target variable contains the category of next hero picked in the next pick. '''\n",
    "def test_train(matrix4, matrix5):\n",
    "    feature_matrixes = matrix4\n",
    "    target_features = matrix5\n",
    "    train_data = feature_matrixes[0:40000]\n",
    "    test_data = feature_matrixes[40000:50000]\n",
    "    train_target = target_features[0:40000]\n",
    "    test_target = target_features[40000:50000]\n",
    "    \n",
    "    #train target preparation for categorical data\n",
    "    train_target.reshape(40000,)\n",
    "    final_index=[]\n",
    "    for i in range(40000):\n",
    "        hero = int(train_target[i][0])\n",
    "        indexed = matrix2[hero-1]\n",
    "      \n",
    "        if indexed[1]==1:\n",
    "            final_index.append(1)\n",
    "        elif indexed[2]==1:\n",
    "            final_index.append(2)\n",
    "        elif indexed[3]==1:\n",
    "            final_index.append(3)\n",
    "    final_index = np.array(final_index)\n",
    "    \n",
    "    #test target preparation for categorical data\n",
    "    test_target.reshape(10000,)\n",
    "    final_index_test=[]\n",
    "    for i in range(10000):\n",
    "        hero = int(test_target[i][0])\n",
    "        indexed = matrix2[hero-1]  \n",
    "        if indexed[1]==1:\n",
    "            final_index_test.append(1)\n",
    "        elif indexed[2]==1:\n",
    "            final_index_test.append(2)\n",
    "        elif indexed[3]==1:\n",
    "            final_index_test.append(3)\n",
    "    final_index_test = np.array(final_index_test)\n",
    "    \n",
    "    return train_data, final_index, test_data, final_index_test"
   ]
  },
  {
   "cell_type": "code",
   "execution_count": 94,
   "metadata": {},
   "outputs": [],
   "source": [
    "train_data5, final_index5, test_data5, final_index_test5 = test_train(matrix4[0:50000], matrix5[0:50000])\n",
    "train_data4, final_index4, test_data4, final_index_test4 = test_train(matrix41[0:50000], matrix51[0:50000])\n",
    "train_data3, final_index3, test_data3, final_index_test3 = test_train(matrix42[0:50000], matrix52[0:50000])\n",
    "train_data2, final_index2, test_data2, final_index_test2 = test_train(matrix43[0:50000], matrix53[0:50000])"
   ]
  },
  {
   "cell_type": "code",
   "execution_count": 95,
   "metadata": {},
   "outputs": [],
   "source": [
    "import tensorflow as tf\n",
    "from tensorflow import keras\n",
    "from tensorflow.keras import layers\n",
    "from tensorflow.keras.models import Sequential\n",
    "from tensorflow.keras.layers import Dense\n",
    "from tensorflow.keras.utils import to_categorical"
   ]
  },
  {
   "cell_type": "code",
   "execution_count": 96,
   "metadata": {},
   "outputs": [
    {
     "name": "stdout",
     "output_type": "stream",
     "text": [
      "Model: \"sequential_8\"\n",
      "_________________________________________________________________\n",
      "Layer (type)                 Output Shape              Param #   \n",
      "=================================================================\n",
      "embedding_8 (Embedding)      (None, None, 64)          3200000   \n",
      "_________________________________________________________________\n",
      "lstm_9 (LSTM)                (None, 100)               66000     \n",
      "_________________________________________________________________\n",
      "dense_11 (Dense)             (None, 10)                1010      \n",
      "_________________________________________________________________\n",
      "dense_12 (Dense)             (None, 4)                 44        \n",
      "=================================================================\n",
      "Total params: 3,267,054\n",
      "Trainable params: 3,267,054\n",
      "Non-trainable params: 0\n",
      "_________________________________________________________________\n",
      "Model: \"sequential_9\"\n",
      "_________________________________________________________________\n",
      "Layer (type)                 Output Shape              Param #   \n",
      "=================================================================\n",
      "embedding_9 (Embedding)      (None, None, 64)          3200000   \n",
      "_________________________________________________________________\n",
      "lstm_10 (LSTM)               (None, 100)               66000     \n",
      "_________________________________________________________________\n",
      "dense_13 (Dense)             (None, 10)                1010      \n",
      "_________________________________________________________________\n",
      "dense_14 (Dense)             (None, 4)                 44        \n",
      "=================================================================\n",
      "Total params: 3,267,054\n",
      "Trainable params: 3,267,054\n",
      "Non-trainable params: 0\n",
      "_________________________________________________________________\n",
      "Model: \"sequential_10\"\n",
      "_________________________________________________________________\n",
      "Layer (type)                 Output Shape              Param #   \n",
      "=================================================================\n",
      "embedding_10 (Embedding)     (None, None, 64)          3200000   \n",
      "_________________________________________________________________\n",
      "lstm_11 (LSTM)               (None, 100)               66000     \n",
      "_________________________________________________________________\n",
      "dense_15 (Dense)             (None, 10)                1010      \n",
      "_________________________________________________________________\n",
      "dense_16 (Dense)             (None, 4)                 44        \n",
      "=================================================================\n",
      "Total params: 3,267,054\n",
      "Trainable params: 3,267,054\n",
      "Non-trainable params: 0\n",
      "_________________________________________________________________\n",
      "Model: \"sequential_11\"\n",
      "_________________________________________________________________\n",
      "Layer (type)                 Output Shape              Param #   \n",
      "=================================================================\n",
      "embedding_11 (Embedding)     (None, None, 64)          3200000   \n",
      "_________________________________________________________________\n",
      "lstm_12 (LSTM)               (None, 100)               66000     \n",
      "_________________________________________________________________\n",
      "dense_17 (Dense)             (None, 10)                1010      \n",
      "_________________________________________________________________\n",
      "dense_18 (Dense)             (None, 4)                 44        \n",
      "=================================================================\n",
      "Total params: 3,267,054\n",
      "Trainable params: 3,267,054\n",
      "Non-trainable params: 0\n",
      "_________________________________________________________________\n"
     ]
    }
   ],
   "source": [
    "# Build the model.\n",
    "model5 = keras.Sequential()\n",
    "model5.add(layers.Embedding(input_dim=50000, output_dim=64))\n",
    "# Add a LSTM layer with 128 internal units.\n",
    "model5.add(layers.LSTM(100))\n",
    "model5.add(layers.Dense(10, activation=\"relu\"))\n",
    "model5.add(layers.Dense(4, activation=\"softmax\"))\n",
    "model5.summary()\n",
    "\n",
    "model4 = keras.Sequential()\n",
    "model4.add(layers.Embedding(input_dim=50000, output_dim=64))\n",
    "model4.add(layers.LSTM(100))\n",
    "model4.add(layers.Dense(10, activation=\"relu\"))\n",
    "model4.add(layers.Dense(4, activation=\"softmax\"))\n",
    "model4.summary()\n",
    "\n",
    "model3 = keras.Sequential()\n",
    "model3.add(layers.Embedding(input_dim=50000, output_dim=64))\n",
    "model3.add(layers.LSTM(100))\n",
    "model3.add(layers.Dense(10, activation=\"relu\"))\n",
    "model3.add(layers.Dense(4, activation=\"softmax\"))\n",
    "model3.summary()\n",
    "\n",
    "model2 = keras.Sequential()\n",
    "model2.add(layers.Embedding(input_dim=50000, output_dim=64))\n",
    "model2.add(layers.LSTM(100))\n",
    "model2.add(layers.Dense(10, activation=\"relu\"))\n",
    "model2.add(layers.Dense(4, activation=\"softmax\"))\n",
    "model2.summary()\n"
   ]
  },
  {
   "cell_type": "code",
   "execution_count": 98,
   "metadata": {},
   "outputs": [],
   "source": [
    "# Compile the model.\n",
    "model5.compile(\"adam\", \"categorical_crossentropy\", metrics=[\"accuracy\"])\n",
    "model4.compile(\"adam\", \"categorical_crossentropy\", metrics=[\"accuracy\"])\n",
    "model3.compile(\"adam\", \"categorical_crossentropy\", metrics=[\"accuracy\"])\n",
    "model2.compile(\"adam\", \"categorical_crossentropy\", metrics=[\"accuracy\"])"
   ]
  },
  {
   "cell_type": "code",
   "execution_count": 99,
   "metadata": {},
   "outputs": [
    {
     "name": "stdout",
     "output_type": "stream",
     "text": [
      "Epoch 1/20\n",
      "1250/1250 [==============================] - 19s 15ms/step - loss: 1.0558 - accuracy: 0.4453\n",
      "Epoch 2/20\n",
      "1250/1250 [==============================] - 19s 15ms/step - loss: 1.0089 - accuracy: 0.4854\n",
      "Epoch 3/20\n",
      "1250/1250 [==============================] - 18s 15ms/step - loss: 1.0018 - accuracy: 0.4939\n",
      "Epoch 4/20\n",
      "1250/1250 [==============================] - 18s 14ms/step - loss: 0.9959 - accuracy: 0.4951\n",
      "Epoch 5/20\n",
      "1250/1250 [==============================] - 18s 14ms/step - loss: 0.9920 - accuracy: 0.5012\n",
      "Epoch 6/20\n",
      "1250/1250 [==============================] - 18s 14ms/step - loss: 0.9882 - accuracy: 0.5054\n",
      "Epoch 7/20\n",
      "1250/1250 [==============================] - 18s 15ms/step - loss: 0.9864 - accuracy: 0.5048\n",
      "Epoch 8/20\n",
      "1250/1250 [==============================] - 18s 14ms/step - loss: 0.9828 - accuracy: 0.5075\n",
      "Epoch 9/20\n",
      "1250/1250 [==============================] - 18s 15ms/step - loss: 0.9796 - accuracy: 0.5105\n",
      "Epoch 10/20\n",
      "1250/1250 [==============================] - 18s 15ms/step - loss: 0.9770 - accuracy: 0.5095\n",
      "Epoch 11/20\n",
      "1250/1250 [==============================] - 18s 14ms/step - loss: 0.9732 - accuracy: 0.5128\n",
      "Epoch 12/20\n",
      "1250/1250 [==============================] - 18s 14ms/step - loss: 0.9685 - accuracy: 0.5170\n",
      "Epoch 13/20\n",
      "1250/1250 [==============================] - 18s 15ms/step - loss: 0.9634 - accuracy: 0.5217\n",
      "Epoch 14/20\n",
      "1250/1250 [==============================] - 18s 15ms/step - loss: 0.9575 - accuracy: 0.5278\n",
      "Epoch 15/20\n",
      "1250/1250 [==============================] - 18s 15ms/step - loss: 0.9500 - accuracy: 0.5315\n",
      "Epoch 16/20\n",
      "1250/1250 [==============================] - 18s 15ms/step - loss: 0.9410 - accuracy: 0.5379\n",
      "Epoch 17/20\n",
      "1250/1250 [==============================] - 18s 15ms/step - loss: 0.9298 - accuracy: 0.5476\n",
      "Epoch 18/20\n",
      "1250/1250 [==============================] - 18s 15ms/step - loss: 0.9163 - accuracy: 0.5580\n",
      "Epoch 19/20\n",
      "1250/1250 [==============================] - 18s 15ms/step - loss: 0.9009 - accuracy: 0.5688\n",
      "Epoch 20/20\n",
      "1250/1250 [==============================] - 18s 14ms/step - loss: 0.8831 - accuracy: 0.5812\n",
      "Epoch 1/20\n",
      "1250/1250 [==============================] - 55s 44ms/step - loss: 1.0572 - accuracy: 0.4454\n",
      "Epoch 2/20\n",
      "1250/1250 [==============================] - 18s 14ms/step - loss: 1.0322 - accuracy: 0.4758\n",
      "Epoch 3/20\n",
      "1250/1250 [==============================] - 17s 14ms/step - loss: 1.0294 - accuracy: 0.4773\n",
      "Epoch 4/20\n",
      "1250/1250 [==============================] - 18s 14ms/step - loss: 1.0275 - accuracy: 0.4800\n",
      "Epoch 5/20\n",
      "1250/1250 [==============================] - 18s 15ms/step - loss: 1.0258 - accuracy: 0.4818\n",
      "Epoch 6/20\n",
      "1250/1250 [==============================] - 18s 14ms/step - loss: 1.0240 - accuracy: 0.4813\n",
      "Epoch 7/20\n",
      "1250/1250 [==============================] - 16s 13ms/step - loss: 1.0227 - accuracy: 0.4836\n",
      "Epoch 8/20\n",
      "1250/1250 [==============================] - 16s 13ms/step - loss: 1.0206 - accuracy: 0.4855\n",
      "Epoch 9/20\n",
      "1250/1250 [==============================] - 16s 13ms/step - loss: 1.0186 - accuracy: 0.4863\n",
      "Epoch 10/20\n",
      "1250/1250 [==============================] - 16s 13ms/step - loss: 1.0172 - accuracy: 0.4880\n",
      "Epoch 11/20\n",
      "1250/1250 [==============================] - 16s 13ms/step - loss: 1.0150 - accuracy: 0.4904\n",
      "Epoch 12/20\n",
      "1250/1250 [==============================] - 17s 14ms/step - loss: 1.0131 - accuracy: 0.4894\n",
      "Epoch 13/20\n",
      "1250/1250 [==============================] - 16s 13ms/step - loss: 1.0101 - accuracy: 0.4923\n",
      "Epoch 14/20\n",
      "1250/1250 [==============================] - 16s 13ms/step - loss: 1.0076 - accuracy: 0.4949\n",
      "Epoch 15/20\n",
      "1250/1250 [==============================] - 16s 13ms/step - loss: 1.0038 - accuracy: 0.4983\n",
      "Epoch 16/20\n",
      "1250/1250 [==============================] - 18s 14ms/step - loss: 0.9994 - accuracy: 0.4993\n",
      "Epoch 17/20\n",
      "1250/1250 [==============================] - 20s 16ms/step - loss: 0.9950 - accuracy: 0.5039\n",
      "Epoch 18/20\n",
      "1250/1250 [==============================] - 17s 14ms/step - loss: 0.9900 - accuracy: 0.5092\n",
      "Epoch 19/20\n",
      "1250/1250 [==============================] - 17s 14ms/step - loss: 0.9834 - accuracy: 0.5151\n",
      "Epoch 20/20\n",
      "1250/1250 [==============================] - 16s 13ms/step - loss: 0.9760 - accuracy: 0.5207\n",
      "Epoch 1/20\n",
      "1250/1250 [==============================] - 17s 14ms/step - loss: 1.0458 - accuracy: 0.4778\n",
      "Epoch 2/20\n",
      "1250/1250 [==============================] - 17s 14ms/step - loss: 1.0239 - accuracy: 0.4911\n",
      "Epoch 3/20\n",
      "1250/1250 [==============================] - 17s 14ms/step - loss: 1.0224 - accuracy: 0.4945\n",
      "Epoch 4/20\n",
      "1250/1250 [==============================] - 17s 14ms/step - loss: 1.0207 - accuracy: 0.4948\n",
      "Epoch 5/20\n",
      "1250/1250 [==============================] - 17s 14ms/step - loss: 1.0197 - accuracy: 0.4945\n",
      "Epoch 6/20\n",
      "1250/1250 [==============================] - 17s 14ms/step - loss: 1.0187 - accuracy: 0.4955\n",
      "Epoch 7/20\n",
      "1250/1250 [==============================] - 17s 14ms/step - loss: 1.0181 - accuracy: 0.4945\n",
      "Epoch 8/20\n",
      "1250/1250 [==============================] - 17s 14ms/step - loss: 1.0173 - accuracy: 0.4969\n",
      "Epoch 9/20\n",
      "1250/1250 [==============================] - 18s 14ms/step - loss: 1.0169 - accuracy: 0.4957\n",
      "Epoch 10/20\n",
      "1250/1250 [==============================] - 17s 14ms/step - loss: 1.0158 - accuracy: 0.4969\n",
      "Epoch 11/20\n",
      "1250/1250 [==============================] - 17s 14ms/step - loss: 1.0153 - accuracy: 0.4972\n",
      "Epoch 12/20\n",
      "1250/1250 [==============================] - 17s 14ms/step - loss: 1.0149 - accuracy: 0.4972\n",
      "Epoch 13/20\n",
      "1250/1250 [==============================] - 17s 14ms/step - loss: 1.0142 - accuracy: 0.4992\n",
      "Epoch 14/20\n",
      "1250/1250 [==============================] - 17s 14ms/step - loss: 1.0137 - accuracy: 0.4972\n",
      "Epoch 15/20\n",
      "1250/1250 [==============================] - 18s 14ms/step - loss: 1.0126 - accuracy: 0.4997\n",
      "Epoch 16/20\n",
      "1250/1250 [==============================] - 18s 15ms/step - loss: 1.0119 - accuracy: 0.4983\n",
      "Epoch 17/20\n",
      "1250/1250 [==============================] - 18s 15ms/step - loss: 1.0118 - accuracy: 0.4994\n",
      "Epoch 18/20\n",
      "1250/1250 [==============================] - 17s 14ms/step - loss: 1.0105 - accuracy: 0.4988\n",
      "Epoch 19/20\n",
      "1250/1250 [==============================] - 18s 15ms/step - loss: 1.0095 - accuracy: 0.5006\n",
      "Epoch 20/20\n",
      "1250/1250 [==============================] - 18s 14ms/step - loss: 1.0085 - accuracy: 0.5014\n",
      "Epoch 1/20\n",
      "1250/1250 [==============================] - 18s 15ms/step - loss: 0.9974 - accuracy: 0.5388\n",
      "Epoch 2/20\n",
      "1250/1250 [==============================] - 18s 15ms/step - loss: 0.9697 - accuracy: 0.5402\n",
      "Epoch 3/20\n",
      "1250/1250 [==============================] - 18s 15ms/step - loss: 0.9681 - accuracy: 0.5405\n",
      "Epoch 4/20\n",
      "1250/1250 [==============================] - 18s 15ms/step - loss: 0.9674 - accuracy: 0.5397\n",
      "Epoch 5/20\n",
      "1250/1250 [==============================] - 18s 15ms/step - loss: 0.9674 - accuracy: 0.5403\n",
      "Epoch 6/20\n",
      "1250/1250 [==============================] - 19s 15ms/step - loss: 0.9670 - accuracy: 0.5405\n",
      "Epoch 7/20\n",
      "1250/1250 [==============================] - 19s 15ms/step - loss: 0.9667 - accuracy: 0.5404\n",
      "Epoch 8/20\n",
      "1250/1250 [==============================] - 19s 15ms/step - loss: 0.9665 - accuracy: 0.5414\n",
      "Epoch 9/20\n",
      "1250/1250 [==============================] - 18s 15ms/step - loss: 0.9662 - accuracy: 0.5399\n",
      "Epoch 10/20\n",
      "1250/1250 [==============================] - 18s 15ms/step - loss: 0.9661 - accuracy: 0.5407\n",
      "Epoch 11/20\n",
      "1250/1250 [==============================] - 19s 15ms/step - loss: 0.9662 - accuracy: 0.5415\n",
      "Epoch 12/20\n",
      "1250/1250 [==============================] - 18s 15ms/step - loss: 0.9660 - accuracy: 0.5414\n",
      "Epoch 13/20\n",
      "1250/1250 [==============================] - 19s 15ms/step - loss: 0.9657 - accuracy: 0.5410\n",
      "Epoch 14/20\n",
      "1250/1250 [==============================] - 19s 15ms/step - loss: 0.9662 - accuracy: 0.5405\n",
      "Epoch 15/20\n",
      "1250/1250 [==============================] - 18s 15ms/step - loss: 0.9659 - accuracy: 0.5411\n",
      "Epoch 16/20\n",
      "1250/1250 [==============================] - 18s 15ms/step - loss: 0.9659 - accuracy: 0.5409\n",
      "Epoch 17/20\n",
      "1250/1250 [==============================] - 18s 15ms/step - loss: 0.9658 - accuracy: 0.5408\n",
      "Epoch 18/20\n",
      "1250/1250 [==============================] - 19s 15ms/step - loss: 0.9657 - accuracy: 0.5407\n",
      "Epoch 19/20\n"
     ]
    },
    {
     "name": "stdout",
     "output_type": "stream",
     "text": [
      "1250/1250 [==============================] - 18s 14ms/step - loss: 0.9656 - accuracy: 0.5412\n",
      "Epoch 20/20\n",
      "1250/1250 [==============================] - 18s 14ms/step - loss: 0.9656 - accuracy: 0.5408\n"
     ]
    },
    {
     "data": {
      "text/plain": [
       "<tensorflow.python.keras.callbacks.History at 0x7fe568d9f550>"
      ]
     },
     "execution_count": 99,
     "metadata": {},
     "output_type": "execute_result"
    }
   ],
   "source": [
    "#model.fit(train_data, train_target, batch_size=30, epochs=100)\n",
    "model5.fit(\n",
    "  train_data5,\n",
    "  to_categorical(final_index5),\n",
    "  epochs=20,\n",
    "  batch_size=32\n",
    ")\n",
    "\n",
    "model4.fit(\n",
    "  train_data4,\n",
    "  to_categorical(final_index4),\n",
    "  epochs=20,\n",
    "  batch_size=32\n",
    ")\n",
    "\n",
    "model3.fit(\n",
    "  train_data3,\n",
    "  to_categorical(final_index3),\n",
    "  epochs=20,\n",
    "  batch_size=32\n",
    ")\n",
    "\n",
    "model2.fit(\n",
    "  train_data2,\n",
    "  to_categorical(final_index2),\n",
    "  epochs=20,\n",
    "  batch_size=32\n",
    ")"
   ]
  },
  {
   "cell_type": "code",
   "execution_count": 100,
   "metadata": {},
   "outputs": [
    {
     "name": "stdout",
     "output_type": "stream",
     "text": [
      "313/313 [==============================] - 0s 897us/step - loss: 1.0762 - accuracy: 0.4591\n",
      "313/313 [==============================] - 0s 771us/step - loss: 1.0613 - accuracy: 0.4691\n",
      "313/313 [==============================] - 0s 686us/step - loss: 1.0429 - accuracy: 0.4751\n",
      "313/313 [==============================] - 0s 600us/step - loss: 0.9782 - accuracy: 0.5386\n"
     ]
    },
    {
     "data": {
      "text/plain": [
       "[0.9782364964485168, 0.5386000275611877]"
      ]
     },
     "execution_count": 100,
     "metadata": {},
     "output_type": "execute_result"
    }
   ],
   "source": [
    "model5.evaluate(\n",
    "  test_data5,\n",
    "  to_categorical(final_index_test5)\n",
    ")\n",
    "model4.evaluate(\n",
    "  test_data4,\n",
    "  to_categorical(final_index_test4)\n",
    ")\n",
    "model3.evaluate(\n",
    "  test_data3,\n",
    "  to_categorical(final_index_test3)\n",
    ")\n",
    "model2.evaluate(\n",
    "  test_data2,\n",
    "  to_categorical(final_index_test2)\n",
    ")"
   ]
  },
  {
   "cell_type": "code",
   "execution_count": 101,
   "metadata": {},
   "outputs": [],
   "source": [
    "predictions5 = model5.predict(test_data5)\n",
    "predictions4 = model4.predict(test_data4)\n",
    "predictions3 = model3.predict(test_data3)\n",
    "predictions2 = model2.predict(test_data2)"
   ]
  },
  {
   "cell_type": "code",
   "execution_count": 102,
   "metadata": {},
   "outputs": [
    {
     "name": "stdout",
     "output_type": "stream",
     "text": [
      "my predictions [2 1 2 2 1 2 2 3 1 2 2 2 3 3 2 2 2 2 2 1]\n"
     ]
    }
   ],
   "source": [
    "print(\"my predictions\", np.argmax(predictions, axis=1)) # [7, 2, 1, 0, 4]"
   ]
  },
  {
   "cell_type": "code",
   "execution_count": 103,
   "metadata": {},
   "outputs": [
    {
     "name": "stdout",
     "output_type": "stream",
     "text": [
      "original results [2 1 1 1 3 1 1 3 1 2 2 2 3 1 3 3 3 2 3 3]\n"
     ]
    }
   ],
   "source": [
    "print(\"original results\", final_index_test[0:20]) # [7, 2, 1, 0, 4]"
   ]
  },
  {
   "cell_type": "code",
   "execution_count": 109,
   "metadata": {},
   "outputs": [
    {
     "data": {
      "text/plain": [
       "array([2, 2, 3, 2, 1, 3, 2, 1, 1, 1, 2, 2, 2, 3, 2, 3, 2, 3, 1, 3])"
      ]
     },
     "execution_count": 109,
     "metadata": {},
     "output_type": "execute_result"
    }
   ],
   "source": [
    "y_pred5 = np.argmax(predictions5, axis=1)\n",
    "y_pred4 = np.argmax(predictions4, axis=1)\n",
    "y_pred3 = np.argmax(predictions3, axis=1)\n",
    "y_pred2 = np.argmax(predictions2, axis=1)\n",
    "y_pred5[0:20]"
   ]
  },
  {
   "cell_type": "code",
   "execution_count": 106,
   "metadata": {},
   "outputs": [
    {
     "name": "stdout",
     "output_type": "stream",
     "text": [
      "Prediction accuracy for 5th hero: 45.910000000000004\n",
      "Prediction accuracy for 4th hero: 46.910000000000004\n",
      "Prediction accuracy for 3rd hero: 47.510000000000005\n",
      "Prediction accuracy for 2nd hero: 53.86\n"
     ]
    }
   ],
   "source": [
    "'''Self test is used. final_index_test5 contains the test target for 5th hero.\n",
    "    Similarly, final_index_test4 is for 4th hero, final_index_test3 is for 3rd hero, \n",
    "    final_index_test4 is for 2nd hero.\n",
    "'''\n",
    "my_ytest5 = np.array(final_index_test5)\n",
    "my_ytest4 = np.array(final_index_test4)\n",
    "my_ytest3 = np.array(final_index_test3)\n",
    "my_ytest2 = np.array(final_index_test2)\n",
    "\n",
    "my_ytest_finalhero5 = my_ytest5\n",
    "my_ytest_finalhero4 = my_ytest4\n",
    "my_ytest_finalhero3 = my_ytest3\n",
    "my_ytest_finalhero2 = my_ytest2\n",
    "\n",
    "#my_ytest_finalhero\n",
    "my_ypred5 = np.array(y_pred5)\n",
    "my_ypred4 = np.array(y_pred4)\n",
    "my_ypred3 = np.array(y_pred3)\n",
    "my_ypred2 = np.array(y_pred2)\n",
    "\n",
    "my_ypred_finalhero5 = my_ypred5\n",
    "my_ypred_finalhero4 = my_ypred4\n",
    "my_ypred_finalhero3 = my_ypred3\n",
    "my_ypred_finalhero2 = my_ypred2\n",
    "\n",
    "#my_ypred_finalhero\n",
    "totals = my_ytest5.shape[0]\n",
    "#totals\n",
    "num_correct5 = sum(p == t for p, t in zip(my_ypred_finalhero5, my_ytest_finalhero5))\n",
    "num_correct4 = sum(p == t for p, t in zip(my_ypred_finalhero4, my_ytest_finalhero4))\n",
    "num_correct3 = sum(p == t for p, t in zip(my_ypred_finalhero3, my_ytest_finalhero3))\n",
    "num_correct2 = sum(p == t for p, t in zip(my_ypred_finalhero2, my_ytest_finalhero2))\n",
    "\n",
    "#num_correct\n",
    "total5 = (num_correct5/totals)*100\n",
    "total4 = (num_correct4/totals)*100\n",
    "total3 = (num_correct3/totals)*100\n",
    "total2 = (num_correct2/totals)*100\n",
    "\n",
    "print(\"Prediction accuracy for 5th hero:\", total5)\n",
    "print(\"Prediction accuracy for 4th hero:\", total4)\n",
    "print(\"Prediction accuracy for 3rd hero:\", total3)\n",
    "print(\"Prediction accuracy for 2nd hero:\", total2)"
   ]
  },
  {
   "cell_type": "code",
   "execution_count": null,
   "metadata": {},
   "outputs": [],
   "source": []
  },
  {
   "cell_type": "code",
   "execution_count": null,
   "metadata": {},
   "outputs": [],
   "source": []
  }
 ],
 "metadata": {
  "kernelspec": {
   "display_name": "Python 3",
   "language": "python",
   "name": "python3"
  },
  "language_info": {
   "codemirror_mode": {
    "name": "ipython",
    "version": 3
   },
   "file_extension": ".py",
   "mimetype": "text/x-python",
   "name": "python",
   "nbconvert_exporter": "python",
   "pygments_lexer": "ipython3",
   "version": "3.7.6"
  }
 },
 "nbformat": 4,
 "nbformat_minor": 4
}
