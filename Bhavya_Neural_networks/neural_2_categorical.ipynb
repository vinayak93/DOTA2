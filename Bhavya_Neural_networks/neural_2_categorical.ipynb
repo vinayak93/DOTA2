{
 "cells": [
  {
   "cell_type": "code",
   "execution_count": 94,
   "metadata": {},
   "outputs": [],
   "source": [
    "#!pip install tensorflow\n",
    "#!pip install pandas as pd\n",
    "#!pip install numpy as np\n",
    "#!pip install --upgrade pip"
   ]
  },
  {
   "cell_type": "code",
   "execution_count": 95,
   "metadata": {},
   "outputs": [],
   "source": [
    "import pandas as pd\n",
    "import numpy as np"
   ]
  },
  {
   "cell_type": "code",
   "execution_count": 96,
   "metadata": {},
   "outputs": [],
   "source": [
    "df = pd.read_csv(\"hero_selection_final.csv\")"
   ]
  },
  {
   "cell_type": "code",
   "execution_count": 97,
   "metadata": {},
   "outputs": [],
   "source": [
    "df1 = pd.read_csv(\"hero_names.csv\")"
   ]
  },
  {
   "cell_type": "code",
   "execution_count": 98,
   "metadata": {},
   "outputs": [],
   "source": [
    "matrix2 =np.array(df1.loc[:,['hero_id', 'Strength','Agility','Intelligence']])"
   ]
  },
  {
   "cell_type": "code",
   "execution_count": 100,
   "metadata": {},
   "outputs": [],
   "source": [
    "df2 = pd.read_csv(\"hero_selection.csv\")\n",
    "#df2"
   ]
  },
  {
   "cell_type": "code",
   "execution_count": 8,
   "metadata": {},
   "outputs": [],
   "source": [
    "matrix3 =np.array(df2.loc[:,['target']])"
   ]
  },
  {
   "cell_type": "code",
   "execution_count": 101,
   "metadata": {},
   "outputs": [],
   "source": [
    "'''Category prediction of hero5 will contain the data of hero1, hero2, hero3, hero4.'''\n",
    "matrix4 =np.array(df2.loc[:,[ 'Hero1','Hero2','Hero3','Hero4']])\n",
    "matrix5 = np.array(df2.loc[:,[ 'Hero5']])\n",
    "'''Category prediction of hero2 will contain the data of hero1.'''\n",
    "matrix43 =np.array(df2.loc[:,[ 'Hero1']])\n",
    "matrix53 = np.array(df2.loc[:,[ 'Hero2']])\n",
    "'''Category prediction of hero3 will contain the data of hero1, hero2.'''\n",
    "matrix42 =np.array(df2.loc[:,[ 'Hero1','Hero2']])\n",
    "matrix52 = np.array(df2.loc[:,[ 'Hero3']])\n",
    "'''Category prediction of hero4 will contain the data of hero1, hero2, hero3'''\n",
    "matrix41 =np.array(df2.loc[:,[ 'Hero1','Hero2','Hero3']])\n",
    "matrix51 = np.array(df2.loc[:,[ 'Hero4']])"
   ]
  },
  {
   "cell_type": "code",
   "execution_count": 107,
   "metadata": {},
   "outputs": [],
   "source": [
    "''' target variable contains the category of next hero picked in the next pick. '''\n",
    "def test_train(matrix4, matrix5):\n",
    "    feature_matrixes = matrix4\n",
    "    target_features = matrix5\n",
    "    train_data = feature_matrixes[0:40000]\n",
    "    test_data = feature_matrixes[40000:50000]\n",
    "    train_target = target_features[0:40000]\n",
    "    test_target = target_features[40000:50000]\n",
    "    \n",
    "    #train target preparation for categorical data\n",
    "    train_target.reshape(40000,)\n",
    "    final_index=[]\n",
    "    for i in range(40000):\n",
    "        hero = int(train_target[i][0])\n",
    "        indexed = matrix2[hero-1]\n",
    "      \n",
    "        if indexed[1]==1:\n",
    "            final_index.append(1)\n",
    "        elif indexed[2]==1:\n",
    "            final_index.append(2)\n",
    "        elif indexed[3]==1:\n",
    "            final_index.append(3)\n",
    "    final_index = np.array(final_index)\n",
    "    \n",
    "    #test target preparation for categorical data\n",
    "    test_target.reshape(10000,)\n",
    "    final_index_test=[]\n",
    "    for i in range(10000):\n",
    "        hero = int(test_target[i][0])\n",
    "        indexed = matrix2[hero-1]  \n",
    "        if indexed[1]==1:\n",
    "            final_index_test.append(1)\n",
    "        elif indexed[2]==1:\n",
    "            final_index_test.append(2)\n",
    "        elif indexed[3]==1:\n",
    "            final_index_test.append(3)\n",
    "    final_index_test = np.array(final_index_test)\n",
    "    \n",
    "    return train_data, final_index, test_data, final_index_test"
   ]
  },
  {
   "cell_type": "code",
   "execution_count": 108,
   "metadata": {},
   "outputs": [],
   "source": [
    "train_data5, final_index5, test_data5, final_index_test5 = test_train(matrix4[0:50000], matrix5[0:50000])\n",
    "train_data4, final_index4, test_data4, final_index_test4 = test_train(matrix41[0:50000], matrix51[0:50000])\n",
    "train_data3, final_index3, test_data3, final_index_test3 = test_train(matrix42[0:50000], matrix52[0:50000])\n",
    "train_data2, final_index2, test_data2, final_index_test2 = test_train(matrix43[0:50000], matrix53[0:50000])\n"
   ]
  },
  {
   "cell_type": "code",
   "execution_count": 109,
   "metadata": {},
   "outputs": [],
   "source": [
    "import tensorflow as tf\n",
    "#import keras\n",
    "from tensorflow import keras\n",
    "from tensorflow.keras import layers\n",
    "from tensorflow.keras.models import Sequential\n",
    "from tensorflow.keras.layers import Dense\n",
    "from tensorflow.keras.utils import to_categorical"
   ]
  },
  {
   "cell_type": "code",
   "execution_count": 113,
   "metadata": {},
   "outputs": [
    {
     "name": "stdout",
     "output_type": "stream",
     "text": [
      "Model: \"functional_18\"\n",
      "_________________________________________________________________\n",
      "Layer (type)                 Output Shape              Param #   \n",
      "=================================================================\n",
      "input_12 (InputLayer)        [(None, 4)]               0         \n",
      "_________________________________________________________________\n",
      "embedding_11 (Embedding)     (None, 4, 4)              160000    \n",
      "_________________________________________________________________\n",
      "bidirectional_20 (Bidirectio (None, 4, 100)            22000     \n",
      "_________________________________________________________________\n",
      "bidirectional_21 (Bidirectio (None, 100)               60400     \n",
      "_________________________________________________________________\n",
      "dense_10 (Dense)             (None, 4)                 404       \n",
      "=================================================================\n",
      "Total params: 242,804\n",
      "Trainable params: 242,804\n",
      "Non-trainable params: 0\n",
      "_________________________________________________________________\n",
      "Model: \"functional_20\"\n",
      "_________________________________________________________________\n",
      "Layer (type)                 Output Shape              Param #   \n",
      "=================================================================\n",
      "input_13 (InputLayer)        [(None, 3)]               0         \n",
      "_________________________________________________________________\n",
      "embedding_12 (Embedding)     (None, 3, 4)              160000    \n",
      "_________________________________________________________________\n",
      "bidirectional_22 (Bidirectio (None, 3, 100)            22000     \n",
      "_________________________________________________________________\n",
      "bidirectional_23 (Bidirectio (None, 100)               60400     \n",
      "_________________________________________________________________\n",
      "dense_11 (Dense)             (None, 4)                 404       \n",
      "=================================================================\n",
      "Total params: 242,804\n",
      "Trainable params: 242,804\n",
      "Non-trainable params: 0\n",
      "_________________________________________________________________\n",
      "Model: \"functional_22\"\n",
      "_________________________________________________________________\n",
      "Layer (type)                 Output Shape              Param #   \n",
      "=================================================================\n",
      "input_14 (InputLayer)        [(None, 2)]               0         \n",
      "_________________________________________________________________\n",
      "embedding_13 (Embedding)     (None, 2, 4)              160000    \n",
      "_________________________________________________________________\n",
      "bidirectional_24 (Bidirectio (None, 2, 100)            22000     \n",
      "_________________________________________________________________\n",
      "bidirectional_25 (Bidirectio (None, 100)               60400     \n",
      "_________________________________________________________________\n",
      "dense_12 (Dense)             (None, 4)                 404       \n",
      "=================================================================\n",
      "Total params: 242,804\n",
      "Trainable params: 242,804\n",
      "Non-trainable params: 0\n",
      "_________________________________________________________________\n",
      "Model: \"functional_24\"\n",
      "_________________________________________________________________\n",
      "Layer (type)                 Output Shape              Param #   \n",
      "=================================================================\n",
      "input_15 (InputLayer)        [(None, 1)]               0         \n",
      "_________________________________________________________________\n",
      "embedding_14 (Embedding)     (None, 1, 4)              160000    \n",
      "_________________________________________________________________\n",
      "bidirectional_26 (Bidirectio (None, 1, 100)            22000     \n",
      "_________________________________________________________________\n",
      "bidirectional_27 (Bidirectio (None, 100)               60400     \n",
      "_________________________________________________________________\n",
      "dense_13 (Dense)             (None, 4)                 404       \n",
      "=================================================================\n",
      "Total params: 242,804\n",
      "Trainable params: 242,804\n",
      "Non-trainable params: 0\n",
      "_________________________________________________________________\n"
     ]
    }
   ],
   "source": [
    "'''\n",
    "    Started the neural networks implementation with an Embedding layer and they are followed by 2 layers of \n",
    "    bidirectional LSTMs followed by a dense layer with activation method softmax.\n",
    "'''\n",
    "# Build the model.\n",
    "inputs5 = keras.Input(shape=(4,), dtype=\"int32\")\n",
    "x5 = layers.Embedding(40000, 4)(inputs5)\n",
    "x5 = layers.Bidirectional(layers.LSTM(50, return_sequences=True))(x5)\n",
    "x5 = layers.Bidirectional(layers.LSTM(50))(x5)\n",
    "outputs5 = layers.Dense(4, activation=\"softmax\")(x5)\n",
    "model5 = keras.Model(inputs5, outputs5)\n",
    "model5.summary()\n",
    "\n",
    "\n",
    "inputs4 = keras.Input(shape=(3,), dtype=\"int32\")\n",
    "x4 = layers.Embedding(40000, 4)(inputs4)\n",
    "x4 = layers.Bidirectional(layers.LSTM(50, return_sequences=True))(x4)\n",
    "x4 = layers.Bidirectional(layers.LSTM(50))(x4)\n",
    "outputs4 = layers.Dense(4, activation=\"softmax\")(x4)\n",
    "model4 = keras.Model(inputs4, outputs4)\n",
    "model4.summary()\n",
    "\n",
    "\n",
    "inputs3 = keras.Input(shape=(2,), dtype=\"int32\")\n",
    "x3 = layers.Embedding(40000, 4)(inputs3)\n",
    "x3 = layers.Bidirectional(layers.LSTM(50, return_sequences=True))(x3)\n",
    "x3 = layers.Bidirectional(layers.LSTM(50))(x3)\n",
    "outputs3 = layers.Dense(4, activation=\"softmax\")(x3)\n",
    "model3 = keras.Model(inputs3, outputs3)\n",
    "model3.summary()\n",
    "\n",
    "\n",
    "inputs2 = keras.Input(shape=(1,), dtype=\"int32\")\n",
    "x2 = layers.Embedding(40000, 4)(inputs2)\n",
    "x2 = layers.Bidirectional(layers.LSTM(50, return_sequences=True))(x2)\n",
    "x2 = layers.Bidirectional(layers.LSTM(50))(x2)\n",
    "outputs2 = layers.Dense(4, activation=\"softmax\")(x2)\n",
    "model2 = keras.Model(inputs2, outputs2)\n",
    "model2.summary()\n",
    "\n"
   ]
  },
  {
   "cell_type": "code",
   "execution_count": 114,
   "metadata": {},
   "outputs": [],
   "source": [
    "# Compile the model.\n",
    "model5.compile(\"adam\", \"categorical_crossentropy\", metrics=[\"accuracy\"])\n",
    "model4.compile(\"adam\", \"categorical_crossentropy\", metrics=[\"accuracy\"])\n",
    "model3.compile(\"adam\", \"categorical_crossentropy\", metrics=[\"accuracy\"])\n",
    "model2.compile(\"adam\", \"categorical_crossentropy\", metrics=[\"accuracy\"])"
   ]
  },
  {
   "cell_type": "code",
   "execution_count": 116,
   "metadata": {},
   "outputs": [
    {
     "name": "stdout",
     "output_type": "stream",
     "text": [
      "Epoch 1/20\n",
      "1250/1250 [==============================] - 5s 4ms/step - loss: 0.9847 - accuracy: 0.5038\n",
      "Epoch 2/20\n",
      "1250/1250 [==============================] - 4s 4ms/step - loss: 0.9841 - accuracy: 0.5053\n",
      "Epoch 3/20\n",
      "1250/1250 [==============================] - 4s 4ms/step - loss: 0.9829 - accuracy: 0.5060\n",
      "Epoch 4/20\n",
      "1250/1250 [==============================] - 5s 4ms/step - loss: 0.9819 - accuracy: 0.5065\n",
      "Epoch 5/20\n",
      "1250/1250 [==============================] - 5s 4ms/step - loss: 0.9806 - accuracy: 0.5085\n",
      "Epoch 6/20\n",
      "1250/1250 [==============================] - 5s 4ms/step - loss: 0.9795 - accuracy: 0.5086\n",
      "Epoch 7/20\n",
      "1250/1250 [==============================] - 5s 4ms/step - loss: 0.9780 - accuracy: 0.5097\n",
      "Epoch 8/20\n",
      "1250/1250 [==============================] - 5s 4ms/step - loss: 0.9761 - accuracy: 0.5104\n",
      "Epoch 9/20\n",
      "1250/1250 [==============================] - 5s 4ms/step - loss: 0.9741 - accuracy: 0.5129\n",
      "Epoch 10/20\n",
      "1250/1250 [==============================] - 5s 4ms/step - loss: 0.9714 - accuracy: 0.5122\n",
      "Epoch 11/20\n",
      "1250/1250 [==============================] - 5s 4ms/step - loss: 0.9681 - accuracy: 0.5153\n",
      "Epoch 12/20\n",
      "1250/1250 [==============================] - 5s 4ms/step - loss: 0.9650 - accuracy: 0.5192\n",
      "Epoch 13/20\n",
      "1250/1250 [==============================] - 5s 4ms/step - loss: 0.9610 - accuracy: 0.5215\n",
      "Epoch 14/20\n",
      "1250/1250 [==============================] - 5s 4ms/step - loss: 0.9564 - accuracy: 0.5255\n",
      "Epoch 15/20\n",
      "1250/1250 [==============================] - 5s 4ms/step - loss: 0.9503 - accuracy: 0.5291\n",
      "Epoch 16/20\n",
      "1250/1250 [==============================] - 5s 4ms/step - loss: 0.9441 - accuracy: 0.5336\n",
      "Epoch 17/20\n",
      "1250/1250 [==============================] - 5s 4ms/step - loss: 0.9368 - accuracy: 0.5378\n",
      "Epoch 18/20\n",
      "1250/1250 [==============================] - 5s 4ms/step - loss: 0.9294 - accuracy: 0.5415\n",
      "Epoch 19/20\n",
      "1250/1250 [==============================] - 5s 4ms/step - loss: 0.9188 - accuracy: 0.5494\n",
      "Epoch 20/20\n",
      "1250/1250 [==============================] - 5s 4ms/step - loss: 0.9096 - accuracy: 0.5560\n",
      "Epoch 1/20\n",
      "1250/1250 [==============================] - 4s 3ms/step - loss: 1.0216 - accuracy: 0.4867\n",
      "Epoch 2/20\n",
      "1250/1250 [==============================] - 4s 3ms/step - loss: 1.0209 - accuracy: 0.4868\n",
      "Epoch 3/20\n",
      "1250/1250 [==============================] - 4s 3ms/step - loss: 1.0206 - accuracy: 0.4888\n",
      "Epoch 4/20\n",
      "1250/1250 [==============================] - 4s 3ms/step - loss: 1.0199 - accuracy: 0.4877\n",
      "Epoch 5/20\n",
      "1250/1250 [==============================] - 4s 3ms/step - loss: 1.0191 - accuracy: 0.4883\n",
      "Epoch 6/20\n",
      "1250/1250 [==============================] - 4s 3ms/step - loss: 1.0184 - accuracy: 0.4882\n",
      "Epoch 7/20\n",
      "1250/1250 [==============================] - 4s 3ms/step - loss: 1.0175 - accuracy: 0.4887\n",
      "Epoch 8/20\n",
      "1250/1250 [==============================] - 4s 3ms/step - loss: 1.0166 - accuracy: 0.4886\n",
      "Epoch 9/20\n",
      "1250/1250 [==============================] - 4s 3ms/step - loss: 1.0158 - accuracy: 0.4895\n",
      "Epoch 10/20\n",
      "1250/1250 [==============================] - 4s 3ms/step - loss: 1.0150 - accuracy: 0.4895\n",
      "Epoch 11/20\n",
      "1250/1250 [==============================] - 4s 3ms/step - loss: 1.0137 - accuracy: 0.4915\n",
      "Epoch 12/20\n",
      "1250/1250 [==============================] - 4s 3ms/step - loss: 1.0127 - accuracy: 0.4922\n",
      "Epoch 13/20\n",
      "1250/1250 [==============================] - 4s 3ms/step - loss: 1.0112 - accuracy: 0.4907\n",
      "Epoch 14/20\n",
      "1250/1250 [==============================] - 4s 3ms/step - loss: 1.0097 - accuracy: 0.4939\n",
      "Epoch 15/20\n",
      "1250/1250 [==============================] - 4s 3ms/step - loss: 1.0082 - accuracy: 0.4949\n",
      "Epoch 16/20\n",
      "1250/1250 [==============================] - 4s 3ms/step - loss: 1.0062 - accuracy: 0.4960\n",
      "Epoch 17/20\n",
      "1250/1250 [==============================] - 4s 3ms/step - loss: 1.0042 - accuracy: 0.4973\n",
      "Epoch 18/20\n",
      "1250/1250 [==============================] - 4s 3ms/step - loss: 1.0013 - accuracy: 0.5001\n",
      "Epoch 19/20\n",
      "1250/1250 [==============================] - 4s 3ms/step - loss: 0.9994 - accuracy: 0.5004\n",
      "Epoch 20/20\n",
      "1250/1250 [==============================] - 4s 3ms/step - loss: 0.9961 - accuracy: 0.5031\n",
      "Epoch 1/20\n",
      "1250/1250 [==============================] - 3s 3ms/step - loss: 1.0557 - accuracy: 0.4580\n",
      "Epoch 2/20\n",
      "1250/1250 [==============================] - 3s 3ms/step - loss: 1.0276 - accuracy: 0.4913\n",
      "Epoch 3/20\n",
      "1250/1250 [==============================] - 3s 3ms/step - loss: 1.0258 - accuracy: 0.4921\n",
      "Epoch 4/20\n",
      "1250/1250 [==============================] - 3s 3ms/step - loss: 1.0232 - accuracy: 0.4917\n",
      "Epoch 5/20\n",
      "1250/1250 [==============================] - 3s 3ms/step - loss: 1.0220 - accuracy: 0.4933\n",
      "Epoch 6/20\n",
      "1250/1250 [==============================] - 3s 3ms/step - loss: 1.0214 - accuracy: 0.4938\n",
      "Epoch 7/20\n",
      "1250/1250 [==============================] - 3s 3ms/step - loss: 1.0208 - accuracy: 0.4934\n",
      "Epoch 8/20\n",
      "1250/1250 [==============================] - 3s 3ms/step - loss: 1.0203 - accuracy: 0.4942\n",
      "Epoch 9/20\n",
      "1250/1250 [==============================] - 3s 3ms/step - loss: 1.0200 - accuracy: 0.4947\n",
      "Epoch 10/20\n",
      "1250/1250 [==============================] - 3s 3ms/step - loss: 1.0195 - accuracy: 0.4954\n",
      "Epoch 11/20\n",
      "1250/1250 [==============================] - 3s 3ms/step - loss: 1.0192 - accuracy: 0.4960\n",
      "Epoch 12/20\n",
      "1250/1250 [==============================] - 3s 3ms/step - loss: 1.0191 - accuracy: 0.4954\n",
      "Epoch 13/20\n",
      "1250/1250 [==============================] - 3s 3ms/step - loss: 1.0188 - accuracy: 0.4944\n",
      "Epoch 14/20\n",
      "1250/1250 [==============================] - 3s 3ms/step - loss: 1.0187 - accuracy: 0.4941\n",
      "Epoch 15/20\n",
      "1250/1250 [==============================] - 3s 3ms/step - loss: 1.0183 - accuracy: 0.4956\n",
      "Epoch 16/20\n",
      "1250/1250 [==============================] - 3s 3ms/step - loss: 1.0181 - accuracy: 0.4949\n",
      "Epoch 17/20\n",
      "1250/1250 [==============================] - 3s 3ms/step - loss: 1.0180 - accuracy: 0.4954\n",
      "Epoch 18/20\n",
      "1250/1250 [==============================] - 3s 3ms/step - loss: 1.0177 - accuracy: 0.4958\n",
      "Epoch 19/20\n",
      "1250/1250 [==============================] - 3s 3ms/step - loss: 1.0171 - accuracy: 0.4947\n",
      "Epoch 20/20\n",
      "1250/1250 [==============================] - 3s 3ms/step - loss: 1.0172 - accuracy: 0.4961\n",
      "Epoch 1/20\n",
      "1250/1250 [==============================] - 3s 2ms/step - loss: 0.9944 - accuracy: 0.5390\n",
      "Epoch 2/20\n",
      "1250/1250 [==============================] - 3s 2ms/step - loss: 0.9719 - accuracy: 0.5404\n",
      "Epoch 3/20\n",
      "1250/1250 [==============================] - 3s 2ms/step - loss: 0.9689 - accuracy: 0.5401\n",
      "Epoch 4/20\n",
      "1250/1250 [==============================] - 3s 2ms/step - loss: 0.9672 - accuracy: 0.5401\n",
      "Epoch 5/20\n",
      "1250/1250 [==============================] - 3s 2ms/step - loss: 0.9669 - accuracy: 0.5409\n",
      "Epoch 6/20\n",
      "1250/1250 [==============================] - 3s 2ms/step - loss: 0.9668 - accuracy: 0.5409\n",
      "Epoch 7/20\n",
      "1250/1250 [==============================] - 3s 2ms/step - loss: 0.9663 - accuracy: 0.5404\n",
      "Epoch 8/20\n",
      "1250/1250 [==============================] - 3s 2ms/step - loss: 0.9663 - accuracy: 0.5411\n",
      "Epoch 9/20\n",
      "1250/1250 [==============================] - 3s 2ms/step - loss: 0.9659 - accuracy: 0.5402\n",
      "Epoch 10/20\n",
      "1250/1250 [==============================] - 3s 2ms/step - loss: 0.9660 - accuracy: 0.5407\n",
      "Epoch 11/20\n",
      "1250/1250 [==============================] - 3s 2ms/step - loss: 0.9660 - accuracy: 0.5410\n",
      "Epoch 12/20\n",
      "1250/1250 [==============================] - 3s 2ms/step - loss: 0.9660 - accuracy: 0.5413\n",
      "Epoch 13/20\n",
      "1250/1250 [==============================] - 3s 2ms/step - loss: 0.9660 - accuracy: 0.5401\n",
      "Epoch 14/20\n",
      "1250/1250 [==============================] - 3s 2ms/step - loss: 0.9656 - accuracy: 0.5405\n",
      "Epoch 15/20\n",
      "1250/1250 [==============================] - 3s 2ms/step - loss: 0.9656 - accuracy: 0.5411\n",
      "Epoch 16/20\n",
      "1250/1250 [==============================] - 3s 2ms/step - loss: 0.9654 - accuracy: 0.5410\n",
      "Epoch 17/20\n",
      "1250/1250 [==============================] - 3s 2ms/step - loss: 0.9657 - accuracy: 0.5408\n",
      "Epoch 18/20\n",
      "1250/1250 [==============================] - 3s 2ms/step - loss: 0.9654 - accuracy: 0.5410\n",
      "Epoch 19/20\n",
      "1250/1250 [==============================] - 3s 2ms/step - loss: 0.9655 - accuracy: 0.5408\n",
      "Epoch 20/20\n"
     ]
    },
    {
     "name": "stdout",
     "output_type": "stream",
     "text": [
      "1250/1250 [==============================] - 3s 2ms/step - loss: 0.9654 - accuracy: 0.5417\n"
     ]
    },
    {
     "data": {
      "text/plain": [
       "<tensorflow.python.keras.callbacks.History at 0x7fbe0283d610>"
      ]
     },
     "execution_count": 116,
     "metadata": {},
     "output_type": "execute_result"
    }
   ],
   "source": [
    "#model.fit(train_data, train_target, batch_size=30, epochs=100)\n",
    "model5.fit(\n",
    "  train_data5,\n",
    "  to_categorical(final_index5),\n",
    "  epochs=20,\n",
    "  batch_size=32\n",
    ")\n",
    "\n",
    "model4.fit(\n",
    "  train_data4,\n",
    "  to_categorical(final_index4),\n",
    "  epochs=20,\n",
    "  batch_size=32\n",
    ")\n",
    "\n",
    "\n",
    "model3.fit(\n",
    "  train_data3,\n",
    "  to_categorical(final_index3),\n",
    "  epochs=20,\n",
    "  batch_size=32\n",
    ")\n",
    "\n",
    "model2.fit(\n",
    "  train_data2,\n",
    "  to_categorical(final_index2),\n",
    "  epochs=20,\n",
    "  batch_size=32\n",
    ")"
   ]
  },
  {
   "cell_type": "code",
   "execution_count": 119,
   "metadata": {},
   "outputs": [
    {
     "name": "stdout",
     "output_type": "stream",
     "text": [
      "313/313 [==============================] - 1s 2ms/step - loss: 1.0540 - accuracy: 0.4630\n",
      "313/313 [==============================] - 0s 1ms/step - loss: 1.0421 - accuracy: 0.4753\n",
      "313/313 [==============================] - 0s 1ms/step - loss: 1.0358 - accuracy: 0.4771\n",
      "313/313 [==============================] - 0s 887us/step - loss: 0.9778 - accuracy: 0.5386\n"
     ]
    },
    {
     "data": {
      "text/plain": [
       "[0.977778434753418, 0.5386000275611877]"
      ]
     },
     "execution_count": 119,
     "metadata": {},
     "output_type": "execute_result"
    }
   ],
   "source": [
    "model5.evaluate(\n",
    "  test_data5,\n",
    "  to_categorical(final_index_test5)\n",
    ")\n",
    "\n",
    "model4.evaluate(\n",
    "  test_data4,\n",
    "  to_categorical(final_index_test4)\n",
    ")\n",
    "\n",
    "model3.evaluate(\n",
    "  test_data3,\n",
    "  to_categorical(final_index_test3)\n",
    ")\n",
    "\n",
    "model2.evaluate(\n",
    "  test_data2,\n",
    "  to_categorical(final_index_test2)\n",
    ")"
   ]
  },
  {
   "cell_type": "code",
   "execution_count": 120,
   "metadata": {},
   "outputs": [],
   "source": [
    "predictions5 = model5.predict(test_data5)\n",
    "predictions4 = model4.predict(test_data4)\n",
    "predictions3 = model3.predict(test_data3)\n",
    "predictions2 = model2.predict(test_data2)"
   ]
  },
  {
   "cell_type": "code",
   "execution_count": 92,
   "metadata": {},
   "outputs": [
    {
     "name": "stdout",
     "output_type": "stream",
     "text": [
      "[2 2 3 3 2 1 2 2 3 1]\n"
     ]
    }
   ],
   "source": [
    "print(np.argmax(predictions, axis=1)) # [7, 2, 1, 0, 4]"
   ]
  },
  {
   "cell_type": "code",
   "execution_count": 127,
   "metadata": {},
   "outputs": [
    {
     "data": {
      "text/plain": [
       "array([2, 2, 2, 2, 1, 1, 2, 1, 1, 2, 2, 2, 3, 2, 2, 1, 3, 3, 1, 3])"
      ]
     },
     "execution_count": 127,
     "metadata": {},
     "output_type": "execute_result"
    }
   ],
   "source": [
    "y_pred5 = np.argmax(predictions5, axis=1)\n",
    "y_pred4 = np.argmax(predictions4, axis=1)\n",
    "y_pred3 = np.argmax(predictions3, axis=1)\n",
    "y_pred2 = np.argmax(predictions2, axis=1)\n",
    "y_pred5[0:20]"
   ]
  },
  {
   "cell_type": "code",
   "execution_count": 126,
   "metadata": {},
   "outputs": [
    {
     "name": "stdout",
     "output_type": "stream",
     "text": [
      "Prediction accuracy for 5th hero: 46.300000000000004\n",
      "Prediction accuracy for 4th hero: 47.53\n",
      "Prediction accuracy for 3rd hero: 47.71\n",
      "Prediction accuracy for 2nd hero: 53.86\n"
     ]
    }
   ],
   "source": [
    "'''Self test is used. final_index_test5 contains the test target for 5th hero.\n",
    "    Similarly, final_index_test4 is for 4th hero, final_index_test3 is for 3rd hero, \n",
    "    final_index_test4 is for 2nd hero.\n",
    "'''\n",
    "my_ytest5 = np.array(final_index_test5)\n",
    "my_ytest4 = np.array(final_index_test4)\n",
    "my_ytest3 = np.array(final_index_test3)\n",
    "my_ytest2 = np.array(final_index_test2)\n",
    "\n",
    "my_ytest_finalhero5 = my_ytest5\n",
    "my_ytest_finalhero4 = my_ytest4\n",
    "my_ytest_finalhero3 = my_ytest3\n",
    "my_ytest_finalhero2 = my_ytest2\n",
    "\n",
    "#my_ytest_finalhero\n",
    "my_ypred5 = np.array(y_pred5)\n",
    "my_ypred4 = np.array(y_pred4)\n",
    "my_ypred3 = np.array(y_pred3)\n",
    "my_ypred2 = np.array(y_pred2)\n",
    "\n",
    "my_ypred_finalhero5 = my_ypred5\n",
    "my_ypred_finalhero4 = my_ypred4\n",
    "my_ypred_finalhero3 = my_ypred3\n",
    "my_ypred_finalhero2 = my_ypred2\n",
    "\n",
    "#my_ypred_finalhero\n",
    "totals = my_ytest5.shape[0]\n",
    "#totals\n",
    "num_correct5 = sum(p == t for p, t in zip(my_ypred_finalhero5, my_ytest_finalhero5))\n",
    "num_correct4 = sum(p == t for p, t in zip(my_ypred_finalhero4, my_ytest_finalhero4))\n",
    "num_correct3 = sum(p == t for p, t in zip(my_ypred_finalhero3, my_ytest_finalhero3))\n",
    "num_correct2 = sum(p == t for p, t in zip(my_ypred_finalhero2, my_ytest_finalhero2))\n",
    "\n",
    "#num_correct\n",
    "total5 = (num_correct5/totals)*100\n",
    "total4 = (num_correct4/totals)*100\n",
    "total3 = (num_correct3/totals)*100\n",
    "total2 = (num_correct2/totals)*100\n",
    "\n",
    "print(\"Prediction accuracy for 5th hero:\", total5)\n",
    "print(\"Prediction accuracy for 4th hero:\", total4)\n",
    "print(\"Prediction accuracy for 3rd hero:\", total3)\n",
    "print(\"Prediction accuracy for 2nd hero:\", total2)"
   ]
  },
  {
   "cell_type": "code",
   "execution_count": 93,
   "metadata": {},
   "outputs": [
    {
     "name": "stdout",
     "output_type": "stream",
     "text": [
      "[2 2 3 1 3 3 3 2 3 3]\n"
     ]
    }
   ],
   "source": [
    "print(final_index_test[10:20]) # [7, 2, 1, 0, 4]"
   ]
  },
  {
   "cell_type": "code",
   "execution_count": null,
   "metadata": {},
   "outputs": [],
   "source": []
  },
  {
   "cell_type": "code",
   "execution_count": null,
   "metadata": {},
   "outputs": [],
   "source": []
  },
  {
   "cell_type": "code",
   "execution_count": null,
   "metadata": {},
   "outputs": [],
   "source": []
  }
 ],
 "metadata": {
  "kernelspec": {
   "display_name": "Python 3",
   "language": "python",
   "name": "python3"
  },
  "language_info": {
   "codemirror_mode": {
    "name": "ipython",
    "version": 3
   },
   "file_extension": ".py",
   "mimetype": "text/x-python",
   "name": "python",
   "nbconvert_exporter": "python",
   "pygments_lexer": "ipython3",
   "version": "3.7.6"
  }
 },
 "nbformat": 4,
 "nbformat_minor": 4
}
