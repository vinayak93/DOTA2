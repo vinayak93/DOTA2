{
 "cells": [
  {
   "cell_type": "code",
   "execution_count": 1,
   "metadata": {},
   "outputs": [
    {
     "data": {
      "text/plain": [
       "'This notebook contains the LSTM model on top of CNN layer with word embeddings'"
      ]
     },
     "execution_count": 1,
     "metadata": {},
     "output_type": "execute_result"
    }
   ],
   "source": [
    "'''This notebook contains the LSTM model on top of CNN layer with word embeddings'''"
   ]
  },
  {
   "cell_type": "code",
   "execution_count": 2,
   "metadata": {},
   "outputs": [],
   "source": [
    "#Credits https://machinelearningmastery.com/time-series-prediction-lstm-recurrent-neural-networks-python-keras/\n",
    "#https://machinelearningmastery.com/how-to-make-classification-and-regression-predictions-for-deep-learning-models-in-keras/\n",
    "#https://machinelearningmastery.com/how-to-choose-loss-functions-when-training-deep-learning-neural-networks/"
   ]
  },
  {
   "cell_type": "code",
   "execution_count": 1,
   "metadata": {},
   "outputs": [],
   "source": [
    "'''Import the necessary Libraries'''\n",
    "import pandas as pd\n",
    "import numpy as np\n",
    "import datetime\n",
    "\n",
    "import tensorflow as tf\n",
    "import numpy\n",
    "from keras.datasets import imdb\n",
    "from keras.models import Sequential\n",
    "from keras.layers import Dense\n",
    "from keras.layers import LSTM\n",
    "from keras.layers.convolutional import Conv1D\n",
    "from keras.layers.convolutional import MaxPooling1D\n",
    "from keras.layers.embeddings import Embedding\n",
    "from keras.preprocessing import sequence\n",
    "\n",
    "from itertools import chain\n",
    "\n",
    "import sklearn_crfsuite\n",
    "from sklearn_crfsuite import scorers\n",
    "from sklearn_crfsuite import metrics\n",
    "\n",
    "import nltk\n",
    "import sklearn\n",
    "import scipy.stats\n",
    "from sklearn.metrics import make_scorer\n",
    "from sklearn.model_selection import cross_val_score\n",
    "from sklearn.model_selection import learning_curve, GridSearchCV\n",
    "\n",
    "from keras.utils import to_categorical"
   ]
  },
  {
   "cell_type": "code",
   "execution_count": 2,
   "metadata": {},
   "outputs": [],
   "source": [
    "from keras import backend as K\n",
    "\n",
    "def recall_m(y_true, y_pred):\n",
    "    true_positives = K.sum(K.round(K.clip(y_true * y_pred, 0, 1)))\n",
    "    possible_positives = K.sum(K.round(K.clip(y_true, 0, 1)))\n",
    "    recall = true_positives / (possible_positives + K.epsilon())\n",
    "    return recall\n",
    "\n",
    "def precision_m(y_true, y_pred):\n",
    "    true_positives = K.sum(K.round(K.clip(y_true * y_pred, 0, 1)))\n",
    "    predicted_positives = K.sum(K.round(K.clip(y_pred, 0, 1)))\n",
    "    precision = true_positives / (predicted_positives + K.epsilon())\n",
    "    return precision\n",
    "\n",
    "def f1_m(y_true, y_pred):\n",
    "    precision = precision_m(y_true, y_pred)\n",
    "    recall = recall_m(y_true, y_pred)\n",
    "    return 2*((precision*recall)/(precision+recall+K.epsilon()))"
   ]
  },
  {
   "cell_type": "code",
   "execution_count": 3,
   "metadata": {},
   "outputs": [],
   "source": [
    "'''Now we load the required data sets'''\n",
    "df = pd.read_csv(\"dataset_without_duplicates_Bans analysis.csv\")\n",
    "matrix1 =np.array(df.loc[:,['match_id','1hero_id','2hero_id','3hero_id','4hero_id']])\n",
    "df1 = pd.read_csv(\"hero_names.csv\")\n",
    "matrix2 =np.array(df1.loc[:,['hero_id', 'Strength','Agility','Intelligence']])\n",
    "\n",
    "def dataprep1(index):\n",
    "    my_input = matrix1[:,1:index]\n",
    "    my_output = matrix1[:,index]\n",
    "    train_x = my_input[:40000,:]\n",
    "    train_x = np.asarray(train_x).astype(np.float32)\n",
    "    #train_x = tf.convert_to_tensor(train_x)\n",
    "    train_y = my_output[:40000]\n",
    "    train_y = np.asarray(train_y).astype(np.float32)\n",
    "    #train_y = tf.convert_to_tensor(train_y)\n",
    "    test_x = my_input[40000:50000,:]\n",
    "    test_x = np.asarray(test_x).astype(np.float32)\n",
    "    test_y = my_output[40000:50000]\n",
    "    test_y = np.asarray(test_y).astype(np.float32)\n",
    "    train_y_cat = to_categorical(train_y)\n",
    "    #train_y_cat = tf.convert_to_tensor(train_y_cat)\n",
    "    test_y_cat = to_categorical(test_y)\n",
    "    #test_y_cat = tf.convert_to_tensor(test_y_cat)\n",
    "    return train_x,train_y_cat,test_x,test_y_cat\n"
   ]
  },
  {
   "cell_type": "code",
   "execution_count": 4,
   "metadata": {},
   "outputs": [],
   "source": [
    "'''Defining the model with embeddings along with CNN and LSTM. I have used adam optimizer with categorical crossentropy as our model predicts multiple classes.'''\n",
    "numpy.random.seed(7)\n",
    "# create the model\n",
    "def my_model(input_length_val,pool_size_val):\n",
    "    embedding_vecor_length = 32\n",
    "    model = Sequential()\n",
    "    model.add(Embedding(114, embedding_vecor_length, input_length=input_length_val))\n",
    "    model.add(Conv1D(filters=32, kernel_size=3, padding='same', activation='relu'))\n",
    "    model.add(MaxPooling1D(pool_size=pool_size_val))\n",
    "    model.add(LSTM(100))\n",
    "    model.add(Dense(113, activation='softmax'))\n",
    "    model.compile(loss='categorical_crossentropy', optimizer='adam', metrics=['acc',tf.keras.metrics.Precision(), tf.keras.metrics.Recall()])\n",
    "    print(model.summary())\n",
    "    return model"
   ]
  },
  {
   "cell_type": "code",
   "execution_count": 5,
   "metadata": {},
   "outputs": [
    {
     "name": "stdout",
     "output_type": "stream",
     "text": [
      "Model: \"sequential\"\n",
      "_________________________________________________________________\n",
      "Layer (type)                 Output Shape              Param #   \n",
      "=================================================================\n",
      "embedding (Embedding)        (None, 1, 32)             3648      \n",
      "_________________________________________________________________\n",
      "conv1d (Conv1D)              (None, 1, 32)             3104      \n",
      "_________________________________________________________________\n",
      "max_pooling1d (MaxPooling1D) (None, 1, 32)             0         \n",
      "_________________________________________________________________\n",
      "lstm (LSTM)                  (None, 100)               53200     \n",
      "_________________________________________________________________\n",
      "dense (Dense)                (None, 113)               11413     \n",
      "=================================================================\n",
      "Total params: 71,365\n",
      "Trainable params: 71,365\n",
      "Non-trainable params: 0\n",
      "_________________________________________________________________\n",
      "None\n",
      "Epoch 1/15\n",
      "1250/1250 [==============================] - 2s 2ms/step - loss: 3.3887 - acc: 0.1872 - precision: 0.3889 - recall: 3.5000e-04\n",
      "Epoch 2/15\n",
      "1250/1250 [==============================] - 2s 2ms/step - loss: 3.2192 - acc: 0.2333 - precision: 0.4171 - recall: 0.0018\n",
      "Epoch 3/15\n",
      "1250/1250 [==============================] - 2s 2ms/step - loss: 3.2048 - acc: 0.2339 - precision: 0.4250 - recall: 0.0021\n",
      "Epoch 4/15\n",
      "1250/1250 [==============================] - 3s 2ms/step - loss: 3.1959 - acc: 0.2334 - precision: 0.4674 - recall: 0.0011\n",
      "Epoch 5/15\n",
      "1250/1250 [==============================] - 2s 2ms/step - loss: 3.1908 - acc: 0.2350 - precision: 0.3443 - recall: 5.2500e-04\n",
      "Epoch 6/15\n",
      "1250/1250 [==============================] - 3s 2ms/step - loss: 3.1865 - acc: 0.2339 - precision: 0.4286 - recall: 4.5000e-04\n",
      "Epoch 7/15\n",
      "1250/1250 [==============================] - 3s 2ms/step - loss: 3.1821 - acc: 0.2346 - precision: 0.4318 - recall: 9.5000e-04\n",
      "Epoch 8/15\n",
      "1250/1250 [==============================] - 2s 2ms/step - loss: 3.1797 - acc: 0.2348 - precision: 0.3548 - recall: 8.2500e-04\n",
      "Epoch 9/15\n",
      "1250/1250 [==============================] - 3s 2ms/step - loss: 3.1778 - acc: 0.2334 - precision: 0.4054 - recall: 3.7500e-04\n",
      "Epoch 10/15\n",
      "1250/1250 [==============================] - 3s 2ms/step - loss: 3.1742 - acc: 0.2347 - precision: 0.3077 - recall: 1.0000e-04\n",
      "Epoch 11/15\n",
      "1250/1250 [==============================] - 3s 2ms/step - loss: 3.1734 - acc: 0.2347 - precision: 0.4000 - recall: 1.5000e-04\n",
      "Epoch 12/15\n",
      "1250/1250 [==============================] - 3s 2ms/step - loss: 3.1709 - acc: 0.2353 - precision: 0.5714 - recall: 1.0000e-04\n",
      "Epoch 13/15\n",
      "1250/1250 [==============================] - 2s 2ms/step - loss: 3.1700 - acc: 0.2345 - precision: 0.1429 - recall: 2.5000e-05\n",
      "Epoch 14/15\n",
      "1250/1250 [==============================] - 3s 2ms/step - loss: 3.1680 - acc: 0.2345 - precision: 0.4130 - recall: 4.7500e-04\n",
      "Epoch 15/15\n",
      "1250/1250 [==============================] - 2s 2ms/step - loss: 3.1664 - acc: 0.2353 - precision: 0.3846 - recall: 2.5000e-04\n",
      "313/313 [==============================] - 0s 1ms/step - loss: 3.3531 - acc: 0.1998 - precision: 0.0000e+00 - recall: 0.0000e+00\n",
      "loss is:  3.3530690670013428\n",
      "Accuracy is:  0.19979999959468842\n",
      "Precision is:  0.0\n",
      "Recall is:  0.0\n",
      "Model: \"sequential_1\"\n",
      "_________________________________________________________________\n",
      "Layer (type)                 Output Shape              Param #   \n",
      "=================================================================\n",
      "embedding_1 (Embedding)      (None, 2, 32)             3648      \n",
      "_________________________________________________________________\n",
      "conv1d_1 (Conv1D)            (None, 2, 32)             3104      \n",
      "_________________________________________________________________\n",
      "max_pooling1d_1 (MaxPooling1 (None, 1, 32)             0         \n",
      "_________________________________________________________________\n",
      "lstm_1 (LSTM)                (None, 100)               53200     \n",
      "_________________________________________________________________\n",
      "dense_1 (Dense)              (None, 113)               11413     \n",
      "=================================================================\n",
      "Total params: 71,365\n",
      "Trainable params: 71,365\n",
      "Non-trainable params: 0\n",
      "_________________________________________________________________\n",
      "None\n",
      "Epoch 1/15\n",
      "1250/1250 [==============================] - 3s 2ms/step - loss: 3.7180 - acc: 0.1161 - precision_1: 0.0000e+00 - recall_1: 0.0000e+00\n",
      "Epoch 2/15\n",
      "1250/1250 [==============================] - 3s 2ms/step - loss: 3.5326 - acc: 0.1618 - precision_1: 0.5556 - recall_1: 2.5000e-04\n",
      "Epoch 3/15\n",
      "1250/1250 [==============================] - 3s 2ms/step - loss: 3.4950 - acc: 0.1708 - precision_1: 0.0000e+00 - recall_1: 0.0000e+00\n",
      "Epoch 4/15\n",
      "1250/1250 [==============================] - 3s 2ms/step - loss: 3.4755 - acc: 0.1711 - precision_1: 0.3077 - recall_1: 1.0000e-04\n",
      "Epoch 5/15\n",
      "1250/1250 [==============================] - 4s 3ms/step - loss: 3.4641 - acc: 0.1716 - precision_1: 0.4167 - recall_1: 2.5000e-04\n",
      "Epoch 6/15\n",
      "1250/1250 [==============================] - 3s 3ms/step - loss: 3.4534 - acc: 0.1735 - precision_1: 0.3636 - recall_1: 4.0000e-04\n",
      "Epoch 7/15\n",
      "1250/1250 [==============================] - 3s 3ms/step - loss: 3.4443 - acc: 0.1741 - precision_1: 0.3636 - recall_1: 3.0000e-04\n",
      "Epoch 8/15\n",
      "1250/1250 [==============================] - 3s 2ms/step - loss: 3.4376 - acc: 0.1749 - precision_1: 0.4595 - recall_1: 4.2500e-04\n",
      "Epoch 9/15\n",
      "1250/1250 [==============================] - 3s 2ms/step - loss: 3.4300 - acc: 0.1765 - precision_1: 0.5217 - recall_1: 9.0000e-04\n",
      "Epoch 10/15\n",
      "1250/1250 [==============================] - 3s 2ms/step - loss: 3.4245 - acc: 0.1766 - precision_1: 0.4559 - recall_1: 7.7500e-04\n",
      "Epoch 11/15\n",
      "1250/1250 [==============================] - 3s 2ms/step - loss: 3.4174 - acc: 0.1762 - precision_1: 0.5429 - recall_1: 4.7500e-04\n",
      "Epoch 12/15\n",
      "1250/1250 [==============================] - 3s 2ms/step - loss: 3.4116 - acc: 0.1769 - precision_1: 0.4493 - recall_1: 7.7500e-04\n",
      "Epoch 13/15\n",
      "1250/1250 [==============================] - 2s 2ms/step - loss: 3.4042 - acc: 0.1777 - precision_1: 0.4750 - recall_1: 4.7500e-04\n",
      "Epoch 14/15\n",
      "1250/1250 [==============================] - 3s 2ms/step - loss: 3.3985 - acc: 0.1789 - precision_1: 0.5135 - recall_1: 9.5000e-04\n",
      "Epoch 15/15\n",
      "1250/1250 [==============================] - 3s 2ms/step - loss: 3.3922 - acc: 0.1787 - precision_1: 0.3929 - recall_1: 5.5000e-04\n",
      "313/313 [==============================] - 0s 1ms/step - loss: 3.6679 - acc: 0.1403 - precision_1: 0.0000e+00 - recall_1: 0.0000e+00\n",
      "loss is:  3.667879343032837\n",
      "Accuracy is:  0.14030000567436218\n",
      "Precision is:  0.0\n",
      "Recall is:  0.0\n",
      "Model: \"sequential_2\"\n",
      "_________________________________________________________________\n",
      "Layer (type)                 Output Shape              Param #   \n",
      "=================================================================\n",
      "embedding_2 (Embedding)      (None, 3, 32)             3648      \n",
      "_________________________________________________________________\n",
      "conv1d_2 (Conv1D)            (None, 3, 32)             3104      \n",
      "_________________________________________________________________\n",
      "max_pooling1d_2 (MaxPooling1 (None, 1, 32)             0         \n",
      "_________________________________________________________________\n",
      "lstm_2 (LSTM)                (None, 100)               53200     \n",
      "_________________________________________________________________\n",
      "dense_2 (Dense)              (None, 113)               11413     \n",
      "=================================================================\n",
      "Total params: 71,365\n",
      "Trainable params: 71,365\n",
      "Non-trainable params: 0\n",
      "_________________________________________________________________\n",
      "None\n",
      "Epoch 1/15\n",
      "1250/1250 [==============================] - 3s 2ms/step - loss: 3.7370 - acc: 0.1249 - precision_2: 0.5045 - recall_2: 0.0014\n",
      "Epoch 2/15\n",
      "1250/1250 [==============================] - 3s 2ms/step - loss: 3.5220 - acc: 0.1784 - precision_2: 0.5414 - recall_2: 0.0057\n",
      "Epoch 3/15\n",
      "1250/1250 [==============================] - 3s 2ms/step - loss: 3.4815 - acc: 0.1855 - precision_2: 0.5456 - recall_2: 0.0109\n",
      "Epoch 4/15\n"
     ]
    },
    {
     "name": "stdout",
     "output_type": "stream",
     "text": [
      "1250/1250 [==============================] - 2s 2ms/step - loss: 3.4614 - acc: 0.1869 - precision_2: 0.5371 - recall_2: 0.0123\n",
      "Epoch 5/15\n",
      "1250/1250 [==============================] - 2s 2ms/step - loss: 3.4465 - acc: 0.1898 - precision_2: 0.5513 - recall_2: 0.0126\n",
      "Epoch 6/15\n",
      "1250/1250 [==============================] - 2s 2ms/step - loss: 3.4348 - acc: 0.1907 - precision_2: 0.5508 - recall_2: 0.0137\n",
      "Epoch 7/15\n",
      "1250/1250 [==============================] - 3s 2ms/step - loss: 3.4247 - acc: 0.1929 - precision_2: 0.5285 - recall_2: 0.0142\n",
      "Epoch 8/15\n",
      "1250/1250 [==============================] - 3s 2ms/step - loss: 3.4145 - acc: 0.1945 - precision_2: 0.5310 - recall_2: 0.0154\n",
      "Epoch 9/15\n",
      "1250/1250 [==============================] - 2s 2ms/step - loss: 3.4058 - acc: 0.1942 - precision_2: 0.5340 - recall_2: 0.0155\n",
      "Epoch 10/15\n",
      "1250/1250 [==============================] - 3s 2ms/step - loss: 3.3962 - acc: 0.1952 - precision_2: 0.5420 - recall_2: 0.0155\n",
      "Epoch 11/15\n",
      "1250/1250 [==============================] - 3s 2ms/step - loss: 3.3872 - acc: 0.1984 - precision_2: 0.5377 - recall_2: 0.0170\n",
      "Epoch 12/15\n",
      "1250/1250 [==============================] - 2s 2ms/step - loss: 3.3788 - acc: 0.1987 - precision_2: 0.5579 - recall_2: 0.0171\n",
      "Epoch 13/15\n",
      "1250/1250 [==============================] - 3s 2ms/step - loss: 3.3700 - acc: 0.2006 - precision_2: 0.5332 - recall_2: 0.0177\n",
      "Epoch 14/15\n",
      "1250/1250 [==============================] - 3s 2ms/step - loss: 3.3625 - acc: 0.2002 - precision_2: 0.5459 - recall_2: 0.0181\n",
      "Epoch 15/15\n",
      "1250/1250 [==============================] - 3s 2ms/step - loss: 3.3532 - acc: 0.2013 - precision_2: 0.5515 - recall_2: 0.0195\n",
      "313/313 [==============================] - 0s 915us/step - loss: 3.7102 - acc: 0.1354 - precision_2: 0.2774 - recall_2: 0.0043\n",
      "loss is:  3.7102174758911133\n",
      "Accuracy is:  0.13539999723434448\n",
      "Precision is:  0.2774193584918976\n",
      "Recall is:  0.00430000014603138\n"
     ]
    }
   ],
   "source": [
    "for i in range(2,5):\n",
    "    train_x,train_y_cat,test_x,test_y_cat = dataprep1(i)\n",
    "    input_length_val = i-1\n",
    "    if i==3:    \n",
    "        pool_size_val = 2\n",
    "        batch_size_val = 32\n",
    "    elif i==4:\n",
    "        pool_size_val = 3\n",
    "        batch_size_val = 32\n",
    "    elif i==2:\n",
    "        pool_size_val = 1\n",
    "        batch_size_val = 32\n",
    "    \n",
    "    model = my_model(input_length_val,pool_size_val)\n",
    "    # fit the model\n",
    "    model.fit(train_x, train_y_cat, epochs=15, batch_size=batch_size_val)\n",
    "    \n",
    "\n",
    "\n",
    "    # evaluate the model\n",
    "    loss, accuracy, precision, recall = model.evaluate(test_x, test_y_cat, verbose=1)\n",
    "    #res = model.predict(test_x)\n",
    "    #print(\"Res is:\",res)\n",
    "    print(\"loss is: \", loss)\n",
    "    print(\"Accuracy is: \",accuracy)\n",
    "    print(\"Precision is: \",precision)\n",
    "    print(\"Recall is: \",recall)\n"
   ]
  },
  {
   "cell_type": "code",
   "execution_count": null,
   "metadata": {},
   "outputs": [],
   "source": [
    "'''The cells below are to be ignored as they are testing cells only'''"
   ]
  },
  {
   "cell_type": "code",
   "execution_count": 7,
   "metadata": {},
   "outputs": [],
   "source": [
    "\n",
    "#model.fit(train_x, train_y_cat, epochs=10, batch_size=32)\n",
    "# Final evaluation of the model\n",
    "##scores = model.evaluate(test_x, test_y_cat, verbose=1)\n",
    "##print(\"Accuracy: %.2f%%\" % (scores[1]*100))\n",
    "#predict_classes(object, x, batch_size = NULL, verbose = 0, steps = NULL)\n",
    "#class_vals = model.predict_classes(test_x, test_y_cat,verbose=1)\n",
    "##print(scores)\n",
    "#res = model.predict(test_x)\n"
   ]
  },
  {
   "cell_type": "code",
   "execution_count": 25,
   "metadata": {},
   "outputs": [
    {
     "data": {
      "text/plain": [
       "array([[4.6302646e-11, 2.0412136e-02, 5.5758455e-03, ..., 8.3727943e-04,\n",
       "        5.6127925e-11, 1.7126616e-02],\n",
       "       [2.5977874e-08, 2.4595298e-02, 8.7316809e-03, ..., 3.7359309e-03,\n",
       "        4.0153285e-08, 1.0456971e-02],\n",
       "       [2.5422263e-11, 1.6976409e-02, 7.7993367e-03, ..., 1.7016078e-04,\n",
       "        2.9651653e-11, 6.8962099e-03],\n",
       "       ...,\n",
       "       [5.0971623e-11, 2.0336319e-02, 3.6610698e-03, ..., 4.0176904e-04,\n",
       "        6.3429768e-11, 1.1689910e-02],\n",
       "       [1.1040675e-10, 2.7636470e-02, 3.2927773e-03, ..., 5.5798527e-04,\n",
       "        1.2071649e-10, 3.1962667e-02],\n",
       "       [2.1676995e-11, 3.9491843e-02, 4.2277668e-03, ..., 4.8325117e-05,\n",
       "        1.9527213e-11, 4.7792410e-03]], dtype=float32)"
      ]
     },
     "execution_count": 25,
     "metadata": {},
     "output_type": "execute_result"
    }
   ],
   "source": [
    "res"
   ]
  },
  {
   "cell_type": "code",
   "execution_count": 29,
   "metadata": {},
   "outputs": [
    {
     "name": "stdout",
     "output_type": "stream",
     "text": [
      "Ypred4 [85 73 30 ... 69 85  7]\n",
      "0.0\n"
     ]
    }
   ],
   "source": [
    "ypred4 = np.argmax(res, axis=1)\n",
    "print(\"Ypred4\", ypred4)\n",
    "#total_predictions_correct_4 = sum(p == t for p, t in zip(test_y, ypred4))\n",
    "#total_predictions_correct_4 = sum(p == t for p, t in zip(test_y_cat, res))\n",
    "counter = 0 \n",
    "for i in range(test_y_cat.shape[0]):\n",
    "    if test_y_cat[i].all()==ypred4[i].all():\n",
    "        counter=counter+1\n",
    "#accuracy_4 = total_predictions_correct_4/test_y.shape[0]\n",
    "accuracy_4 = counter/test_y_cat.shape[0]\n",
    "print(accuracy_4)\n"
   ]
  },
  {
   "cell_type": "code",
   "execution_count": 53,
   "metadata": {},
   "outputs": [
    {
     "name": "stdout",
     "output_type": "stream",
     "text": [
      "[3.610165596008301, 0.1526000052690506]\n"
     ]
    }
   ],
   "source": [
    "print(scores)"
   ]
  },
  {
   "cell_type": "code",
   "execution_count": 46,
   "metadata": {},
   "outputs": [
    {
     "data": {
      "text/plain": [
       "0.0144"
      ]
     },
     "execution_count": 46,
     "metadata": {},
     "output_type": "execute_result"
    }
   ],
   "source": [
    "class_vals = np.argmax(model.predict(test_x), axis=-1)\n",
    "class_vals.shape\n",
    "#test_y.shape\n",
    "count=0\n",
    "for i in class_vals:\n",
    "    if (class_vals[i]==test_y[i]):\n",
    "        count=count+1\n",
    "my_acc = count/class_vals.shape[0]\n",
    "my_acc"
   ]
  }
 ],
 "metadata": {
  "kernelspec": {
   "display_name": "Python 3",
   "language": "python",
   "name": "python3"
  },
  "language_info": {
   "codemirror_mode": {
    "name": "ipython",
    "version": 3
   },
   "file_extension": ".py",
   "mimetype": "text/x-python",
   "name": "python",
   "nbconvert_exporter": "python",
   "pygments_lexer": "ipython3",
   "version": "3.8.5"
  }
 },
 "nbformat": 4,
 "nbformat_minor": 4
}
